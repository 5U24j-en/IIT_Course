{
 "cells": [
  {
   "cell_type": "markdown",
   "id": "72020e8f-8416-4441-a853-727a2aada66b",
   "metadata": {},
   "source": [
    "# OS Module"
   ]
  },
  {
   "cell_type": "code",
   "execution_count": 1,
   "id": "a0b81b2c-47a0-4b86-aa01-e2b5e42ce5f4",
   "metadata": {},
   "outputs": [],
   "source": [
    "import os"
   ]
  },
  {
   "cell_type": "markdown",
   "id": "98ea1041-4cfd-4a47-97cd-80e297cc9521",
   "metadata": {},
   "source": [
    "# All Methods / Functions in the OS library"
   ]
  },
  {
   "cell_type": "code",
   "execution_count": 2,
   "id": "5a1a1c4d-0d80-4cd9-9d65-52f9e3c064ff",
   "metadata": {},
   "outputs": [
    {
     "name": "stdout",
     "output_type": "stream",
     "text": [
      "['CLD_CONTINUED', 'CLD_DUMPED', 'CLD_EXITED', 'CLD_KILLED', 'CLD_STOPPED', 'CLD_TRAPPED', 'CLONE_FILES', 'CLONE_FS', 'CLONE_NEWIPC', 'CLONE_NEWNET', 'CLONE_NEWNS', 'CLONE_NEWPID', 'CLONE_NEWUSER', 'CLONE_NEWUTS', 'CLONE_SIGHAND', 'CLONE_SYSVSEM', 'CLONE_THREAD', 'CLONE_VM', 'DirEntry', 'EFD_CLOEXEC', 'EFD_NONBLOCK', 'EFD_SEMAPHORE', 'EX_CANTCREAT', 'EX_CONFIG', 'EX_DATAERR', 'EX_IOERR', 'EX_NOHOST', 'EX_NOINPUT', 'EX_NOPERM', 'EX_NOUSER', 'EX_OK', 'EX_OSERR', 'EX_OSFILE', 'EX_PROTOCOL', 'EX_SOFTWARE', 'EX_TEMPFAIL', 'EX_UNAVAILABLE', 'EX_USAGE', 'F_LOCK', 'F_OK', 'F_TEST', 'F_TLOCK', 'F_ULOCK', 'GRND_NONBLOCK', 'GRND_RANDOM', 'GenericAlias', 'Mapping', 'MutableMapping', 'NGROUPS_MAX', 'O_ACCMODE', 'O_APPEND', 'O_ASYNC', 'O_CLOEXEC', 'O_CREAT', 'O_DIRECT', 'O_DIRECTORY', 'O_DSYNC', 'O_EXCL', 'O_FSYNC', 'O_LARGEFILE', 'O_NDELAY', 'O_NOATIME', 'O_NOCTTY', 'O_NOFOLLOW', 'O_NONBLOCK', 'O_PATH', 'O_RDONLY', 'O_RDWR', 'O_RSYNC', 'O_SYNC', 'O_TMPFILE', 'O_TRUNC', 'O_WRONLY', 'POSIX_FADV_DONTNEED', 'POSIX_FADV_NOREUSE', 'POSIX_FADV_NORMAL', 'POSIX_FADV_RANDOM', 'POSIX_FADV_SEQUENTIAL', 'POSIX_FADV_WILLNEED', 'POSIX_SPAWN_CLOSE', 'POSIX_SPAWN_DUP2', 'POSIX_SPAWN_OPEN', 'PRIO_PGRP', 'PRIO_PROCESS', 'PRIO_USER', 'P_ALL', 'P_NOWAIT', 'P_NOWAITO', 'P_PGID', 'P_PID', 'P_WAIT', 'PathLike', 'RTLD_DEEPBIND', 'RTLD_GLOBAL', 'RTLD_LAZY', 'RTLD_LOCAL', 'RTLD_NODELETE', 'RTLD_NOLOAD', 'RTLD_NOW', 'R_OK', 'SCHED_BATCH', 'SCHED_FIFO', 'SCHED_IDLE', 'SCHED_OTHER', 'SCHED_RESET_ON_FORK', 'SCHED_RR', 'SEEK_CUR', 'SEEK_DATA', 'SEEK_END', 'SEEK_HOLE', 'SEEK_SET', 'SPLICE_F_MORE', 'SPLICE_F_MOVE', 'SPLICE_F_NONBLOCK', 'ST_APPEND', 'ST_MANDLOCK', 'ST_NOATIME', 'ST_NODEV', 'ST_NODIRATIME', 'ST_NOEXEC', 'ST_NOSUID', 'ST_RDONLY', 'ST_RELATIME', 'ST_SYNCHRONOUS', 'ST_WRITE', 'TFD_CLOEXEC', 'TFD_NONBLOCK', 'TFD_TIMER_ABSTIME', 'TMP_MAX', 'WCONTINUED', 'WCOREDUMP', 'WEXITED', 'WEXITSTATUS', 'WIFCONTINUED', 'WIFEXITED', 'WIFSIGNALED', 'WIFSTOPPED', 'WNOHANG', 'WNOWAIT', 'WSTOPPED', 'WSTOPSIG', 'WTERMSIG', 'WUNTRACED', 'W_OK', 'XATTR_CREATE', 'XATTR_REPLACE', 'XATTR_SIZE_MAX', 'X_OK', '_Environ', '__all__', '__builtins__', '__cached__', '__doc__', '__file__', '__loader__', '__name__', '__package__', '__spec__', '_check_methods', '_execvpe', '_exists', '_exit', '_fspath', '_fwalk', '_fwalk_close', '_fwalk_walk', '_fwalk_yield', '_get_exports_list', '_spawnvef', '_walk_symlinks_as_files', '_wrap_close', 'abc', 'abort', 'access', 'altsep', 'chdir', 'chmod', 'chown', 'chroot', 'close', 'closerange', 'confstr', 'confstr_names', 'cpu_count', 'ctermid', 'curdir', 'defpath', 'device_encoding', 'devnull', 'dup', 'dup2', 'environ', 'environb', 'error', 'eventfd', 'eventfd_read', 'eventfd_write', 'execl', 'execle', 'execlp', 'execlpe', 'execv', 'execve', 'execvp', 'execvpe', 'extsep', 'fchdir', 'fchmod', 'fchown', 'fdatasync', 'fdopen', 'fork', 'forkpty', 'fpathconf', 'fsdecode', 'fsencode', 'fspath', 'fstat', 'fstatvfs', 'fsync', 'ftruncate', 'fwalk', 'get_blocking', 'get_exec_path', 'get_inheritable', 'get_terminal_size', 'getcwd', 'getcwdb', 'getegid', 'getenv', 'getenvb', 'geteuid', 'getgid', 'getgrouplist', 'getgroups', 'getloadavg', 'getlogin', 'getpgid', 'getpgrp', 'getpid', 'getppid', 'getpriority', 'getrandom', 'getresgid', 'getresuid', 'getsid', 'getuid', 'getxattr', 'grantpt', 'initgroups', 'isatty', 'kill', 'killpg', 'lchown', 'linesep', 'link', 'listdir', 'listxattr', 'lockf', 'login_tty', 'lseek', 'lstat', 'major', 'makedev', 'makedirs', 'minor', 'mkdir', 'mkfifo', 'mknod', 'name', 'nice', 'open', 'openpty', 'pardir', 'path', 'pathconf', 'pathconf_names', 'pathsep', 'pipe', 'pipe2', 'popen', 'posix_fadvise', 'posix_fallocate', 'posix_openpt', 'posix_spawn', 'posix_spawnp', 'pread', 'preadv', 'process_cpu_count', 'ptsname', 'putenv', 'pwrite', 'pwritev', 'read', 'readlink', 'readv', 'register_at_fork', 'remove', 'removedirs', 'removexattr', 'rename', 'renames', 'replace', 'rmdir', 'scandir', 'sched_get_priority_max', 'sched_get_priority_min', 'sched_getaffinity', 'sched_getparam', 'sched_getscheduler', 'sched_param', 'sched_rr_get_interval', 'sched_setaffinity', 'sched_setparam', 'sched_setscheduler', 'sched_yield', 'sendfile', 'sep', 'set_blocking', 'set_inheritable', 'setegid', 'seteuid', 'setgid', 'setgroups', 'setns', 'setpgid', 'setpgrp', 'setpriority', 'setregid', 'setresgid', 'setresuid', 'setreuid', 'setsid', 'setuid', 'setxattr', 'spawnl', 'spawnle', 'spawnlp', 'spawnlpe', 'spawnv', 'spawnve', 'spawnvp', 'spawnvpe', 'splice', 'st', 'stat', 'stat_result', 'statvfs', 'statvfs_result', 'strerror', 'supports_bytes_environ', 'supports_dir_fd', 'supports_effective_ids', 'supports_fd', 'supports_follow_symlinks', 'symlink', 'sync', 'sys', 'sysconf', 'sysconf_names', 'system', 'tcgetpgrp', 'tcsetpgrp', 'terminal_size', 'timerfd_create', 'timerfd_gettime', 'timerfd_gettime_ns', 'timerfd_settime', 'timerfd_settime_ns', 'times', 'times_result', 'truncate', 'ttyname', 'umask', 'uname', 'uname_result', 'unlink', 'unlockpt', 'unsetenv', 'unshare', 'urandom', 'utime', 'wait', 'wait3', 'wait4', 'waitid', 'waitid_result', 'waitpid', 'waitstatus_to_exitcode', 'walk', 'write', 'writev']\n"
     ]
    }
   ],
   "source": [
    "print(dir(os)) "
   ]
  },
  {
   "cell_type": "markdown",
   "id": "c2d66087-7b8c-4fec-b038-e58ecdf8af86",
   "metadata": {},
   "source": [
    "# To find the current working Directory"
   ]
  },
  {
   "cell_type": "code",
   "execution_count": 3,
   "id": "482e92ab-b54b-4d55-8b46-06c0e021a384",
   "metadata": {},
   "outputs": [
    {
     "name": "stdout",
     "output_type": "stream",
     "text": [
      "/home/diablo/Desktop/Py_Work-20250703T143414Z-1-001/Py_Work/Python Bootcamp\n"
     ]
    }
   ],
   "source": [
    "print(os.getcwd())  "
   ]
  },
  {
   "cell_type": "code",
   "execution_count": 4,
   "id": "e980d5a5-25d4-4db7-a666-71e9e1a80059",
   "metadata": {},
   "outputs": [],
   "source": [
    "os.chdir(\"/home/diablo/Desktop/\")  # Changes the Working Directory"
   ]
  },
  {
   "cell_type": "code",
   "execution_count": 5,
   "id": "55e88430-5659-4aa9-aa09-f3e944ea07bc",
   "metadata": {},
   "outputs": [
    {
     "name": "stdout",
     "output_type": "stream",
     "text": [
      "/home/diablo/Desktop\n"
     ]
    }
   ],
   "source": [
    "print(os.getcwd())  "
   ]
  },
  {
   "cell_type": "markdown",
   "id": "5766d4ec-7d4d-4527-8d9f-0347a995713f",
   "metadata": {},
   "source": [
    "## Key Distinctions\n",
    "\n",
    "- Files are not moved or relocated - os.chdir() doesn't physically move any files from one location to another. Your Python script file remains in its  original location, and all other files stay exactly where they were.\n",
    "\n",
    "- Working directory changes - What changes is where your program \"operates from\" when dealing with relative paths. After running os.chdir(\"/home/diablo/Desktop/\"), any relative file operations (like opening files without full paths) will be resolved relative to the Desktop directory.\n",
    "\n",
    "- So any new files if i create will be stored in \"/home/diablo/Desktop/\" path and not current directory"
   ]
  },
  {
   "cell_type": "code",
   "execution_count": 6,
   "id": "cc639efd-e75a-4930-bfbe-35faff7133cd",
   "metadata": {},
   "outputs": [
    {
     "name": "stdout",
     "output_type": "stream",
     "text": [
      "/home/diablo/Desktop/Py_Work-20250703T143414Z-1-001/Py_Work/Python Bootcamp\n"
     ]
    }
   ],
   "source": [
    "os.chdir(\"/home/diablo/Desktop/Py_Work-20250703T143414Z-1-001/Py_Work/Python Bootcamp\")\n",
    "print(os.getcwd())"
   ]
  },
  {
   "cell_type": "code",
   "execution_count": 8,
   "id": "ac0ea02f-febf-483d-9b4d-fabebc3b3227",
   "metadata": {},
   "outputs": [
    {
     "name": "stdout",
     "output_type": "stream",
     "text": [
      "['.ipynb_checkpoints', 'Untitled.ipynb', 'writingTextFile.txt', 'Slicing_Python.txt', 'Notes', 'test_textFile.txt', 'NewFolderCreatedUsingPython', 'FileHandling.ipynb', 'OS_Module.ipynb', '2sum.ipynb', 'new_textFile.txt']\n"
     ]
    }
   ],
   "source": [
    "print(os.listdir())  # You can also pass a Path "
   ]
  },
  {
   "cell_type": "code",
   "execution_count": 9,
   "id": "4691b2af-4478-4e70-bca0-b7e9418227da",
   "metadata": {},
   "outputs": [],
   "source": [
    "os.mkdir(\"OS_Module_Mkdir_Folder\") # This Creates only 1 folder and cannot create SUB FOLDERS "
   ]
  },
  {
   "cell_type": "code",
   "execution_count": 10,
   "id": "3f0a96a1-22ce-4119-8dec-d1b32d50220a",
   "metadata": {},
   "outputs": [
    {
     "name": "stdout",
     "output_type": "stream",
     "text": [
      "['.ipynb_checkpoints', 'Untitled.ipynb', 'OS_Module_Mkdir_Folder', 'writingTextFile.txt', 'Slicing_Python.txt', 'Notes', 'test_textFile.txt', 'NewFolderCreatedUsingPython', 'FileHandling.ipynb', 'OS_Module.ipynb', '2sum.ipynb', 'new_textFile.txt']\n"
     ]
    }
   ],
   "source": [
    "print(os.listdir())"
   ]
  },
  {
   "cell_type": "code",
   "execution_count": 11,
   "id": "074028fc-b72d-4579-8cda-73660e2334f8",
   "metadata": {},
   "outputs": [],
   "source": [
    "os.makedirs(\"OS_Module_makedirs/subFolder1\") # This is used to create multiple sub directories"
   ]
  },
  {
   "cell_type": "code",
   "execution_count": 12,
   "id": "5fb2ce77-d114-4bae-bd08-9fa8fbc3641d",
   "metadata": {},
   "outputs": [
    {
     "name": "stdout",
     "output_type": "stream",
     "text": [
      "['.ipynb_checkpoints', 'Untitled.ipynb', 'OS_Module_makedirs', 'OS_Module_Mkdir_Folder', 'writingTextFile.txt', 'Slicing_Python.txt', 'Notes', 'test_textFile.txt', 'NewFolderCreatedUsingPython', 'FileHandling.ipynb', 'OS_Module.ipynb', '2sum.ipynb', 'new_textFile.txt']\n"
     ]
    }
   ],
   "source": [
    "print(os.listdir())"
   ]
  },
  {
   "cell_type": "code",
   "execution_count": 13,
   "id": "d6de4997-ada9-4903-9c6a-b0b4e04b26a0",
   "metadata": {},
   "outputs": [],
   "source": [
    "os.rmdir(\"OS_Module_Mkdir_Folder\")  # Exact File path to me mentioned"
   ]
  },
  {
   "cell_type": "code",
   "execution_count": 14,
   "id": "0df30931-aae6-4095-aaa0-c4946be509bb",
   "metadata": {},
   "outputs": [
    {
     "name": "stdout",
     "output_type": "stream",
     "text": [
      "['.ipynb_checkpoints', 'Untitled.ipynb', 'OS_Module_makedirs', 'writingTextFile.txt', 'Slicing_Python.txt', 'Notes', 'test_textFile.txt', 'NewFolderCreatedUsingPython', 'FileHandling.ipynb', 'OS_Module.ipynb', '2sum.ipynb', 'new_textFile.txt']\n"
     ]
    }
   ],
   "source": [
    "print(os.listdir())"
   ]
  },
  {
   "cell_type": "code",
   "execution_count": 15,
   "id": "d82b2b75-fe37-45b1-9ea6-07d0c6ad24a3",
   "metadata": {},
   "outputs": [],
   "source": [
    "os.removedirs(\"OS_Module_makedirs/subFolder1\")"
   ]
  },
  {
   "cell_type": "code",
   "execution_count": 16,
   "id": "3c310795-2aec-4f0a-b366-9cda71220cf1",
   "metadata": {},
   "outputs": [
    {
     "name": "stdout",
     "output_type": "stream",
     "text": [
      "['.ipynb_checkpoints', 'Untitled.ipynb', 'writingTextFile.txt', 'Slicing_Python.txt', 'Notes', 'test_textFile.txt', 'NewFolderCreatedUsingPython', 'FileHandling.ipynb', 'OS_Module.ipynb', '2sum.ipynb', 'new_textFile.txt']\n"
     ]
    }
   ],
   "source": [
    "print(os.listdir()) # Lists all Directories in the File"
   ]
  },
  {
   "cell_type": "code",
   "execution_count": 17,
   "id": "70ae8ef0-85bf-4839-8ad5-604205f2a0fd",
   "metadata": {},
   "outputs": [
    {
     "name": "stdout",
     "output_type": "stream",
     "text": [
      "['.ipynb_checkpoints', 'Untitled.ipynb', 'TestFolder', 'writingTextFile.txt', 'Slicing_Python.txt', 'Notes', 'test_textFile.txt', 'NewFolderCreatedUsingPython', 'FileHandling.ipynb', 'OS_Module.ipynb', '2sum.ipynb', 'new_textFile.txt']\n"
     ]
    }
   ],
   "source": [
    "os.mkdir(\"TestFolder\")\n",
    "print(os.listdir())"
   ]
  },
  {
   "cell_type": "code",
   "execution_count": 18,
   "id": "31274782-569b-41c3-ac5d-4ac609093155",
   "metadata": {},
   "outputs": [
    {
     "name": "stdout",
     "output_type": "stream",
     "text": [
      "['.ipynb_checkpoints', 'Untitled.ipynb', 'writingTextFile.txt', 'Slicing_Python.txt', 'RenamedFolder', 'Notes', 'test_textFile.txt', 'NewFolderCreatedUsingPython', 'FileHandling.ipynb', 'OS_Module.ipynb', '2sum.ipynb', 'new_textFile.txt']\n"
     ]
    }
   ],
   "source": [
    "os.rename(\"TestFolder\", \"RenamedFolder\") # This can be done with any type of file\n",
    "print(os.listdir())"
   ]
  },
  {
   "cell_type": "code",
   "execution_count": 19,
   "id": "f7249fb3-7d0e-4dda-b1cd-3cfe0491a5da",
   "metadata": {},
   "outputs": [
    {
     "name": "stdout",
     "output_type": "stream",
     "text": [
      "os.stat_result(st_mode=33204, st_ino=6722244, st_dev=2053, st_nlink=1, st_uid=1000, st_gid=1000, st_size=296, st_atime=1757612793, st_mtime=1755968608, st_ctime=1755968608)\n"
     ]
    }
   ],
   "source": [
    "print(os.stat(\"writingTextFile.txt\"))    # Prints all details of the files "
   ]
  },
  {
   "cell_type": "code",
   "execution_count": 20,
   "id": "b1b18fd3-8dc8-4546-89b2-f8ba77475a47",
   "metadata": {},
   "outputs": [
    {
     "name": "stdout",
     "output_type": "stream",
     "text": [
      "296\n"
     ]
    }
   ],
   "source": [
    "print(os.stat(\"writingTextFile.txt\").st_size) # Size of the File "
   ]
  },
  {
   "cell_type": "code",
   "execution_count": 21,
   "id": "b5e24b47-890f-47c5-b21d-aa8d1853b34d",
   "metadata": {},
   "outputs": [
    {
     "name": "stdout",
     "output_type": "stream",
     "text": [
      "1755968608.9597633\n"
     ]
    }
   ],
   "source": [
    "print(os.stat(\"writingTextFile.txt\").st_mtime) # Last Modified Date of the File "
   ]
  },
  {
   "cell_type": "code",
   "execution_count": 22,
   "id": "36aae5c5-776d-4e9f-b5ec-cb59e43d4eb2",
   "metadata": {},
   "outputs": [],
   "source": [
    "from datetime import datetime"
   ]
  },
  {
   "cell_type": "code",
   "execution_count": 23,
   "id": "fd96be18-57d2-4fbf-b23e-db18a6d382ed",
   "metadata": {},
   "outputs": [
    {
     "name": "stdout",
     "output_type": "stream",
     "text": [
      "2025-08-23 22:33:28.959763\n"
     ]
    }
   ],
   "source": [
    "md_time=os.stat(\"writingTextFile.txt\").st_mtime # \n",
    "print(datetime.fromtimestamp(md_time))"
   ]
  },
  {
   "cell_type": "markdown",
   "id": "3c3aa0af-0573-4976-aa5b-4675db389ad5",
   "metadata": {},
   "source": [
    "# os.walk() \n",
    "\n",
    "### is a powerful Python function that recursively traverses a directory tree, generating file and directory names by walking through all subdirectories\n",
    "\n",
    "\n",
    "What It Returns\n",
    "\n",
    "For each directory it encounters, os.walk() yields a 3-tuple containing:\n",
    "\n",
    "   - dirpath: A string representing the current directory path\n",
    "\n",
    "   - dirnames: A list of subdirectory names within the current directory\n",
    "\n",
    "   - filenames: A list of file names (non-directories) within the current directory\n"
   ]
  },
  {
   "cell_type": "code",
   "execution_count": 28,
   "id": "6f085ab1-4890-4eb7-b39c-b5730fbc525e",
   "metadata": {},
   "outputs": [
    {
     "name": "stdout",
     "output_type": "stream",
     "text": [
      "Directory Path: /home/diablo/Desktop/Py_Work-20250703T143414Z-1-001/Py_Work/Python Bootcamp\n",
      "Sub Folders in the current Folder: ['.ipynb_checkpoints', 'RenamedFolder', 'Notes', 'NewFolderCreatedUsingPython']\n",
      "Files: ['Untitled.ipynb', 'writingTextFile.txt', 'Slicing_Python.txt', 'test_textFile.txt', 'FileHandling.ipynb', 'OS_Module.ipynb', '2sum.ipynb', 'new_textFile.txt']\n",
      "\n",
      "\n",
      "Directory Path: /home/diablo/Desktop/Py_Work-20250703T143414Z-1-001/Py_Work/Python Bootcamp/.ipynb_checkpoints\n",
      "Sub Folders in the current Folder: []\n",
      "Files: ['FileHandling-checkpoint.ipynb', 'OS_Module-checkpoint.ipynb', 'Untitled-checkpoint.ipynb', 'Practice+Exercise+1-checkpoint.ipynb', 'LIST_slicing_Indexing-checkpoint.ipynb', '2sum-checkpoint.ipynb']\n",
      "\n",
      "\n",
      "Directory Path: /home/diablo/Desktop/Py_Work-20250703T143414Z-1-001/Py_Work/Python Bootcamp/RenamedFolder\n",
      "Sub Folders in the current Folder: []\n",
      "Files: []\n",
      "\n",
      "\n",
      "Directory Path: /home/diablo/Desktop/Py_Work-20250703T143414Z-1-001/Py_Work/Python Bootcamp/Notes\n",
      "Sub Folders in the current Folder: ['.obsidian', 'files']\n",
      "Files: ['Program Working Directory.md', 'Program running vs program file location.md']\n",
      "\n",
      "\n",
      "Directory Path: /home/diablo/Desktop/Py_Work-20250703T143414Z-1-001/Py_Work/Python Bootcamp/Notes/.obsidian\n",
      "Sub Folders in the current Folder: []\n",
      "Files: ['core-plugins.json', 'app.json', 'appearance.json', 'workspace.json', 'graph.json']\n",
      "\n",
      "\n",
      "Directory Path: /home/diablo/Desktop/Py_Work-20250703T143414Z-1-001/Py_Work/Python Bootcamp/Notes/files\n",
      "Sub Folders in the current Folder: []\n",
      "Files: ['Pasted image 20250911231426.png', 'Pasted image 20250911231400.png']\n",
      "\n",
      "\n",
      "Directory Path: /home/diablo/Desktop/Py_Work-20250703T143414Z-1-001/Py_Work/Python Bootcamp/NewFolderCreatedUsingPython\n",
      "Sub Folders in the current Folder: []\n",
      "Files: ['SampleFile.txt']\n",
      "\n",
      "\n"
     ]
    }
   ],
   "source": [
    "for dirpath, dirnames, filenames in os.walk(\"/home/diablo/Desktop/Py_Work-20250703T143414Z-1-001/Py_Work/Python Bootcamp\"):\n",
    "    print(f\"Directory Path: {dirpath}\")\n",
    "    print(f\"Sub Folders in the current Folder: {dirnames}\")\n",
    "    print(f\"Files: {filenames}\")\n",
    "    print(\"\\n\")"
   ]
  },
  {
   "cell_type": "code",
   "execution_count": 29,
   "id": "5617ce2d-45a1-4e43-aa42-342283b82bc8",
   "metadata": {},
   "outputs": [
    {
     "name": "stdout",
     "output_type": "stream",
     "text": [
      "/home/diablo\n"
     ]
    }
   ],
   "source": [
    "print(os.environ.get(\"HOME\")) # This shows all the Print Variables "
   ]
  },
  {
   "cell_type": "code",
   "execution_count": 30,
   "id": "0adf5235-05c6-41c4-bd3d-0673b8a5ff57",
   "metadata": {},
   "outputs": [
    {
     "name": "stdout",
     "output_type": "stream",
     "text": [
      "/home/diablo/Sameple.txt\n"
     ]
    }
   ],
   "source": [
    "file_path=os.path.join(os.environ.get(\"HOME\"), \"Sameple.txt\") # Properly Joins the Paths\n",
    "print(file_path)"
   ]
  },
  {
   "cell_type": "code",
   "execution_count": 31,
   "id": "c08a3667-cd14-4a24-96fb-6117d0f81c17",
   "metadata": {},
   "outputs": [
    {
     "name": "stdout",
     "output_type": "stream",
     "text": [
      "sample.txt\n"
     ]
    }
   ],
   "source": [
    "print(os.path.basename(\"root/abc/DB/sample.txt\")) # Only prints the file "
   ]
  },
  {
   "cell_type": "code",
   "execution_count": 32,
   "id": "02dca224-49bf-4bcb-a799-6b43a1793050",
   "metadata": {},
   "outputs": [
    {
     "name": "stdout",
     "output_type": "stream",
     "text": [
      "root/abc/DB\n"
     ]
    }
   ],
   "source": [
    "print(os.path.dirname(\"root/abc/DB/sample.txt\")) # Prints the Directories "
   ]
  },
  {
   "cell_type": "code",
   "execution_count": 33,
   "id": "541dbcfc-fa14-49f1-b551-30c0c9c5a43b",
   "metadata": {},
   "outputs": [
    {
     "name": "stdout",
     "output_type": "stream",
     "text": [
      "('root/abc/DB', 'sample.txt')\n"
     ]
    }
   ],
   "source": [
    "print(os.path.split(\"root/abc/DB/sample.txt\")) # This splits the directory and Path"
   ]
  },
  {
   "cell_type": "code",
   "execution_count": 34,
   "id": "c02e9b8b-065b-45e4-a663-174b3ede4144",
   "metadata": {},
   "outputs": [
    {
     "name": "stdout",
     "output_type": "stream",
     "text": [
      "False\n"
     ]
    }
   ],
   "source": [
    "print(os.path.exists(\"root/abc/DB/sample.txt\")) # Checks if the Path exists"
   ]
  },
  {
   "cell_type": "code",
   "execution_count": 40,
   "id": "a4e60164-c9e5-4fca-a72d-bb949cd95526",
   "metadata": {},
   "outputs": [
    {
     "name": "stdout",
     "output_type": "stream",
     "text": [
      "False\n"
     ]
    }
   ],
   "source": [
    "print(os.path.isdir(\"root/abc/DB/sample.txt\")) # Check if this is a Directory !! This is false because the path does not exist and this is a file"
   ]
  },
  {
   "cell_type": "code",
   "execution_count": 36,
   "id": "a2c35dda-4977-4ced-b086-d90ed2342410",
   "metadata": {},
   "outputs": [
    {
     "name": "stdout",
     "output_type": "stream",
     "text": [
      "False\n"
     ]
    }
   ],
   "source": [
    "print(os.path.isfile(\"/home/diablo/Desktop/Py_Work-20250703T143414Z-1-001/Py_Work/Python Bootcamp/RenamedFolder\")) # Check if this is a File"
   ]
  },
  {
   "cell_type": "code",
   "execution_count": 41,
   "id": "fd281ee0-dbc7-4556-88e6-802c57109af4",
   "metadata": {},
   "outputs": [
    {
     "name": "stdout",
     "output_type": "stream",
     "text": [
      "True\n"
     ]
    }
   ],
   "source": [
    "print(os.path.isfile(\"/home/diablo/Desktop/Py_Work-20250703T143414Z-1-001/Py_Work/Python Bootcamp/new_textFile.txt\"))"
   ]
  },
  {
   "cell_type": "code",
   "execution_count": 42,
   "id": "6b635c7c-614e-4384-acf9-6c40c3576a8c",
   "metadata": {},
   "outputs": [
    {
     "name": "stdout",
     "output_type": "stream",
     "text": [
      "('/home/diablo/Desktop/Py_Work-20250703T143414Z-1-001/Py_Work/Python Bootcamp/new_textFile', '.txt')\n"
     ]
    }
   ],
   "source": [
    "print(os.path.splitext(\"/home/diablo/Desktop/Py_Work-20250703T143414Z-1-001/Py_Work/Python Bootcamp/new_textFile.txt\"))  # This gives out the extension"
   ]
  },
  {
   "cell_type": "code",
   "execution_count": 43,
   "id": "9cc94d51-7f02-401c-bc4e-f170c7e0abb5",
   "metadata": {},
   "outputs": [
    {
     "name": "stdout",
     "output_type": "stream",
     "text": [
      "['ALLOW_MISSING', '__all__', '__builtins__', '__cached__', '__doc__', '__file__', '__loader__', '__name__', '__package__', '__spec__', '_get_sep', '_varprog', '_varprogb', 'abspath', 'altsep', 'basename', 'commonpath', 'commonprefix', 'curdir', 'defpath', 'devnull', 'dirname', 'errno', 'exists', 'expanduser', 'expandvars', 'extsep', 'genericpath', 'getatime', 'getctime', 'getmtime', 'getsize', 'isabs', 'isdevdrive', 'isdir', 'isfile', 'isjunction', 'islink', 'ismount', 'join', 'lexists', 'normcase', 'normpath', 'os', 'pardir', 'pathsep', 'realpath', 'relpath', 'samefile', 'sameopenfile', 'samestat', 'sep', 'split', 'splitdrive', 'splitext', 'splitroot', 'stat', 'supports_unicode_filenames', 'sys']\n"
     ]
    }
   ],
   "source": [
    "print(dir(os.path))"
   ]
  },
  {
   "cell_type": "code",
   "execution_count": null,
   "id": "ebe49e25-972a-4d63-9fd3-5ea2c315f74c",
   "metadata": {},
   "outputs": [],
   "source": []
  }
 ],
 "metadata": {
  "kernelspec": {
   "display_name": "Python [conda env:base] *",
   "language": "python",
   "name": "conda-base-py"
  },
  "language_info": {
   "codemirror_mode": {
    "name": "ipython",
    "version": 3
   },
   "file_extension": ".py",
   "mimetype": "text/x-python",
   "name": "python",
   "nbconvert_exporter": "python",
   "pygments_lexer": "ipython3",
   "version": "3.13.5"
  }
 },
 "nbformat": 4,
 "nbformat_minor": 5
}
