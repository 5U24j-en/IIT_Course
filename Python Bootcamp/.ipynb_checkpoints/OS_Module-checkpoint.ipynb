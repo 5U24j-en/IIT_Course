{
 "cells": [
  {
   "cell_type": "markdown",
   "id": "995294b7-3476-46c8-9c79-09eb7424e3df",
   "metadata": {},
   "source": [
    "#### Calculate the salary by given Working Hours "
   ]
  },
  {
   "cell_type": "code",
   "execution_count": 20,
   "id": "1c899a67-2d42-47b3-9951-5e263cc98ea3",
   "metadata": {},
   "outputs": [
    {
     "name": "stdin",
     "output_type": "stream",
     "text": [
      "Enter the Working Hours seperated by spaces :  1 1 1 1 1\n",
      "Enter Hourly Wage rate:  5\n"
     ]
    },
    {
     "name": "stdout",
     "output_type": "stream",
     "text": [
      "Total hours worked this week:  5\n",
      "Total Salary earned is:  25\n"
     ]
    }
   ],
   "source": [
    "work_Hours = [int(x) for x in input(\"Enter the Working Hours seperated by spaces : \").split()]\n",
    "hourly_wage= int(input(\"Enter Hourly Wage rate: \"))\n",
    "total=sum(work_Hours)\n",
    "print(\"Total hours worked this week: \", total)\n",
    "print(\"Total Salary earned is: \", total*hourly_wage)\n"
   ]
  },
  {
   "cell_type": "markdown",
   "id": "8ea86eb2-6d65-4a43-9822-ba5ac8e1a66d",
   "metadata": {},
   "source": [
    "#### Checking and removing Duplicates in List"
   ]
  },
  {
   "cell_type": "code",
   "execution_count": 37,
   "id": "4d9b39e4-df9d-4f3d-919a-30a6959eef81",
   "metadata": {},
   "outputs": [
    {
     "name": "stdin",
     "output_type": "stream",
     "text": [
      "Enter the list seperated by space:  aa aa aa aa aa 1 1 1 123 3 4 5 3 \n"
     ]
    },
    {
     "name": "stdout",
     "output_type": "stream",
     "text": [
      "['aa', '1', '123', '3', '4', '5']\n",
      "['aa', '1', '123', '3', '4', '5']\n"
     ]
    }
   ],
   "source": [
    "l1=[x for x in input(\"Enter the list seperated by space: \").split()]\n",
    "l2=[]\n",
    "\n",
    "#Normal way\n",
    "\n",
    "for x in l1:\n",
    "    if x not in l2:\n",
    "        l2.append(x)\n",
    "print(l2)\n",
    "\n",
    "#Using comprehensions \n",
    "\n",
    "l3=[]\n",
    "[l3.append(x) for x in l1 if x not in l3]\n",
    "print(l3)\n",
    "\n"
   ]
  },
  {
   "cell_type": "markdown",
   "id": "5f7356a7-54e6-497c-b90a-7fddfd91b849",
   "metadata": {},
   "source": [
    "#### Concatinate all the integers in a list into single number."
   ]
  },
  {
   "cell_type": "code",
   "execution_count": 50,
   "id": "bdbe24fb-c7ff-4a00-a529-a03e7811feab",
   "metadata": {},
   "outputs": [
    {
     "name": "stdin",
     "output_type": "stream",
     "text": [
      "Enter only integers seperated by spaces:  1 1\n"
     ]
    },
    {
     "name": "stdout",
     "output_type": "stream",
     "text": [
      "11\n"
     ]
    }
   ],
   "source": [
    "l1 = [int(x) for x in input(\"Enter only integers seperated by spaces: \").split()]\n",
    "a=\"\"\n",
    "for x in l1:\n",
    "    a+=str(x)\n",
    "print(int(a))\n",
    "\n"
   ]
  },
  {
   "cell_type": "markdown",
   "id": "cdbeee35-4b74-4500-9291-b99664889400",
   "metadata": {},
   "source": [
    "#### Minimum index sum of two list"
   ]
  },
  {
   "cell_type": "code",
   "execution_count": 11,
   "id": "f61cd634-8b90-46c5-ae0e-c1dcbaf4b5ed",
   "metadata": {},
   "outputs": [
    {
     "name": "stdin",
     "output_type": "stream",
     "text": [
      "Enter your favourite dishs with least favourite in the last seperated by spaces:  chocolate pizza pasta chicken rice\n",
      "Enter your friends favourite dishs with least favourite in the last seperated by spaces:  rice pasta choco curry noodle \n"
     ]
    },
    {
     "name": "stdout",
     "output_type": "stream",
     "text": [
      "pasta\n"
     ]
    }
   ],
   "source": [
    "def MinIndex(X1, X2):\n",
    "    index1=len(X1)\n",
    "    index2=len(X2)\n",
    "    for x in X1:\n",
    "        if x in X2:\n",
    "            indx=X2.index(x)\n",
    "            if indx+X1.index(x)<index1+index2:\n",
    "                index1=X1.index(x)\n",
    "                index2=indx\n",
    "    \n",
    "    return X1[index1]\n",
    "\n",
    "L1 = [x for x in input(\"Enter your favourite dishs with least favourite in the last seperated by spaces: \" ).split()]\n",
    "L2 = [x for x in input(\"Enter your friends favourite dishs with least favourite in the last seperated by spaces: \" ).split()]\n",
    "dish=MinIndex(L1,L2)\n",
    "print(dish)"
   ]
  },
  {
   "cell_type": "markdown",
   "id": "366d8b05-0039-4fa2-96d3-ea2842ef7c47",
   "metadata": {},
   "source": [
    "#### Overlaping Elements for 2 lists"
   ]
  },
  {
   "cell_type": "code",
   "execution_count": 18,
   "id": "dddd9229-b2cc-4af8-9b55-5d29154dd648",
   "metadata": {},
   "outputs": [
    {
     "name": "stdin",
     "output_type": "stream",
     "text": [
      "Enter you list 1 seperated by spaces:  1 2 4 5\n",
      "Enter you list 2 seperated by spaces:  1 1 1 1 2 3 4\n"
     ]
    },
    {
     "name": "stdout",
     "output_type": "stream",
     "text": [
      "['1', '2', '4']\n"
     ]
    }
   ],
   "source": [
    "def OverLap(X1, X2):\n",
    "    final=[]\n",
    "    for x in X1:\n",
    "        if x in X2:\n",
    "            final.append(x)\n",
    "    return final\n",
    "    \n",
    "\n",
    "List1= [x for x in input(\"Enter you list 1 seperated by spaces: \").split()]\n",
    "List2 = [x for x in input(\"Enter you list 2 seperated by spaces: \").split()]\n",
    "\n",
    "result=OverLap(List1, List2)\n",
    "print(result)"
   ]
  },
  {
   "cell_type": "markdown",
   "id": "b5896ca0-b14f-4f4b-9295-a27755829efe",
   "metadata": {},
   "source": [
    "#### Unpacking and Packing"
   ]
  },
  {
   "cell_type": "code",
   "execution_count": 47,
   "id": "7180ca37-6577-443d-a62d-32c7d742f1f1",
   "metadata": {},
   "outputs": [
    {
     "name": "stdout",
     "output_type": "stream",
     "text": [
      "(1, 2, 3, 4, 5, 6, 7, 8)\n",
      "1 2 [3, 4, 5, 6, 7, 8]\n",
      "1 [2, 3, 4, 5, 6, 7] 8\n",
      "1 [2, 3, 4, 5, 6] 7 8\n"
     ]
    }
   ],
   "source": [
    "T1=1,2,3,4,5,6,7,8\n",
    "print(T1)\n",
    "a,b,*c = T1\n",
    "print(a,b,c)\n",
    "a,*b,c= T1\n",
    "print(a,b,c)\n",
    "a,*b,c,d= T1\n",
    "print(a,b,c,d)"
   ]
  },
  {
   "cell_type": "markdown",
   "id": "2d248eb0-86e3-479c-8375-81e9f6a0ab15",
   "metadata": {},
   "source": [
    "#### List Comprehension in a Coordinate system ( x, y, z)"
   ]
  },
  {
   "cell_type": "code",
   "execution_count": 3,
   "id": "ee7a650a-7304-4c85-bb3a-807614d8888d",
   "metadata": {},
   "outputs": [
    {
     "name": "stdout",
     "output_type": "stream",
     "text": [
      "0 0 0\n",
      "0 0 1\n",
      "0 0 2\n",
      "0 1 0\n",
      "0 1 1\n",
      "0 1 2\n",
      "0 2 0\n",
      "0 2 1\n",
      "0 2 2\n",
      "1 0 0\n",
      "1 0 1\n",
      "1 0 2\n",
      "1 1 0\n",
      "1 1 1\n",
      "1 1 2\n",
      "1 2 0\n",
      "1 2 1\n",
      "1 2 2\n",
      "2 0 0\n",
      "2 0 1\n",
      "2 0 2\n",
      "2 1 0\n",
      "2 1 1\n",
      "2 1 2\n",
      "2 2 0\n",
      "2 2 1\n",
      "2 2 2\n",
      "[[0, 0, 0], [0, 0, 1], [0, 0, 2], [0, 1, 0], [0, 1, 1], [0, 1, 2], [0, 2, 0], [0, 2, 1], [0, 2, 2], [1, 0, 0], [1, 0, 1], [1, 0, 2], [1, 1, 0], [1, 1, 1], [1, 1, 2], [1, 2, 0], [1, 2, 1], [1, 2, 2], [2, 0, 0], [2, 0, 1], [2, 0, 2], [2, 1, 0], [2, 1, 1], [2, 1, 2], [2, 2, 0], [2, 2, 1], [2, 2, 2]]\n"
     ]
    }
   ],
   "source": [
    "x=2\n",
    "y=2\n",
    "z=2\n",
    "\n",
    "for i in range(0,x+1):\n",
    "    for j in range(0,y+1):\n",
    "        for k in range(0,z+1):\n",
    "            print(i,j,k)\n",
    "\n",
    "L1=[[i,j,k] for i in range(0,x+1) for j in range(0,y+1) for k in range(0,z+1)]\n",
    "\n",
    "print(L1)"
   ]
  },
  {
   "cell_type": "code",
   "execution_count": 7,
   "id": "7e831e0e-b5b3-4eda-a524-a64ff8aee971",
   "metadata": {},
   "outputs": [
    {
     "name": "stdin",
     "output_type": "stream",
     "text": [
      " 5 \n",
      " 1 2 3 4 5\n"
     ]
    },
    {
     "data": {
      "text/plain": [
       "<map at 0x1cb0c8dba30>"
      ]
     },
     "execution_count": 7,
     "metadata": {},
     "output_type": "execute_result"
    }
   ],
   "source": [
    "n = int(input())\n",
    "arr = map(int, input().split())\n",
    "arr\n"
   ]
  },
  {
   "cell_type": "code",
   "execution_count": 25,
   "id": "b5004a82-1c50-4d95-9aed-45a66649bd48",
   "metadata": {},
   "outputs": [
    {
     "name": "stdout",
     "output_type": "stream",
     "text": [
      "1\n",
      "2\n",
      "3\n",
      "4\n",
      "5\n",
      "6\n",
      "7\n",
      "<class 'set'>\n"
     ]
    }
   ],
   "source": [
    "S1=set((1,2,3,4,5,6,7))\n",
    "for x in S1:\n",
    "    print(x)\n",
    "print(type(S1))\n"
   ]
  },
  {
   "cell_type": "markdown",
   "id": "1b2fb2fe-f715-4890-b2e5-fbaacf9b9298",
   "metadata": {},
   "source": [
    "####\n",
    "Given the names and grades for each student in a class of\n",
    "\n",
    "students, store them in a nested list and print the name(s) of any student(s) having the second lowest grade.\n",
    "\n",
    "Note: If there are multiple students with the second lowest grade, order their names alphabetically and print each name on a new line.\n",
    "\n",
    "Example\n",
    "The ordered list of scores is , so the second lowest score is . There are two students with that score:\n",
    "\n",
    ". Ordered alphabetically, the names are printed as:\n",
    "\n",
    "alpha\n",
    "beta\n",
    "\n",
    "Input Format\n",
    "\n",
    "The first line contains an integer,\n",
    ", the number of students.\n",
    "The subsequent lines describe each student over\n",
    "\n",
    "lines.\n",
    "- The first line contains a student's name.\n",
    "- The second line contains their grade.\n",
    "\n",
    "Constraints\n",
    "\n",
    "    There will always be one or more students having the second lowest grade.\n",
    "\n",
    "Output Format\n",
    "\n",
    "Print the name(s) of any student(s) having the second lowest grade in. If there are multiple students, order their names alphabetically and print each one on a new line.\n",
    "\n",
    "Sample Input 0\n",
    "\n",
    "5\n",
    "Harry\n",
    "37.21\n",
    "Berry\n",
    "37.21\n",
    "Tina\n",
    "37.2\n",
    "Akriti\n",
    "41\n",
    "Harsh\n",
    "39\n",
    "\n",
    "Sample Output 0\n",
    "\n",
    "Berry\n",
    "Harry\n",
    "\n",
    "Explanation 0\n",
    "\n",
    "There are\n",
    "\n",
    "students in this class whose names and grades are assembled to build the following list:\n",
    "\n",
    "python students = [['Harry', 37.21], ['Berry', 37.21], ['Tina', 37.2], ['Akriti', 41], ['Harsh', 39]]\n",
    "\n",
    "The lowest grade of\n",
    "belongs to Tina. The second lowest grade of belongs to both Harry and Berry, so we order their names alphabetically and print each name on a new line."
   ]
  },
  {
   "cell_type": "code",
   "execution_count": null,
   "id": "f9427658-be81-45bb-aa13-ff358b724031",
   "metadata": {},
   "outputs": [],
   "source": []
  },
  {
   "cell_type": "code",
   "execution_count": 1,
   "id": "3d57f0af-3cad-4bb3-90a2-bd2faf42c1ff",
   "metadata": {},
   "outputs": [
    {
     "name": "stdout",
     "output_type": "stream",
     "text": [
      "0\n"
     ]
    }
   ],
   "source": [
    "def erange(n):\n",
    "    i=0\n",
    "    while i<n:\n",
    "        return i\n",
    "        i+=1\n",
    "\n",
    "\n",
    "print(erange(4))\n"
   ]
  },
  {
   "cell_type": "markdown",
   "id": "6ae9c834-92ea-4512-91f6-ee1e5eda7f89",
   "metadata": {},
   "source": [
    "#### Generator Function |||| yield -> keyword"
   ]
  },
  {
   "cell_type": "code",
   "execution_count": 20,
   "id": "035f9b52-6a0b-40d6-9b1d-80b4992026e9",
   "metadata": {},
   "outputs": [
    {
     "name": "stdout",
     "output_type": "stream",
     "text": [
      "monday\n",
      "tuesday\n",
      "wednesday\n",
      "thursday\n",
      "friday\n",
      "saturday\n",
      "sunday\n",
      "monday\n",
      "tuesday\n"
     ]
    }
   ],
   "source": [
    "def erange(L1):\n",
    "    \n",
    "    i=0\n",
    "    while True:\n",
    "        yield L1[i]\n",
    "        i=(i+1)%7\n",
    "\n",
    "\n",
    "L1=['monday','tuesday','wednesday','thursday','friday','saturday','sunday']\n",
    "\n",
    "day=erange(L1)\n",
    "print(next(day))\n",
    "print(next(day))\n",
    "print(next(day))\n",
    "print(next(day))\n",
    "print(next(day))\n",
    "print(next(day))\n",
    "print(next(day))\n",
    "print(next(day))\n",
    "print(next(day))"
   ]
  },
  {
   "cell_type": "code",
   "execution_count": null,
   "id": "d523f8b6-ebe2-42ea-832f-f833b3131fe0",
   "metadata": {},
   "outputs": [],
   "source": []
  }
 ],
 "metadata": {
  "kernelspec": {
   "display_name": "Python [conda env:base] *",
   "language": "python",
   "name": "conda-base-py"
  },
  "language_info": {
   "codemirror_mode": {
    "name": "ipython",
    "version": 3
   },
   "file_extension": ".py",
   "mimetype": "text/x-python",
   "name": "python",
   "nbconvert_exporter": "python",
   "pygments_lexer": "ipython3",
   "version": "3.12.7"
  }
 },
 "nbformat": 4,
 "nbformat_minor": 5
}
