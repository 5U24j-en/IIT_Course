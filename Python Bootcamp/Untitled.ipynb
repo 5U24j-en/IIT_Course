{
 "cells": [
  {
   "cell_type": "code",
   "execution_count": 1,
   "id": "d89a214a-419d-44a0-b227-e1b5d5c3ff58",
   "metadata": {},
   "outputs": [
    {
     "name": "stdout",
     "output_type": "stream",
     "text": [
      "{'abc': '123ar45', 'bcd': '3223 ar+', 'arc': '1233 311a'}\n"
     ]
    }
   ],
   "source": [
    "data={\n",
    "    \"abc\":\"123ar45\",\n",
    "    \"bcd\":\"3223 ar+\",\n",
    "    \"arc\":\"1233 311a\"\n",
    "}\n",
    "\n",
    "print(data)"
   ]
  },
  {
   "cell_type": "code",
   "execution_count": 4,
   "id": "61744d99-5e52-47b3-a634-c7d2f59479aa",
   "metadata": {},
   "outputs": [
    {
     "name": "stdout",
     "output_type": "stream",
     "text": [
      "1\n",
      "2\n",
      "3\n",
      "4\n",
      "5\n",
      "3\n",
      "2\n",
      "2\n",
      "3\n",
      "1\n",
      "2\n",
      "3\n",
      "3\n",
      "3\n",
      "1\n",
      "1\n",
      "{'abc': '12345', 'bcd': '3223', 'arc': '1233311'}\n"
     ]
    }
   ],
   "source": [
    "for x in data:\n",
    "    temp=\"\"\n",
    "    for y in data[x]:\n",
    "        if y.isnumeric():\n",
    "            print(y)\n",
    "            temp+=y\n",
    "        else:\n",
    "            continue\n",
    "\n",
    "    data[x]=temp\n",
    "\n",
    "print(data)\n",
    "            "
   ]
  },
  {
   "cell_type": "code",
   "execution_count": null,
   "id": "2b0a93eb-632b-4f43-91e6-cf53aff951a2",
   "metadata": {},
   "outputs": [],
   "source": []
  }
 ],
 "metadata": {
  "kernelspec": {
   "display_name": "Python [conda env:base] *",
   "language": "python",
   "name": "conda-base-py"
  },
  "language_info": {
   "codemirror_mode": {
    "name": "ipython",
    "version": 3
   },
   "file_extension": ".py",
   "mimetype": "text/x-python",
   "name": "python",
   "nbconvert_exporter": "python",
   "pygments_lexer": "ipython3",
   "version": "3.13.5"
  }
 },
 "nbformat": 4,
 "nbformat_minor": 5
}
