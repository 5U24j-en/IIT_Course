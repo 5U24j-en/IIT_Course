{
 "cells": [
  {
   "cell_type": "markdown",
   "id": "ca26c009-5ac1-4516-8416-539944a55e2e",
   "metadata": {},
   "source": [
    "# File Handling Python"
   ]
  },
  {
   "cell_type": "markdown",
   "id": "7acb1b02-d10c-490e-939d-75e3db0f864a",
   "metadata": {},
   "source": [
    "#### open() , opens files - Prarameters = (\"Filename\", \"Mode of editing , example- read, write, etc\")\n",
    "\n",
    "open(file, mode='r', buffering=-1, encoding=None, errors=None, newline=None, closefd=True, opener=None)\n",
    "\n",
    "Positional arguments\n",
    "\n",
    "    file: Path-like or file descriptor (if opener/closefd used). Specifies which file to open.\n",
    "\n",
    "mode: How to open the file. Defaults to 'r' (text read). Common flags can be combined (e.g., 'rb', 'w+', 'a+b').\n",
    "\n",
    "Typical mode characters:\n",
    "\n",
    "    'r' — read (error if missing)\n",
    "\n",
    "    'w' — write, truncate or create\n",
    "\n",
    "    'x' — exclusive create, fail if exists\n",
    "\n",
    "    'a' — append, create if missing\n",
    "\n",
    "    'b' — binary mode\n",
    "\n",
    "    't' — text mode (default)\n",
    "\n",
    "    '+' — update (read and write)\n",
    "\n",
    "Examples:\n",
    "\n",
    "    'rb' — read binary\n",
    "\n",
    "    'w+' — read/write, truncate or create\n",
    "\n",
    "    'a+' — read/append, create if missing\n",
    "\n",
    "Keyword-only arguments\n",
    "\n",
    "    buffering: Controls I/O buffering.\n",
    "\n",
    "        -1 uses default, 0 unbuffered (binary only), 1 line-buffered (text), >1 is buffer size.\n",
    "\n",
    "encoding: Text encoding like 'utf-8' (use with text modes). If None in text mode, platform default is used.\n",
    "\n",
    "errors: Error handling for encode/decode (e.g., 'strict', 'ignore', 'replace').\n",
    "\n",
    "newline: How newlines are handled in text mode:\n",
    "\n",
    "    None enables universal newline translation; values like '\\n', '\\r', '\\r\\n' control translation.\n",
    "\n",
    "closefd: If file is an int file descriptor and closefd=False, the underlying FD won’t be closed when the file object closes; otherwise it must be True.\n",
    "\n",
    "opener: Custom opener callable (file, flags) -> fd to control file descriptor creation (e.g., set flags).\n"
   ]
  },
  {
   "cell_type": "code",
   "execution_count": 6,
   "id": "62d0d2ff-460e-4991-ae27-f44d54af2db2",
   "metadata": {},
   "outputs": [],
   "source": [
    "var = open(\"test_textFile.txt\", \"w\")\n",
    "var.write(\"Sample text writing - TEST 1 \\n\")\n",
    "var.close()"
   ]
  },
  {
   "cell_type": "markdown",
   "id": "114f03b4-4a23-4f22-a89e-1638f7d7f529",
   "metadata": {},
   "source": [
    "## With Statement - Automatically closes the file (No close statements)"
   ]
  },
  {
   "cell_type": "code",
   "execution_count": 7,
   "id": "d942d6c0-1642-43c2-a89c-c2d734629573",
   "metadata": {},
   "outputs": [],
   "source": [
    "with open(\"new_textFile.txt\", \"a\") as var2:\n",
    "    var2.write(\"test input - TEST 2 \\n\")\n",
    "    "
   ]
  },
  {
   "cell_type": "markdown",
   "id": "740decbd-7871-4f2e-92c6-348683d039dc",
   "metadata": {},
   "source": [
    "# Reading File in Python - \n",
    "\n",
    "    .read() - entire file content as single string\n",
    "    .readline() - one line at a time --> arguments size - example 10 is first 10 characters\n",
    "    .readlines() - reads all lines and returns a list of strings"
   ]
  },
  {
   "cell_type": "code",
   "execution_count": 8,
   "id": "184bda52-578b-4f68-a9d3-33944b1cc9a7",
   "metadata": {},
   "outputs": [],
   "source": [
    "with open(\"test_textFile.txt\", \"a\") as var3:\n",
    "    var3.write(\"John Doe is here \\n\")\n",
    "    var3.write(\"Frank Gallager \\n\")\n",
    "    var3.write(\"Lian Gallager \\n\")\n",
    "    var3.write(\"lopsum lipsum \\n\")\n"
   ]
  },
  {
   "cell_type": "code",
   "execution_count": 9,
   "id": "34834a38-4ea4-4f93-a9b8-f736e015ac42",
   "metadata": {},
   "outputs": [],
   "source": [
    "with open(\"test_textFile.txt\", \"r\") as var4:\n",
    "    fileContent=var4.readlines()  # Reads all the lines from the file into a list\n",
    "\n"
   ]
  },
  {
   "cell_type": "code",
   "execution_count": 10,
   "id": "1b59705f-fabd-40ec-89f4-4fb9b8460c14",
   "metadata": {},
   "outputs": [
    {
     "name": "stdout",
     "output_type": "stream",
     "text": [
      "Output for readlines()\n",
      "+Sample text writing - TEST 1\n",
      "+John Doe is here\n",
      "+Frank Gallager\n",
      "+Lian Gallager\n",
      "+John Doe is here\n",
      "+Frank Gallager\n",
      "+Lian Gallager\n",
      "+lopsum lipsum\n"
     ]
    }
   ],
   "source": [
    "print(\"Output for readlines()\")\n",
    "for line in fileContent:\n",
    "    print(\"+\"+line.strip())"
   ]
  },
  {
   "cell_type": "code",
   "execution_count": 11,
   "id": "c6200459-ce4a-431d-9bbc-3cd1cbbe0355",
   "metadata": {},
   "outputs": [
    {
     "name": "stdout",
     "output_type": "stream",
     "text": [
      "Sample text writing - TEST 1 \n",
      "\n"
     ]
    }
   ],
   "source": [
    "with open(\"test_textFile.txt\", \"r\") as var5:\n",
    "    fileContent2 = var5.readline()\n",
    "\n",
    "print(fileContent2)"
   ]
  },
  {
   "cell_type": "code",
   "execution_count": 13,
   "id": "eca99ea5-bd27-4df2-b87f-a515c680773b",
   "metadata": {},
   "outputs": [
    {
     "name": "stdout",
     "output_type": "stream",
     "text": [
      "Sampl\n"
     ]
    }
   ],
   "source": [
    "with open(\"test_textFile.txt\", \"r\") as var6:\n",
    "    fileContent3 = var6.readline(5)\n",
    "\n",
    "print(fileContent3)"
   ]
  },
  {
   "cell_type": "code",
   "execution_count": 15,
   "id": "3885e26a-82c3-4c81-943e-f723e895c843",
   "metadata": {},
   "outputs": [
    {
     "name": "stdout",
     "output_type": "stream",
     "text": [
      "Sample text writing - TEST 1 \n",
      "John Doe is here \n",
      "Frank Gallager \n",
      "Lian Gallager \n",
      "John Doe is here \n",
      "Frank Gallager \n",
      "Lian Gallager \n",
      "lopsum lipsum \n",
      "\n"
     ]
    }
   ],
   "source": [
    "with open(\"test_textFile.txt\", \"r\") as var7:\n",
    "    fileContent4=var7.read()\n",
    "\n",
    "print(fileContent4)"
   ]
  },
  {
   "cell_type": "markdown",
   "id": "ceba38d2-d427-4873-8c85-a70e1bb8dd27",
   "metadata": {},
   "source": [
    "# Writing File "
   ]
  },
  {
   "cell_type": "code",
   "execution_count": 19,
   "id": "9d4eff52-6c99-434a-bbf7-0c98df3f9c2a",
   "metadata": {},
   "outputs": [],
   "source": [
    "content= \"lorum ipsum \\n Is this a new line - using tab \\t did it work? \\n\"\n",
    "content2= \"\"\" Direct multiline formating using tripple quotes\n",
    "-------------------------------\n",
    "\n",
    "WOW i can type anything in the code\n",
    "\n",
    "===============================\n",
    "\n",
    "No need of \\n or tabs i thinkk\n",
    "\n",
    "Oh wait '\\ n' works\n",
    "\n",
    "+++++++++++++++++++++++++++++++\"\"\"\n",
    "\n",
    "\n",
    "with open(\"writingTextFile.txt\", \"w\") as file:\n",
    "    file.write(content+content2)"
   ]
  },
  {
   "cell_type": "markdown",
   "id": "5314c7b2-0132-4cc2-9b5f-c7c5943e9419",
   "metadata": {},
   "source": [
    "# pathlib library -->  saving files in specific path"
   ]
  },
  {
   "cell_type": "code",
   "execution_count": 20,
   "id": "993294d6-5e28-434e-b67b-1ab14ed60171",
   "metadata": {},
   "outputs": [
    {
     "name": "stdout",
     "output_type": "stream",
     "text": [
      "Action Complete: /home/diablo/Desktop/Py_Work-20250703T143414Z-1-001/Py_Work/Python Bootcamp/NewFolderCreatedUsingPython/SampleFile.txt\n"
     ]
    }
   ],
   "source": [
    "from pathlib import Path\n",
    "\n",
    "new_dir= Path(\"NewFolderCreatedUsingPython\")  # directory vairable that has the Folder name OR defining directory features --(We used relative path i.e the Folder is in the same folder as the Jupyter notebook)\n",
    "\n",
    "new_dir.mkdir(exist_ok=True)                  # Creating the directory\n",
    "new_file=new_dir / \"SampleFile.txt\"           # Creating a file in that directory\n",
    "with new_file.open('w') as file:              # Opening the file in Write mode and adding content\n",
    "    file.write(\"Creating folders and files in Python using pathlib\")  \n",
    "\n",
    "print(f\"Action Complete: {new_file.resolve()}\")\n"
   ]
  },
  {
   "cell_type": "markdown",
   "id": "025ef21e-373e-4412-832c-306b9be70020",
   "metadata": {},
   "source": [
    "# Error Handling "
   ]
  },
  {
   "cell_type": "code",
   "execution_count": null,
   "id": "f50c5e1d-22b4-4a65-8b00-a93eba9e0f3b",
   "metadata": {},
   "outputs": [],
   "source": []
  }
 ],
 "metadata": {
  "kernelspec": {
   "display_name": "Python [conda env:base] *",
   "language": "python",
   "name": "conda-base-py"
  },
  "language_info": {
   "codemirror_mode": {
    "name": "ipython",
    "version": 3
   },
   "file_extension": ".py",
   "mimetype": "text/x-python",
   "name": "python",
   "nbconvert_exporter": "python",
   "pygments_lexer": "ipython3",
   "version": "3.13.5"
  }
 },
 "nbformat": 4,
 "nbformat_minor": 5
}
