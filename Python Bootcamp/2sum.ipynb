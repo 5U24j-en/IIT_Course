{
 "cells": [
  {
   "cell_type": "code",
   "execution_count": 19,
   "id": "118c93ac-e5da-4ec5-b7dc-998d00f244fe",
   "metadata": {},
   "outputs": [],
   "source": [
    "def twosum(arr, num):  #brute force method\n",
    "    temp=arr[0]\n",
    "    sol=0\n",
    "    ans=[]\n",
    "    xyz=0\n",
    "    for x in arr:\n",
    "        \n",
    "        for i in range(xyz,len(arr)):\n",
    "            if x!=arr[i]:\n",
    "                if x+arr[i]==num:\n",
    "                    templist=[x,arr[i]]\n",
    "                    ans.append(templist)\n",
    "            \n",
    "        xyz+=1\n",
    "        \n",
    "        \n",
    "    return ans\n",
    "            \n",
    "            \n",
    "        \n",
    "    "
   ]
  },
  {
   "cell_type": "code",
   "execution_count": 20,
   "id": "0bc3a90e-48e8-42b2-aa4a-8399edf9f270",
   "metadata": {},
   "outputs": [
    {
     "name": "stdout",
     "output_type": "stream",
     "text": [
      "[[-4, 4], [3, -3]]\n"
     ]
    }
   ],
   "source": [
    "print(twosum([-4,3,5,4,-3],0))"
   ]
  },
  {
   "cell_type": "code",
   "execution_count": 5,
   "id": "be9d423d-500b-4105-ba16-4e0669e0994c",
   "metadata": {},
   "outputs": [],
   "source": [
    "def ValidBrack(string):\n",
    "    stack=[]\n",
    "    mapping= {')':'(', '}':'{', ']':'[' }\n",
    "    for x in string:\n",
    "        if x in mapping:\n",
    "            if not stack:\n",
    "                return False\n",
    "            top = stack.pop()\n",
    "            if top!=mapping[x]:\n",
    "                return False\n",
    "            else:\n",
    "                return True\n",
    "\n",
    "        else:\n",
    "            stack.append(x)\n",
    "    if not stack: \n",
    "        return False\n",
    "    \n",
    "    "
   ]
  },
  {
   "cell_type": "code",
   "execution_count": 11,
   "id": "c9e96a4a-1663-4b37-8987-f307d7e8da10",
   "metadata": {},
   "outputs": [
    {
     "data": {
      "text/plain": [
       "False"
      ]
     },
     "execution_count": 11,
     "metadata": {},
     "output_type": "execute_result"
    }
   ],
   "source": [
    "ValidBrack('{[(}')"
   ]
  },
  {
   "cell_type": "code",
   "execution_count": null,
   "id": "936da1c2-0d92-4ab0-8ca3-23c443a2d921",
   "metadata": {},
   "outputs": [],
   "source": []
  }
 ],
 "metadata": {
  "kernelspec": {
   "display_name": "Python [conda env:base] *",
   "language": "python",
   "name": "conda-base-py"
  },
  "language_info": {
   "codemirror_mode": {
    "name": "ipython",
    "version": 3
   },
   "file_extension": ".py",
   "mimetype": "text/x-python",
   "name": "python",
   "nbconvert_exporter": "python",
   "pygments_lexer": "ipython3",
   "version": "3.13.5"
  }
 },
 "nbformat": 4,
 "nbformat_minor": 5
}
