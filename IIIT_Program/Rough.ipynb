{
 "cells": [
  {
   "cell_type": "code",
   "execution_count": 1,
   "id": "26db2bb7-7c4a-4d64-98da-994138a20ded",
   "metadata": {},
   "outputs": [],
   "source": [
    "import pandas as pd\n",
    "df = pd.read_csv('https://d3ejq4mxgimsmf.cloudfront.net/AirPassengers-1eaa575774ad408691e22a1edfcab2ec.csv')\n"
   ]
  },
  {
   "cell_type": "code",
   "execution_count": 2,
   "id": "bd55b3b8-6105-4386-842b-a3e6caaef5f6",
   "metadata": {},
   "outputs": [
    {
     "data": {
      "text/html": [
       "<div>\n",
       "<style scoped>\n",
       "    .dataframe tbody tr th:only-of-type {\n",
       "        vertical-align: middle;\n",
       "    }\n",
       "\n",
       "    .dataframe tbody tr th {\n",
       "        vertical-align: top;\n",
       "    }\n",
       "\n",
       "    .dataframe thead th {\n",
       "        text-align: right;\n",
       "    }\n",
       "</style>\n",
       "<table border=\"1\" class=\"dataframe\">\n",
       "  <thead>\n",
       "    <tr style=\"text-align: right;\">\n",
       "      <th></th>\n",
       "      <th>Month</th>\n",
       "      <th>Passengers</th>\n",
       "    </tr>\n",
       "  </thead>\n",
       "  <tbody>\n",
       "    <tr>\n",
       "      <th>0</th>\n",
       "      <td>1949-01</td>\n",
       "      <td>112</td>\n",
       "    </tr>\n",
       "    <tr>\n",
       "      <th>1</th>\n",
       "      <td>1949-02</td>\n",
       "      <td>118</td>\n",
       "    </tr>\n",
       "    <tr>\n",
       "      <th>2</th>\n",
       "      <td>1949-03</td>\n",
       "      <td>132</td>\n",
       "    </tr>\n",
       "    <tr>\n",
       "      <th>3</th>\n",
       "      <td>1949-04</td>\n",
       "      <td>129</td>\n",
       "    </tr>\n",
       "    <tr>\n",
       "      <th>4</th>\n",
       "      <td>1949-05</td>\n",
       "      <td>121</td>\n",
       "    </tr>\n",
       "  </tbody>\n",
       "</table>\n",
       "</div>"
      ],
      "text/plain": [
       "     Month  Passengers\n",
       "0  1949-01         112\n",
       "1  1949-02         118\n",
       "2  1949-03         132\n",
       "3  1949-04         129\n",
       "4  1949-05         121"
      ]
     },
     "execution_count": 2,
     "metadata": {},
     "output_type": "execute_result"
    }
   ],
   "source": [
    "df.head()"
   ]
  },
  {
   "cell_type": "code",
   "execution_count": 23,
   "id": "2c9ad176-4a4e-4e65-ac0e-5a22d5dbe4da",
   "metadata": {},
   "outputs": [],
   "source": [
    "df[\"Year\"]=df.Month.apply(lambda x: x.split(\"-\")[0])"
   ]
  },
  {
   "cell_type": "code",
   "execution_count": 24,
   "id": "d524d67f-2847-447a-a637-bb663dad20d8",
   "metadata": {},
   "outputs": [
    {
     "data": {
      "text/html": [
       "<div>\n",
       "<style scoped>\n",
       "    .dataframe tbody tr th:only-of-type {\n",
       "        vertical-align: middle;\n",
       "    }\n",
       "\n",
       "    .dataframe tbody tr th {\n",
       "        vertical-align: top;\n",
       "    }\n",
       "\n",
       "    .dataframe thead th {\n",
       "        text-align: right;\n",
       "    }\n",
       "</style>\n",
       "<table border=\"1\" class=\"dataframe\">\n",
       "  <thead>\n",
       "    <tr style=\"text-align: right;\">\n",
       "      <th></th>\n",
       "      <th>Month</th>\n",
       "      <th>Passengers</th>\n",
       "      <th>Year</th>\n",
       "    </tr>\n",
       "  </thead>\n",
       "  <tbody>\n",
       "    <tr>\n",
       "      <th>0</th>\n",
       "      <td>1949-01</td>\n",
       "      <td>112</td>\n",
       "      <td>1949</td>\n",
       "    </tr>\n",
       "    <tr>\n",
       "      <th>1</th>\n",
       "      <td>1949-02</td>\n",
       "      <td>118</td>\n",
       "      <td>1949</td>\n",
       "    </tr>\n",
       "    <tr>\n",
       "      <th>2</th>\n",
       "      <td>1949-03</td>\n",
       "      <td>132</td>\n",
       "      <td>1949</td>\n",
       "    </tr>\n",
       "    <tr>\n",
       "      <th>3</th>\n",
       "      <td>1949-04</td>\n",
       "      <td>129</td>\n",
       "      <td>1949</td>\n",
       "    </tr>\n",
       "    <tr>\n",
       "      <th>4</th>\n",
       "      <td>1949-05</td>\n",
       "      <td>121</td>\n",
       "      <td>1949</td>\n",
       "    </tr>\n",
       "  </tbody>\n",
       "</table>\n",
       "</div>"
      ],
      "text/plain": [
       "     Month  Passengers  Year\n",
       "0  1949-01         112  1949\n",
       "1  1949-02         118  1949\n",
       "2  1949-03         132  1949\n",
       "3  1949-04         129  1949\n",
       "4  1949-05         121  1949"
      ]
     },
     "execution_count": 24,
     "metadata": {},
     "output_type": "execute_result"
    }
   ],
   "source": [
    "df.head()"
   ]
  },
  {
   "cell_type": "code",
   "execution_count": 27,
   "id": "3c2c8059-076e-46e2-96b2-10842ed5210b",
   "metadata": {},
   "outputs": [],
   "source": [
    "result=df.groupby(\"Year\")[\"Passengers\"].mean()"
   ]
  },
  {
   "cell_type": "code",
   "execution_count": 28,
   "id": "e39bb18d-8079-4dac-85a3-36cfc885f9c7",
   "metadata": {},
   "outputs": [
    {
     "data": {
      "text/plain": [
       "Year\n",
       "1949    126.666667\n",
       "1950    139.666667\n",
       "1951    170.166667\n",
       "1952    197.000000\n",
       "1953    225.000000\n",
       "1954    238.916667\n",
       "1955    284.000000\n",
       "1956    328.250000\n",
       "1957    368.416667\n",
       "1958    381.000000\n",
       "1959    428.333333\n",
       "1960    476.166667\n",
       "Name: Passengers, dtype: float64"
      ]
     },
     "execution_count": 28,
     "metadata": {},
     "output_type": "execute_result"
    }
   ],
   "source": [
    "result"
   ]
  },
  {
   "cell_type": "code",
   "execution_count": 29,
   "id": "5ce41c25-d8d5-4be9-a762-0f95f0be18d3",
   "metadata": {},
   "outputs": [],
   "source": [
    "mean_passengers_by_year=pd.Series(result)"
   ]
  },
  {
   "cell_type": "code",
   "execution_count": 30,
   "id": "f3f59612-14fe-4621-8305-2a02cbf24b2f",
   "metadata": {},
   "outputs": [
    {
     "data": {
      "text/plain": [
       "np.float64(139.66666666666666)"
      ]
     },
     "execution_count": 30,
     "metadata": {},
     "output_type": "execute_result"
    }
   ],
   "source": [
    "mean_passengers_by_year[\"1950\"]"
   ]
  },
  {
   "cell_type": "code",
   "execution_count": 35,
   "id": "ce9a3b04-8b82-434f-9afe-5aca38b08d5e",
   "metadata": {},
   "outputs": [
    {
     "name": "stdin",
     "output_type": "stream",
     "text": [
      " 1950\n"
     ]
    },
    {
     "name": "stdout",
     "output_type": "stream",
     "text": [
      "140\n"
     ]
    }
   ],
   "source": [
    "import pandas as pd\n",
    "df = pd.read_csv('https://d3ejq4mxgimsmf.cloudfront.net/AirPassengers-1eaa575774ad408691e22a1edfcab2ec.csv')\n",
    "\n",
    "# Code here\n",
    "df[\"Year\"]=df.Month.apply(lambda x: int(x.split(\"-\")[0]))\n",
    "result=df.groupby(\"Year\")[\"Passengers\"].mean()\n",
    "mean_passengers_by_year=pd.Series(result)\n",
    "# Input and output processing (do not edit)\n",
    "mean_passengers_by_year = mean_passengers_by_year.round(0).astype(int)\n",
    "print(mean_passengers_by_year.loc[int(input())])"
   ]
  },
  {
   "cell_type": "code",
   "execution_count": 36,
   "id": "197eaa7d-e9f1-4e66-9944-6db44f739c0e",
   "metadata": {},
   "outputs": [
    {
     "data": {
      "text/html": [
       "<div>\n",
       "<style scoped>\n",
       "    .dataframe tbody tr th:only-of-type {\n",
       "        vertical-align: middle;\n",
       "    }\n",
       "\n",
       "    .dataframe tbody tr th {\n",
       "        vertical-align: top;\n",
       "    }\n",
       "\n",
       "    .dataframe thead th {\n",
       "        text-align: right;\n",
       "    }\n",
       "</style>\n",
       "<table border=\"1\" class=\"dataframe\">\n",
       "  <thead>\n",
       "    <tr style=\"text-align: right;\">\n",
       "      <th></th>\n",
       "      <th>ID Number</th>\n",
       "      <th>Name</th>\n",
       "      <th>Fed</th>\n",
       "      <th>Sex</th>\n",
       "      <th>Tit</th>\n",
       "      <th>WTit</th>\n",
       "      <th>OTit</th>\n",
       "      <th>Rating</th>\n",
       "      <th>Gms</th>\n",
       "      <th>B-day</th>\n",
       "    </tr>\n",
       "  </thead>\n",
       "  <tbody>\n",
       "    <tr>\n",
       "      <th>0</th>\n",
       "      <td>1503014</td>\n",
       "      <td>Carlsen, Magnus</td>\n",
       "      <td>NOR</td>\n",
       "      <td>M</td>\n",
       "      <td>GM</td>\n",
       "      <td>NaN</td>\n",
       "      <td>NaN</td>\n",
       "      <td>2833</td>\n",
       "      <td>0</td>\n",
       "      <td>1990</td>\n",
       "    </tr>\n",
       "    <tr>\n",
       "      <th>1</th>\n",
       "      <td>2016192</td>\n",
       "      <td>Nakamura, Hikaru</td>\n",
       "      <td>USA</td>\n",
       "      <td>M</td>\n",
       "      <td>GM</td>\n",
       "      <td>NaN</td>\n",
       "      <td>NaN</td>\n",
       "      <td>2802</td>\n",
       "      <td>0</td>\n",
       "      <td>1987</td>\n",
       "    </tr>\n",
       "    <tr>\n",
       "      <th>2</th>\n",
       "      <td>46616543</td>\n",
       "      <td>Gukesh D</td>\n",
       "      <td>IND</td>\n",
       "      <td>M</td>\n",
       "      <td>GM</td>\n",
       "      <td>NaN</td>\n",
       "      <td>NaN</td>\n",
       "      <td>2787</td>\n",
       "      <td>13</td>\n",
       "      <td>2006</td>\n",
       "    </tr>\n",
       "    <tr>\n",
       "      <th>3</th>\n",
       "      <td>2020009</td>\n",
       "      <td>Caruana, Fabiano</td>\n",
       "      <td>USA</td>\n",
       "      <td>M</td>\n",
       "      <td>GM</td>\n",
       "      <td>NaN</td>\n",
       "      <td>NaN</td>\n",
       "      <td>2783</td>\n",
       "      <td>13</td>\n",
       "      <td>1992</td>\n",
       "    </tr>\n",
       "    <tr>\n",
       "      <th>4</th>\n",
       "      <td>35009192</td>\n",
       "      <td>Erigaisi Arjun</td>\n",
       "      <td>IND</td>\n",
       "      <td>M</td>\n",
       "      <td>GM</td>\n",
       "      <td>NaN</td>\n",
       "      <td>NaN</td>\n",
       "      <td>2777</td>\n",
       "      <td>13</td>\n",
       "      <td>2003</td>\n",
       "    </tr>\n",
       "  </tbody>\n",
       "</table>\n",
       "</div>"
      ],
      "text/plain": [
       "   ID Number              Name  Fed Sex Tit WTit OTit  Rating  Gms  B-day\n",
       "0    1503014   Carlsen, Magnus  NOR   M  GM  NaN  NaN    2833    0   1990\n",
       "1    2016192  Nakamura, Hikaru  USA   M  GM  NaN  NaN    2802    0   1987\n",
       "2   46616543          Gukesh D  IND   M  GM  NaN  NaN    2787   13   2006\n",
       "3    2020009  Caruana, Fabiano  USA   M  GM  NaN  NaN    2783   13   1992\n",
       "4   35009192    Erigaisi Arjun  IND   M  GM  NaN  NaN    2777   13   2003"
      ]
     },
     "execution_count": 36,
     "metadata": {},
     "output_type": "execute_result"
    }
   ],
   "source": [
    "import pandas as pd\n",
    "df = pd.read_csv('https://d3ejq4mxgimsmf.cloudfront.net/active_grandmasters_March25-b0e7a64fd25c48ab8f380debb40e8a0a.csv')\n",
    "df.head()"
   ]
  },
  {
   "cell_type": "code",
   "execution_count": 48,
   "id": "ffceccf2-964a-4c2d-9a23-41866a245944",
   "metadata": {},
   "outputs": [
    {
     "data": {
      "text/plain": [
       "np.float64(2510.0149253731342)"
      ]
     },
     "execution_count": 48,
     "metadata": {},
     "output_type": "execute_result"
    }
   ],
   "source": [
    "res=df.groupby(\"Fed\")[\"Rating\"].mean()\n",
    "res[\"USA\"]"
   ]
  },
  {
   "cell_type": "code",
   "execution_count": 44,
   "id": "fcc7c260-46d5-429f-a708-85cb95ab1882",
   "metadata": {},
   "outputs": [],
   "source": [
    "df[\"avg\"]=df[\"Fed\"].map(res)"
   ]
  },
  {
   "cell_type": "code",
   "execution_count": 56,
   "id": "0251c904-2d00-4c5e-a898-d3cfeb386781",
   "metadata": {},
   "outputs": [
    {
     "data": {
      "text/html": [
       "<div>\n",
       "<style scoped>\n",
       "    .dataframe tbody tr th:only-of-type {\n",
       "        vertical-align: middle;\n",
       "    }\n",
       "\n",
       "    .dataframe tbody tr th {\n",
       "        vertical-align: top;\n",
       "    }\n",
       "\n",
       "    .dataframe thead th {\n",
       "        text-align: right;\n",
       "    }\n",
       "</style>\n",
       "<table border=\"1\" class=\"dataframe\">\n",
       "  <thead>\n",
       "    <tr style=\"text-align: right;\">\n",
       "      <th></th>\n",
       "      <th>ID Number</th>\n",
       "      <th>Name</th>\n",
       "      <th>Fed</th>\n",
       "      <th>Sex</th>\n",
       "      <th>Tit</th>\n",
       "      <th>WTit</th>\n",
       "      <th>OTit</th>\n",
       "      <th>Rating</th>\n",
       "      <th>Gms</th>\n",
       "      <th>B-day</th>\n",
       "      <th>avg</th>\n",
       "    </tr>\n",
       "  </thead>\n",
       "  <tbody>\n",
       "    <tr>\n",
       "      <th>0</th>\n",
       "      <td>1503014</td>\n",
       "      <td>Carlsen, Magnus</td>\n",
       "      <td>NOR</td>\n",
       "      <td>M</td>\n",
       "      <td>GM</td>\n",
       "      <td>NaN</td>\n",
       "      <td>NaN</td>\n",
       "      <td>2833</td>\n",
       "      <td>0</td>\n",
       "      <td>1990</td>\n",
       "      <td>2504.937500</td>\n",
       "    </tr>\n",
       "    <tr>\n",
       "      <th>1</th>\n",
       "      <td>2016192</td>\n",
       "      <td>Nakamura, Hikaru</td>\n",
       "      <td>USA</td>\n",
       "      <td>M</td>\n",
       "      <td>GM</td>\n",
       "      <td>NaN</td>\n",
       "      <td>NaN</td>\n",
       "      <td>2802</td>\n",
       "      <td>0</td>\n",
       "      <td>1987</td>\n",
       "      <td>2510.014925</td>\n",
       "    </tr>\n",
       "    <tr>\n",
       "      <th>2</th>\n",
       "      <td>46616543</td>\n",
       "      <td>Gukesh D</td>\n",
       "      <td>IND</td>\n",
       "      <td>M</td>\n",
       "      <td>GM</td>\n",
       "      <td>NaN</td>\n",
       "      <td>NaN</td>\n",
       "      <td>2787</td>\n",
       "      <td>13</td>\n",
       "      <td>2006</td>\n",
       "      <td>2523.338235</td>\n",
       "    </tr>\n",
       "    <tr>\n",
       "      <th>3</th>\n",
       "      <td>2020009</td>\n",
       "      <td>Caruana, Fabiano</td>\n",
       "      <td>USA</td>\n",
       "      <td>M</td>\n",
       "      <td>GM</td>\n",
       "      <td>NaN</td>\n",
       "      <td>NaN</td>\n",
       "      <td>2783</td>\n",
       "      <td>13</td>\n",
       "      <td>1992</td>\n",
       "      <td>2510.014925</td>\n",
       "    </tr>\n",
       "    <tr>\n",
       "      <th>4</th>\n",
       "      <td>35009192</td>\n",
       "      <td>Erigaisi Arjun</td>\n",
       "      <td>IND</td>\n",
       "      <td>M</td>\n",
       "      <td>GM</td>\n",
       "      <td>NaN</td>\n",
       "      <td>NaN</td>\n",
       "      <td>2777</td>\n",
       "      <td>13</td>\n",
       "      <td>2003</td>\n",
       "      <td>2523.338235</td>\n",
       "    </tr>\n",
       "  </tbody>\n",
       "</table>\n",
       "</div>"
      ],
      "text/plain": [
       "   ID Number              Name  Fed Sex Tit WTit OTit  Rating  Gms  B-day  \\\n",
       "0    1503014   Carlsen, Magnus  NOR   M  GM  NaN  NaN    2833    0   1990   \n",
       "1    2016192  Nakamura, Hikaru  USA   M  GM  NaN  NaN    2802    0   1987   \n",
       "2   46616543          Gukesh D  IND   M  GM  NaN  NaN    2787   13   2006   \n",
       "3    2020009  Caruana, Fabiano  USA   M  GM  NaN  NaN    2783   13   1992   \n",
       "4   35009192    Erigaisi Arjun  IND   M  GM  NaN  NaN    2777   13   2003   \n",
       "\n",
       "           avg  \n",
       "0  2504.937500  \n",
       "1  2510.014925  \n",
       "2  2523.338235  \n",
       "3  2510.014925  \n",
       "4  2523.338235  "
      ]
     },
     "execution_count": 56,
     "metadata": {},
     "output_type": "execute_result"
    }
   ],
   "source": [
    "df.head()"
   ]
  },
  {
   "cell_type": "code",
   "execution_count": 54,
   "id": "5a8595df-d8f9-469c-8a3c-1cd4dfdc85fd",
   "metadata": {},
   "outputs": [],
   "source": [
    "new_df=df[df[\"Rating\"]>=df[\"avg\"]]"
   ]
  },
  {
   "cell_type": "code",
   "execution_count": 57,
   "id": "5df8ae88-c668-4675-900a-2bc9332b2874",
   "metadata": {},
   "outputs": [
    {
     "data": {
      "text/html": [
       "<div>\n",
       "<style scoped>\n",
       "    .dataframe tbody tr th:only-of-type {\n",
       "        vertical-align: middle;\n",
       "    }\n",
       "\n",
       "    .dataframe tbody tr th {\n",
       "        vertical-align: top;\n",
       "    }\n",
       "\n",
       "    .dataframe thead th {\n",
       "        text-align: right;\n",
       "    }\n",
       "</style>\n",
       "<table border=\"1\" class=\"dataframe\">\n",
       "  <thead>\n",
       "    <tr style=\"text-align: right;\">\n",
       "      <th></th>\n",
       "      <th>ID Number</th>\n",
       "      <th>Name</th>\n",
       "      <th>Fed</th>\n",
       "      <th>Sex</th>\n",
       "      <th>Tit</th>\n",
       "      <th>WTit</th>\n",
       "      <th>OTit</th>\n",
       "      <th>Rating</th>\n",
       "      <th>Gms</th>\n",
       "      <th>B-day</th>\n",
       "      <th>avg</th>\n",
       "    </tr>\n",
       "  </thead>\n",
       "  <tbody>\n",
       "    <tr>\n",
       "      <th>0</th>\n",
       "      <td>1503014</td>\n",
       "      <td>Carlsen, Magnus</td>\n",
       "      <td>NOR</td>\n",
       "      <td>M</td>\n",
       "      <td>GM</td>\n",
       "      <td>NaN</td>\n",
       "      <td>NaN</td>\n",
       "      <td>2833</td>\n",
       "      <td>0</td>\n",
       "      <td>1990</td>\n",
       "      <td>2504.937500</td>\n",
       "    </tr>\n",
       "    <tr>\n",
       "      <th>1</th>\n",
       "      <td>2016192</td>\n",
       "      <td>Nakamura, Hikaru</td>\n",
       "      <td>USA</td>\n",
       "      <td>M</td>\n",
       "      <td>GM</td>\n",
       "      <td>NaN</td>\n",
       "      <td>NaN</td>\n",
       "      <td>2802</td>\n",
       "      <td>0</td>\n",
       "      <td>1987</td>\n",
       "      <td>2510.014925</td>\n",
       "    </tr>\n",
       "    <tr>\n",
       "      <th>2</th>\n",
       "      <td>46616543</td>\n",
       "      <td>Gukesh D</td>\n",
       "      <td>IND</td>\n",
       "      <td>M</td>\n",
       "      <td>GM</td>\n",
       "      <td>NaN</td>\n",
       "      <td>NaN</td>\n",
       "      <td>2787</td>\n",
       "      <td>13</td>\n",
       "      <td>2006</td>\n",
       "      <td>2523.338235</td>\n",
       "    </tr>\n",
       "    <tr>\n",
       "      <th>3</th>\n",
       "      <td>2020009</td>\n",
       "      <td>Caruana, Fabiano</td>\n",
       "      <td>USA</td>\n",
       "      <td>M</td>\n",
       "      <td>GM</td>\n",
       "      <td>NaN</td>\n",
       "      <td>NaN</td>\n",
       "      <td>2783</td>\n",
       "      <td>13</td>\n",
       "      <td>1992</td>\n",
       "      <td>2510.014925</td>\n",
       "    </tr>\n",
       "    <tr>\n",
       "      <th>4</th>\n",
       "      <td>35009192</td>\n",
       "      <td>Erigaisi Arjun</td>\n",
       "      <td>IND</td>\n",
       "      <td>M</td>\n",
       "      <td>GM</td>\n",
       "      <td>NaN</td>\n",
       "      <td>NaN</td>\n",
       "      <td>2777</td>\n",
       "      <td>13</td>\n",
       "      <td>2003</td>\n",
       "      <td>2523.338235</td>\n",
       "    </tr>\n",
       "  </tbody>\n",
       "</table>\n",
       "</div>"
      ],
      "text/plain": [
       "   ID Number              Name  Fed Sex Tit WTit OTit  Rating  Gms  B-day  \\\n",
       "0    1503014   Carlsen, Magnus  NOR   M  GM  NaN  NaN    2833    0   1990   \n",
       "1    2016192  Nakamura, Hikaru  USA   M  GM  NaN  NaN    2802    0   1987   \n",
       "2   46616543          Gukesh D  IND   M  GM  NaN  NaN    2787   13   2006   \n",
       "3    2020009  Caruana, Fabiano  USA   M  GM  NaN  NaN    2783   13   1992   \n",
       "4   35009192    Erigaisi Arjun  IND   M  GM  NaN  NaN    2777   13   2003   \n",
       "\n",
       "           avg  \n",
       "0  2504.937500  \n",
       "1  2510.014925  \n",
       "2  2523.338235  \n",
       "3  2510.014925  \n",
       "4  2523.338235  "
      ]
     },
     "execution_count": 57,
     "metadata": {},
     "output_type": "execute_result"
    }
   ],
   "source": [
    "new_df.head()"
   ]
  },
  {
   "cell_type": "code",
   "execution_count": 69,
   "id": "7eb14f6d-2f85-4555-8e92-e8de0641c0df",
   "metadata": {},
   "outputs": [],
   "source": [
    "x=new_df.groupby(\"Fed\")[\"Name\"].apply(list)"
   ]
  },
  {
   "cell_type": "code",
   "execution_count": 70,
   "id": "e2d9c8c4-849b-4ee9-910a-d59f58a6ec2a",
   "metadata": {},
   "outputs": [
    {
     "data": {
      "text/plain": [
       "Fed\n",
       "ALG                                  [Bellahcene, Bilel]\n",
       "AND                      [Henderson de La Fuente, Lance]\n",
       "ARG    [Mareco, Sandro, Peralta, Fernando, Felgaer, R...\n",
       "ARM    [Sargsyan, Shant, Martirosyan, Haik M., Melkum...\n",
       "AUS       [Cheng, Bobby, Kuybokarov, Temur, Tan, Justin]\n",
       "Name: Name, dtype: object"
      ]
     },
     "execution_count": 70,
     "metadata": {},
     "output_type": "execute_result"
    }
   ],
   "source": [
    "x.head()"
   ]
  },
  {
   "cell_type": "code",
   "execution_count": 71,
   "id": "f09bfe61-2986-4b27-8186-3dea461e5c40",
   "metadata": {},
   "outputs": [],
   "source": [
    "filename='https://d3ejq4mxgimsmf.cloudfront.net/Product_sales_data-9f83ae7a11c340d1884ae214aadbacac.csv'"
   ]
  },
  {
   "cell_type": "code",
   "execution_count": 72,
   "id": "d9836247-b740-4c21-b97c-fb3942715bf4",
   "metadata": {},
   "outputs": [],
   "source": [
    "df=pd.read_csv(filename)"
   ]
  },
  {
   "cell_type": "code",
   "execution_count": 73,
   "id": "618f25be-dc26-48ed-83a0-6051d02ca877",
   "metadata": {},
   "outputs": [],
   "source": [
    "df = pd.read_csv('https://d3ejq4mxgimsmf.cloudfront.net/athletes_dataset-bbcc67f2702d42babc76a9d519c9d131.csv')"
   ]
  },
  {
   "cell_type": "code",
   "execution_count": 74,
   "id": "4d423234-b973-45fd-bed1-e9c6461cb54d",
   "metadata": {},
   "outputs": [
    {
     "data": {
      "text/html": [
       "<div>\n",
       "<style scoped>\n",
       "    .dataframe tbody tr th:only-of-type {\n",
       "        vertical-align: middle;\n",
       "    }\n",
       "\n",
       "    .dataframe tbody tr th {\n",
       "        vertical-align: top;\n",
       "    }\n",
       "\n",
       "    .dataframe thead th {\n",
       "        text-align: right;\n",
       "    }\n",
       "</style>\n",
       "<table border=\"1\" class=\"dataframe\">\n",
       "  <thead>\n",
       "    <tr style=\"text-align: right;\">\n",
       "      <th></th>\n",
       "      <th>Name</th>\n",
       "      <th>Age</th>\n",
       "      <th>Sport</th>\n",
       "    </tr>\n",
       "  </thead>\n",
       "  <tbody>\n",
       "    <tr>\n",
       "      <th>0</th>\n",
       "      <td>Ravi Kumar</td>\n",
       "      <td>34</td>\n",
       "      <td>Tennis</td>\n",
       "    </tr>\n",
       "    <tr>\n",
       "      <th>1</th>\n",
       "      <td>Sneha Reddy</td>\n",
       "      <td>33</td>\n",
       "      <td>Swimming</td>\n",
       "    </tr>\n",
       "    <tr>\n",
       "      <th>2</th>\n",
       "      <td>Anjali Mehta</td>\n",
       "      <td>32</td>\n",
       "      <td>Athletics</td>\n",
       "    </tr>\n",
       "    <tr>\n",
       "      <th>3</th>\n",
       "      <td>Vikram Joshi</td>\n",
       "      <td>31</td>\n",
       "      <td>Swimming</td>\n",
       "    </tr>\n",
       "    <tr>\n",
       "      <th>4</th>\n",
       "      <td>Kiran Sharma</td>\n",
       "      <td>30</td>\n",
       "      <td>Tennis</td>\n",
       "    </tr>\n",
       "  </tbody>\n",
       "</table>\n",
       "</div>"
      ],
      "text/plain": [
       "           Name  Age      Sport\n",
       "0    Ravi Kumar   34     Tennis\n",
       "1   Sneha Reddy   33   Swimming\n",
       "2  Anjali Mehta   32  Athletics\n",
       "3  Vikram Joshi   31   Swimming\n",
       "4  Kiran Sharma   30     Tennis"
      ]
     },
     "execution_count": 74,
     "metadata": {},
     "output_type": "execute_result"
    }
   ],
   "source": [
    "df.head()"
   ]
  },
  {
   "cell_type": "code",
   "execution_count": 78,
   "id": "7a43c551-d95f-41ad-9187-be0cf1747316",
   "metadata": {},
   "outputs": [],
   "source": [
    "x=df.groupby(\"Sport\")[\"Age\"].median()"
   ]
  },
  {
   "cell_type": "code",
   "execution_count": 80,
   "id": "8f85cd6c-547f-4a7f-aca0-7d083c3430b3",
   "metadata": {},
   "outputs": [],
   "source": [
    "df[\"median\"]=df[\"Sport\"].map(x)"
   ]
  },
  {
   "cell_type": "code",
   "execution_count": 82,
   "id": "dd174701-38c9-4b53-bca8-191701e36d9b",
   "metadata": {},
   "outputs": [
    {
     "data": {
      "text/html": [
       "<div>\n",
       "<style scoped>\n",
       "    .dataframe tbody tr th:only-of-type {\n",
       "        vertical-align: middle;\n",
       "    }\n",
       "\n",
       "    .dataframe tbody tr th {\n",
       "        vertical-align: top;\n",
       "    }\n",
       "\n",
       "    .dataframe thead th {\n",
       "        text-align: right;\n",
       "    }\n",
       "</style>\n",
       "<table border=\"1\" class=\"dataframe\">\n",
       "  <thead>\n",
       "    <tr style=\"text-align: right;\">\n",
       "      <th></th>\n",
       "      <th>Name</th>\n",
       "      <th>Age</th>\n",
       "      <th>Sport</th>\n",
       "      <th>median</th>\n",
       "    </tr>\n",
       "  </thead>\n",
       "  <tbody>\n",
       "    <tr>\n",
       "      <th>0</th>\n",
       "      <td>Ravi Kumar</td>\n",
       "      <td>34</td>\n",
       "      <td>Tennis</td>\n",
       "      <td>19.5</td>\n",
       "    </tr>\n",
       "    <tr>\n",
       "      <th>1</th>\n",
       "      <td>Sneha Reddy</td>\n",
       "      <td>33</td>\n",
       "      <td>Swimming</td>\n",
       "      <td>19.0</td>\n",
       "    </tr>\n",
       "    <tr>\n",
       "      <th>2</th>\n",
       "      <td>Anjali Mehta</td>\n",
       "      <td>32</td>\n",
       "      <td>Athletics</td>\n",
       "      <td>18.5</td>\n",
       "    </tr>\n",
       "    <tr>\n",
       "      <th>3</th>\n",
       "      <td>Vikram Joshi</td>\n",
       "      <td>31</td>\n",
       "      <td>Swimming</td>\n",
       "      <td>19.0</td>\n",
       "    </tr>\n",
       "    <tr>\n",
       "      <th>4</th>\n",
       "      <td>Kiran Sharma</td>\n",
       "      <td>30</td>\n",
       "      <td>Tennis</td>\n",
       "      <td>19.5</td>\n",
       "    </tr>\n",
       "  </tbody>\n",
       "</table>\n",
       "</div>"
      ],
      "text/plain": [
       "           Name  Age      Sport  median\n",
       "0    Ravi Kumar   34     Tennis    19.5\n",
       "1   Sneha Reddy   33   Swimming    19.0\n",
       "2  Anjali Mehta   32  Athletics    18.5\n",
       "3  Vikram Joshi   31   Swimming    19.0\n",
       "4  Kiran Sharma   30     Tennis    19.5"
      ]
     },
     "execution_count": 82,
     "metadata": {},
     "output_type": "execute_result"
    }
   ],
   "source": [
    "df.head()"
   ]
  },
  {
   "cell_type": "code",
   "execution_count": 83,
   "id": "c169e87b-e3ce-45fe-a370-c49b9a025b76",
   "metadata": {},
   "outputs": [],
   "source": [
    "new_df=df[df[\"Age\"]<=df[\"median\"]]"
   ]
  },
  {
   "cell_type": "code",
   "execution_count": 84,
   "id": "561efd9f-7ccc-49a4-8435-a49c89d2e419",
   "metadata": {},
   "outputs": [
    {
     "data": {
      "text/html": [
       "<div>\n",
       "<style scoped>\n",
       "    .dataframe tbody tr th:only-of-type {\n",
       "        vertical-align: middle;\n",
       "    }\n",
       "\n",
       "    .dataframe tbody tr th {\n",
       "        vertical-align: top;\n",
       "    }\n",
       "\n",
       "    .dataframe thead th {\n",
       "        text-align: right;\n",
       "    }\n",
       "</style>\n",
       "<table border=\"1\" class=\"dataframe\">\n",
       "  <thead>\n",
       "    <tr style=\"text-align: right;\">\n",
       "      <th></th>\n",
       "      <th>Name</th>\n",
       "      <th>Age</th>\n",
       "      <th>Sport</th>\n",
       "      <th>median</th>\n",
       "    </tr>\n",
       "  </thead>\n",
       "  <tbody>\n",
       "    <tr>\n",
       "      <th>21</th>\n",
       "      <td>Simran Kaur</td>\n",
       "      <td>19</td>\n",
       "      <td>Tennis</td>\n",
       "      <td>19.5</td>\n",
       "    </tr>\n",
       "    <tr>\n",
       "      <th>23</th>\n",
       "      <td>Aditya Pillai</td>\n",
       "      <td>19</td>\n",
       "      <td>Swimming</td>\n",
       "      <td>19.0</td>\n",
       "    </tr>\n",
       "    <tr>\n",
       "      <th>25</th>\n",
       "      <td>Rahul Nair</td>\n",
       "      <td>18</td>\n",
       "      <td>Athletics</td>\n",
       "      <td>18.5</td>\n",
       "    </tr>\n",
       "    <tr>\n",
       "      <th>26</th>\n",
       "      <td>Shruti Rao</td>\n",
       "      <td>18</td>\n",
       "      <td>Swimming</td>\n",
       "      <td>19.0</td>\n",
       "    </tr>\n",
       "    <tr>\n",
       "      <th>28</th>\n",
       "      <td>Tanya Singh</td>\n",
       "      <td>17</td>\n",
       "      <td>Tennis</td>\n",
       "      <td>19.5</td>\n",
       "    </tr>\n",
       "  </tbody>\n",
       "</table>\n",
       "</div>"
      ],
      "text/plain": [
       "             Name  Age      Sport  median\n",
       "21    Simran Kaur   19     Tennis    19.5\n",
       "23  Aditya Pillai   19   Swimming    19.0\n",
       "25     Rahul Nair   18  Athletics    18.5\n",
       "26     Shruti Rao   18   Swimming    19.0\n",
       "28    Tanya Singh   17     Tennis    19.5"
      ]
     },
     "execution_count": 84,
     "metadata": {},
     "output_type": "execute_result"
    }
   ],
   "source": [
    "new_df.head()"
   ]
  },
  {
   "cell_type": "code",
   "execution_count": 85,
   "id": "8d3412e3-d3c5-4369-b432-1d959a8d61cd",
   "metadata": {},
   "outputs": [],
   "source": [
    "res=new_df.groupby(\"Sport\")[\"Name\"].apply(list)"
   ]
  },
  {
   "cell_type": "code",
   "execution_count": 86,
   "id": "9d9ff920-1e77-409a-8701-e607b880faa1",
   "metadata": {},
   "outputs": [
    {
     "data": {
      "text/plain": [
       "Sport\n",
       "Athletics     [Rahul Nair, Mohit Agarwal, Aarav Kapoor, Sanj...\n",
       "Gymnastics    [Bhavna Shah, Nisha Dutta, Devika Rani, Tarun ...\n",
       "Swimming      [Aditya Pillai, Shruti Rao, Kunal Deshmukh, Ya...\n",
       "Tennis        [Simran Kaur, Tanya Singh, Rekha Sinha, Lakshm...\n",
       "Name: Name, dtype: object"
      ]
     },
     "execution_count": 86,
     "metadata": {},
     "output_type": "execute_result"
    }
   ],
   "source": [
    "res.head()"
   ]
  },
  {
   "cell_type": "code",
   "execution_count": 87,
   "id": "91db3be7-21e7-43d2-a207-a7f06f045545",
   "metadata": {},
   "outputs": [
    {
     "data": {
      "text/html": [
       "<div>\n",
       "<style scoped>\n",
       "    .dataframe tbody tr th:only-of-type {\n",
       "        vertical-align: middle;\n",
       "    }\n",
       "\n",
       "    .dataframe tbody tr th {\n",
       "        vertical-align: top;\n",
       "    }\n",
       "\n",
       "    .dataframe thead th {\n",
       "        text-align: right;\n",
       "    }\n",
       "</style>\n",
       "<table border=\"1\" class=\"dataframe\">\n",
       "  <thead>\n",
       "    <tr style=\"text-align: right;\">\n",
       "      <th></th>\n",
       "      <th>Occupation</th>\n",
       "      <th>Marital_Status</th>\n",
       "      <th>Education_Level</th>\n",
       "      <th>Account_Type</th>\n",
       "    </tr>\n",
       "  </thead>\n",
       "  <tbody>\n",
       "    <tr>\n",
       "      <th>0</th>\n",
       "      <td>Scientist</td>\n",
       "      <td>Married</td>\n",
       "      <td>Postgraduate</td>\n",
       "      <td>Savings</td>\n",
       "    </tr>\n",
       "    <tr>\n",
       "      <th>1</th>\n",
       "      <td>Engineer</td>\n",
       "      <td>Divorced</td>\n",
       "      <td>Postgraduate</td>\n",
       "      <td>Current</td>\n",
       "    </tr>\n",
       "    <tr>\n",
       "      <th>2</th>\n",
       "      <td>Scientist</td>\n",
       "      <td>Divorced</td>\n",
       "      <td>High School</td>\n",
       "      <td>Savings</td>\n",
       "    </tr>\n",
       "    <tr>\n",
       "      <th>3</th>\n",
       "      <td>Scientist</td>\n",
       "      <td>Single</td>\n",
       "      <td>Postgraduate</td>\n",
       "      <td>Current</td>\n",
       "    </tr>\n",
       "    <tr>\n",
       "      <th>4</th>\n",
       "      <td>Unemployed</td>\n",
       "      <td>Divorced</td>\n",
       "      <td>Postgraduate</td>\n",
       "      <td>Current</td>\n",
       "    </tr>\n",
       "  </tbody>\n",
       "</table>\n",
       "</div>"
      ],
      "text/plain": [
       "   Occupation Marital_Status Education_Level Account_Type\n",
       "0   Scientist        Married    Postgraduate      Savings\n",
       "1    Engineer       Divorced    Postgraduate      Current\n",
       "2   Scientist       Divorced     High School      Savings\n",
       "3   Scientist         Single    Postgraduate      Current\n",
       "4  Unemployed       Divorced    Postgraduate      Current"
      ]
     },
     "execution_count": 87,
     "metadata": {},
     "output_type": "execute_result"
    }
   ],
   "source": [
    "filename = 'https://d3ejq4mxgimsmf.cloudfront.net/customer_risk_dataset-bd8995d80cf648b1b797318bd0b802a3.csv'\n",
    "df = pd.read_csv(filename)\n",
    "df.head()"
   ]
  },
  {
   "cell_type": "code",
   "execution_count": 89,
   "id": "4e9e3791-69e5-403a-ba47-89e27bf774a9",
   "metadata": {},
   "outputs": [
    {
     "ename": "SyntaxError",
     "evalue": "expected 'else' after 'if' expression (392925958.py, line 1)",
     "output_type": "error",
     "traceback": [
      "\u001b[0;36m  Cell \u001b[0;32mIn[89], line 1\u001b[0;36m\u001b[0m\n\u001b[0;31m    df[\"Risk_Category\"]=[\"High\" if df[\"Occupation\"]==\"Unemployed\" and df[\"Education_Level\"]==\"High School\",\u001b[0m\n\u001b[0m                         ^\u001b[0m\n\u001b[0;31mSyntaxError\u001b[0m\u001b[0;31m:\u001b[0m expected 'else' after 'if' expression\n"
     ]
    }
   ],
   "source": [
    "df[\"Risk_Category\"]=\"Medium\"\n",
    "df[(df[\"Occupation\"] == \"Unemployed\") & (df[\"Education_Level\"] == \"High School\"), \"Risk_Category\"]=\"High\"\n",
    "df[df[\"Occupation\"].isin([\"Engineer\", \"Doctor\", \"Scientist\", \"Lawyer\"]) & (df[\"Education_Level\"] == \"Postgraduate\") & (df[\"Account_Type\"] == \"Fixed Deposit\") & (df[\"Marital_Status\"] == \"Married\"), \"Risk_Category\"] = \"Low\"\n",
    "\n",
    "[\"High\" if df[\"Occupation\"]==\"Unemployed\" and df[\"Education_Level\"]==\"High School\",\n",
    "                             \"Low\" if df[\"Occupation\"] in ['Engineer', 'Doctor', 'Scientist', 'Lawyer'] \n",
    "                     and df[\"Education_Level\"]=='Postgraduate' and \n",
    "                     df['Account_Type']=='Fixed Deposit' and d\n",
    "                     f['Marital_Status']=='Married',\n",
    "                            else \"Medium\" ]"
   ]
  },
  {
   "cell_type": "code",
   "execution_count": null,
   "id": "97b03c78-b539-447e-901d-3e92daf1af43",
   "metadata": {},
   "outputs": [],
   "source": []
  }
 ],
 "metadata": {
  "kernelspec": {
   "display_name": "Python [conda env:base] *",
   "language": "python",
   "name": "conda-base-py"
  },
  "language_info": {
   "codemirror_mode": {
    "name": "ipython",
    "version": 3
   },
   "file_extension": ".py",
   "mimetype": "text/x-python",
   "name": "python",
   "nbconvert_exporter": "python",
   "pygments_lexer": "ipython3",
   "version": "3.13.5"
  }
 },
 "nbformat": 4,
 "nbformat_minor": 5
}
