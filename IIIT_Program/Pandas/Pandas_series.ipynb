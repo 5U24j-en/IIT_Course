{
 "cells": [
  {
   "cell_type": "markdown",
   "id": "d5fb65d7-25cc-419e-b32c-02f3f87bb5e3",
   "metadata": {},
   "source": [
    "# pandas series are strictly 1 D    \n",
    "x=pd.Series(np.array([[1,2],[2,3],[2,4]]))!!!!!!!!! ERROR !!!!!!!!!!"
   ]
  },
  {
   "cell_type": "code",
   "execution_count": 1,
   "id": "f0541ab0-3de7-486d-9bf0-db22d6e7f7d3",
   "metadata": {},
   "outputs": [],
   "source": [
    "import pandas as pd"
   ]
  },
  {
   "cell_type": "code",
   "execution_count": 3,
   "id": "8963a63e-10a4-4527-a8df-14bec9e7a5cd",
   "metadata": {},
   "outputs": [],
   "source": [
    "empty_series=pd.Series()"
   ]
  },
  {
   "cell_type": "code",
   "execution_count": 4,
   "id": "c1f077bc-df54-4372-b159-98fbd0f5e958",
   "metadata": {},
   "outputs": [
    {
     "data": {
      "text/plain": [
       "Series([], dtype: object)"
      ]
     },
     "execution_count": 4,
     "metadata": {},
     "output_type": "execute_result"
    }
   ],
   "source": [
    "empty_series"
   ]
  },
  {
   "cell_type": "code",
   "execution_count": 5,
   "id": "b802a01c-2ac2-401d-a5c7-5f3ec0e9b437",
   "metadata": {},
   "outputs": [
    {
     "data": {
      "text/plain": [
       "dtype('O')"
      ]
     },
     "execution_count": 5,
     "metadata": {},
     "output_type": "execute_result"
    }
   ],
   "source": [
    "empty_series.dtype"
   ]
  },
  {
   "cell_type": "code",
   "execution_count": 6,
   "id": "2b7776bd-67bf-44cc-baad-e660bbecc2a8",
   "metadata": {},
   "outputs": [
    {
     "data": {
      "text/plain": [
       "0    1\n",
       "1    2\n",
       "2    3\n",
       "3    4\n",
       "dtype: int64"
      ]
     },
     "execution_count": 6,
     "metadata": {},
     "output_type": "execute_result"
    }
   ],
   "source": [
    "new_s=pd.Series(data=[1,2,3,4])\n",
    "new_s"
   ]
  },
  {
   "cell_type": "code",
   "execution_count": 7,
   "id": "f348f0c5-aabc-47ed-8629-9ca1a23cf0e6",
   "metadata": {},
   "outputs": [
    {
     "data": {
      "text/plain": [
       "dtype('int64')"
      ]
     },
     "execution_count": 7,
     "metadata": {},
     "output_type": "execute_result"
    }
   ],
   "source": [
    "new_s.dtype"
   ]
  },
  {
   "cell_type": "code",
   "execution_count": 8,
   "id": "b246d764-0496-465a-8497-bd031ebfba08",
   "metadata": {},
   "outputs": [
    {
     "data": {
      "text/plain": [
       "1"
      ]
     },
     "execution_count": 8,
     "metadata": {},
     "output_type": "execute_result"
    }
   ],
   "source": [
    "new_s.ndim"
   ]
  },
  {
   "cell_type": "code",
   "execution_count": 9,
   "id": "091be7ac-40b1-42eb-a614-c17be34bdb9e",
   "metadata": {},
   "outputs": [
    {
     "data": {
      "text/plain": [
       "(4,)"
      ]
     },
     "execution_count": 9,
     "metadata": {},
     "output_type": "execute_result"
    }
   ],
   "source": [
    "new_s.shape"
   ]
  },
  {
   "cell_type": "code",
   "execution_count": 10,
   "id": "499352f1-9bee-4a3b-be80-74ec1623fe63",
   "metadata": {},
   "outputs": [
    {
     "data": {
      "text/plain": [
       "4"
      ]
     },
     "execution_count": 10,
     "metadata": {},
     "output_type": "execute_result"
    }
   ],
   "source": [
    "new_s.size"
   ]
  },
  {
   "cell_type": "code",
   "execution_count": 11,
   "id": "9ef57ff7-8d4d-4f7c-ae34-56756210216d",
   "metadata": {},
   "outputs": [
    {
     "data": {
      "text/plain": [
       "RangeIndex(start=0, stop=4, step=1)"
      ]
     },
     "execution_count": 11,
     "metadata": {},
     "output_type": "execute_result"
    }
   ],
   "source": [
    "new_s.index"
   ]
  },
  {
   "cell_type": "code",
   "execution_count": 12,
   "id": "8d1e0c0f-c361-41f5-abe6-bf62f1b70729",
   "metadata": {},
   "outputs": [
    {
     "data": {
      "text/plain": [
       "array([1, 2, 3, 4])"
      ]
     },
     "execution_count": 12,
     "metadata": {},
     "output_type": "execute_result"
    }
   ],
   "source": [
    "new_s.values"
   ]
  },
  {
   "cell_type": "code",
   "execution_count": 13,
   "id": "5135e6e0-a9ab-4882-a06e-474c437e73b4",
   "metadata": {},
   "outputs": [
    {
     "data": {
      "text/plain": [
       "pandas.core.series.Series"
      ]
     },
     "execution_count": 13,
     "metadata": {},
     "output_type": "execute_result"
    }
   ],
   "source": [
    "type(new_s)"
   ]
  },
  {
   "cell_type": "code",
   "execution_count": 14,
   "id": "a9bdd9a3-dec1-4b37-9733-0d6374a186fb",
   "metadata": {},
   "outputs": [
    {
     "data": {
      "text/plain": [
       "0    1\n",
       "1    2\n",
       "2    3\n",
       "3    4\n",
       "dtype: int64"
      ]
     },
     "execution_count": 14,
     "metadata": {},
     "output_type": "execute_result"
    }
   ],
   "source": [
    "new_s"
   ]
  },
  {
   "cell_type": "code",
   "execution_count": 15,
   "id": "f9560c00-9f90-4b0a-ad3a-1dfeba7ac86e",
   "metadata": {},
   "outputs": [
    {
     "data": {
      "text/plain": [
       "0         Oi\n",
       "1       1233\n",
       "2    [22, 1]\n",
       "3      12.12\n",
       "dtype: object"
      ]
     },
     "execution_count": 15,
     "metadata": {},
     "output_type": "execute_result"
    }
   ],
   "source": [
    "mixed_s=pd.Series([\"Oi\", 1233, [22,1], 12.12])\n",
    "mixed_s"
   ]
  },
  {
   "cell_type": "code",
   "execution_count": 16,
   "id": "7cddb9f8-3526-4b15-8b64-8907c230f012",
   "metadata": {},
   "outputs": [
    {
     "data": {
      "text/plain": [
       "dtype('O')"
      ]
     },
     "execution_count": 16,
     "metadata": {},
     "output_type": "execute_result"
    }
   ],
   "source": [
    "mixed_s.dtype"
   ]
  },
  {
   "cell_type": "code",
   "execution_count": 18,
   "id": "1cdc9416-5aef-4680-9c36-5907bf87e237",
   "metadata": {},
   "outputs": [
    {
     "data": {
      "text/plain": [
       "First Name       Frank\n",
       "Lastname      Gallager\n",
       "Age                 55\n",
       "Height             174\n",
       "Name: Red Case , dtype: object"
      ]
     },
     "execution_count": 18,
     "metadata": {},
     "output_type": "execute_result"
    }
   ],
   "source": [
    "main_s=pd.Series(data=[\"Frank\",\"Gallager\",55,174], index=[\"First Name\", \"Lastname\",\"Age\",\"Height\"], name=\"Red Case \")\n",
    "main_s"
   ]
  },
  {
   "cell_type": "code",
   "execution_count": 22,
   "id": "574ad77e-75f9-41d5-9c6a-47c55ba7202e",
   "metadata": {},
   "outputs": [
    {
     "data": {
      "text/plain": [
       "'Gallager'"
      ]
     },
     "execution_count": 22,
     "metadata": {},
     "output_type": "execute_result"
    }
   ],
   "source": [
    "main_s[\"Lastname\"]"
   ]
  },
  {
   "cell_type": "code",
   "execution_count": 24,
   "id": "a885f2dc-3997-46a9-bcf3-3c0c1cef3c6b",
   "metadata": {},
   "outputs": [
    {
     "data": {
      "text/plain": [
       "A    1\n",
       "B    2\n",
       "C    3\n",
       "D    4\n",
       "dtype: int64"
      ]
     },
     "execution_count": 24,
     "metadata": {},
     "output_type": "execute_result"
    }
   ],
   "source": [
    "dict1={\"A\":1,\"B\":2,\"C\":3,\"D\":4}\n",
    "dict_s=pd.Series(dict1)\n",
    "dict_s"
   ]
  },
  {
   "cell_type": "markdown",
   "id": "4ec764a4-4c1d-428d-b0b9-57967b39cca8",
   "metadata": {},
   "source": [
    "#### iloc[] - Integer location based indexer"
   ]
  },
  {
   "cell_type": "code",
   "execution_count": 36,
   "id": "d8d92714-fa7b-4286-9ade-3fe5e4687520",
   "metadata": {},
   "outputs": [
    {
     "name": "stdout",
     "output_type": "stream",
     "text": [
      "1\n",
      "A    1\n",
      "B    2\n",
      "C    3\n",
      "D    4\n",
      "dtype: int64\n",
      "A    1\n",
      "C    3\n",
      "dtype: int64\n",
      "!!!!!!======    \n",
      "Lastname    Gallager\n",
      "Age               55\n",
      "Name: Red Case , dtype: object\n",
      "!!!!!!======    \n",
      "55\n",
      "3\n",
      "174\n"
     ]
    }
   ],
   "source": [
    "print(dict_s.iloc[0])\n",
    "print(dict_s.iloc[0:5])\n",
    "print(dict_s.iloc[0:4:2])\n",
    "print(\"!!!!!!======    \")\n",
    "print(main_s.iloc[1:-1])\n",
    "print(\"!!!!!!======    \")\n",
    "print(main_s.iloc[2])\n",
    "print(dict_s.iloc[-2])\n",
    "print(main_s.iloc[-1])"
   ]
  },
  {
   "cell_type": "markdown",
   "id": "da5c99ea-bd9c-4cdd-b92e-c9698063b880",
   "metadata": {},
   "source": [
    "#### Normal Index Based "
   ]
  },
  {
   "cell_type": "code",
   "execution_count": 37,
   "id": "cb10f7b1-4365-45e5-a375-458a67e53893",
   "metadata": {},
   "outputs": [
    {
     "name": "stdout",
     "output_type": "stream",
     "text": [
      "2\n",
      "A    1\n",
      "B    2\n",
      "C    3\n",
      "D    4\n",
      "dtype: int64\n",
      "B    2\n",
      "C    3\n",
      "D    4\n",
      "dtype: int64\n",
      "Frank\n",
      "First Name       Frank\n",
      "Lastname      Gallager\n",
      "Age                 55\n",
      "Name: Red Case , dtype: object\n",
      "!!!!!!======    \n",
      "First Name       Frank\n",
      "Lastname      Gallager\n",
      "Age                 55\n",
      "Name: Red Case , dtype: object\n"
     ]
    }
   ],
   "source": [
    "print(dict_s[\"B\"])\n",
    "print(dict_s[\"A\":])\n",
    "print(dict_s[\"B\":\"D\"])\n",
    "print(main_s[\"First Name\"])\n",
    "print(main_s[\"First Name\":\"Age\"])\n",
    "print(\"!!!!!!======    \") \n",
    "print(main_s.loc[\"First Name\":\"Age\"]) # series.loc[] and series[] is same "
   ]
  },
  {
   "cell_type": "markdown",
   "id": "ed621f81-2dae-4335-b113-005a0f31fc70",
   "metadata": {},
   "source": [
    "# series.isin([x,y,z])"
   ]
  },
  {
   "cell_type": "code",
   "execution_count": 40,
   "id": "4afdcb8c-5482-436e-8c36-e7ed8942c1a6",
   "metadata": {},
   "outputs": [
    {
     "data": {
      "text/plain": [
       "B    23\n",
       "dtype: int64"
      ]
     },
     "execution_count": 40,
     "metadata": {},
     "output_type": "execute_result"
    }
   ],
   "source": [
    "dummy= pd.Series({\"A\":55,\"B\":23,\"C\":7,\"D\":88})\n",
    "dummy[dummy.isin([44,33,22,23])]"
   ]
  },
  {
   "cell_type": "code",
   "execution_count": 41,
   "id": "9ef53eab-001a-44a6-922a-4515cd155588",
   "metadata": {},
   "outputs": [
    {
     "data": {
      "text/plain": [
       "A    False\n",
       "B     True\n",
       "C    False\n",
       "D    False\n",
       "dtype: bool"
      ]
     },
     "execution_count": 41,
     "metadata": {},
     "output_type": "execute_result"
    }
   ],
   "source": [
    "dummy.isin([44,33,22,23])"
   ]
  },
  {
   "cell_type": "code",
   "execution_count": 42,
   "id": "aa177044-7b85-412c-ba07-2776629c795a",
   "metadata": {},
   "outputs": [
    {
     "data": {
      "text/plain": [
       "A    55\n",
       "B    23\n",
       "dtype: int64"
      ]
     },
     "execution_count": 42,
     "metadata": {},
     "output_type": "execute_result"
    }
   ],
   "source": [
    "dummy[dummy.isin([44,55,22,23])]"
   ]
  },
  {
   "cell_type": "code",
   "execution_count": 46,
   "id": "e192e82f-37d3-45f0-89f8-3f1e1fa985cc",
   "metadata": {},
   "outputs": [
    {
     "data": {
      "text/plain": [
       "A    55\n",
       "B    23\n",
       "dtype: int64"
      ]
     },
     "execution_count": 46,
     "metadata": {},
     "output_type": "execute_result"
    }
   ],
   "source": [
    "dummy.loc[(dummy>=23) & (dummy<60)]"
   ]
  },
  {
   "cell_type": "markdown",
   "id": "88c4d36c-4a47-4768-b5a7-501bd4cd9549",
   "metadata": {},
   "source": [
    "# sort_values()"
   ]
  },
  {
   "cell_type": "code",
   "execution_count": 47,
   "id": "5658de92-c0c9-4335-9d3b-18f2ebf096fe",
   "metadata": {},
   "outputs": [
    {
     "data": {
      "text/plain": [
       "C     7\n",
       "B    23\n",
       "A    55\n",
       "D    88\n",
       "dtype: int64"
      ]
     },
     "execution_count": 47,
     "metadata": {},
     "output_type": "execute_result"
    }
   ],
   "source": [
    "dummy.sort_values()"
   ]
  },
  {
   "cell_type": "markdown",
   "id": "6334c1c9-c346-4eb0-b8ce-c5604c144083",
   "metadata": {},
   "source": [
    "# Operations on Series"
   ]
  },
  {
   "cell_type": "code",
   "execution_count": 54,
   "id": "1f97ff0b-7aa5-4203-ad7e-e03a7e807724",
   "metadata": {},
   "outputs": [],
   "source": [
    "series1=pd.Series([10,20,30])\n",
    "series2=pd.Series([1,2,3])"
   ]
  },
  {
   "cell_type": "code",
   "execution_count": 49,
   "id": "dc372f8b-e7f9-42cc-a8f4-436f5c42007c",
   "metadata": {},
   "outputs": [
    {
     "data": {
      "text/plain": [
       "0    11\n",
       "1    22\n",
       "2    33\n",
       "dtype: int64"
      ]
     },
     "execution_count": 49,
     "metadata": {},
     "output_type": "execute_result"
    }
   ],
   "source": [
    "series1+series2"
   ]
  },
  {
   "cell_type": "code",
   "execution_count": 50,
   "id": "14210f46-cf9e-4309-bf8d-1565d601bb78",
   "metadata": {},
   "outputs": [
    {
     "data": {
      "text/plain": [
       "0    10\n",
       "1    40\n",
       "2    90\n",
       "dtype: int64"
      ]
     },
     "execution_count": 50,
     "metadata": {},
     "output_type": "execute_result"
    }
   ],
   "source": [
    "series1*series2"
   ]
  },
  {
   "cell_type": "code",
   "execution_count": 51,
   "id": "630121c3-708d-4300-9c87-48330c417986",
   "metadata": {},
   "outputs": [
    {
     "data": {
      "text/plain": [
       "0    0.1\n",
       "1    0.1\n",
       "2    0.1\n",
       "dtype: float64"
      ]
     },
     "execution_count": 51,
     "metadata": {},
     "output_type": "execute_result"
    }
   ],
   "source": [
    "series2/series1"
   ]
  },
  {
   "cell_type": "code",
   "execution_count": 52,
   "id": "af596ddb-c0c3-4e4f-9b01-270bed86bd68",
   "metadata": {},
   "outputs": [
    {
     "data": {
      "text/plain": [
       "0     5\n",
       "1    10\n",
       "2    15\n",
       "dtype: int64"
      ]
     },
     "execution_count": 52,
     "metadata": {},
     "output_type": "execute_result"
    }
   ],
   "source": [
    "series2*5"
   ]
  },
  {
   "cell_type": "code",
   "execution_count": 55,
   "id": "c51d13e3-35df-48bc-bd57-725339e412b5",
   "metadata": {},
   "outputs": [
    {
     "data": {
      "text/plain": [
       "0    20\n",
       "1    30\n",
       "2    40\n",
       "dtype: int64"
      ]
     },
     "execution_count": 55,
     "metadata": {},
     "output_type": "execute_result"
    }
   ],
   "source": [
    "series1+10"
   ]
  },
  {
   "cell_type": "code",
   "execution_count": 56,
   "id": "8fc038a3-6fc0-45f2-931a-f84c72040ccf",
   "metadata": {},
   "outputs": [
    {
     "data": {
      "text/plain": [
       "0   -10\n",
       "1   -10\n",
       "2   -10\n",
       "dtype: int64"
      ]
     },
     "execution_count": 56,
     "metadata": {},
     "output_type": "execute_result"
    }
   ],
   "source": [
    "(series2*10)-(series1+10)"
   ]
  },
  {
   "cell_type": "code",
   "execution_count": 57,
   "id": "d617c5cb-2cab-4016-b4d0-2dbf5d8a26d4",
   "metadata": {},
   "outputs": [
    {
     "data": {
      "text/plain": [
       "0    20\n",
       "1    40\n",
       "2    60\n",
       "dtype: int64"
      ]
     },
     "execution_count": 57,
     "metadata": {},
     "output_type": "execute_result"
    }
   ],
   "source": [
    "series2*10+series1"
   ]
  },
  {
   "cell_type": "code",
   "execution_count": 58,
   "id": "7fe63f51-1a62-444c-b2be-95fbefe7000c",
   "metadata": {},
   "outputs": [],
   "source": [
    "# To calculate phone steps and watch steps\n",
    "\n",
    "ph_step=pd.Series(data=[1000, 5000, 3000, 2000, 8000], index=[\"Mon\",\"Tue\",\"Wed\",\"Thu\",\"Fri\"], name=\"Phone Steps\")\n",
    "wh_step=pd.Series(data=[7000, 8000, 2000], index=[\"Wed\",\"Thu\",\"Fri\"], name=\"Watch Steps\")\n",
    "\n"
   ]
  },
  {
   "cell_type": "code",
   "execution_count": 59,
   "id": "9f0011a9-c0fc-4c56-9852-344cf7d85ba4",
   "metadata": {},
   "outputs": [
    {
     "data": {
      "text/plain": [
       "Mon    1000\n",
       "Tue    5000\n",
       "Wed    3000\n",
       "Thu    2000\n",
       "Fri    8000\n",
       "Name: Phone Steps, dtype: int64"
      ]
     },
     "execution_count": 59,
     "metadata": {},
     "output_type": "execute_result"
    }
   ],
   "source": [
    "ph_step"
   ]
  },
  {
   "cell_type": "code",
   "execution_count": 60,
   "id": "46d023d5-0597-4662-b93d-91fbefdc5353",
   "metadata": {},
   "outputs": [
    {
     "data": {
      "text/plain": [
       "Wed    7000\n",
       "Thu    8000\n",
       "Fri    2000\n",
       "Name: Watch Steps, dtype: int64"
      ]
     },
     "execution_count": 60,
     "metadata": {},
     "output_type": "execute_result"
    }
   ],
   "source": [
    "wh_step"
   ]
  },
  {
   "cell_type": "code",
   "execution_count": 61,
   "id": "b031414b-e232-4256-94c4-6beb4060ee9d",
   "metadata": {},
   "outputs": [
    {
     "data": {
      "text/plain": [
       "Fri    10000.0\n",
       "Mon        NaN\n",
       "Thu    10000.0\n",
       "Tue        NaN\n",
       "Wed    10000.0\n",
       "dtype: float64"
      ]
     },
     "execution_count": 61,
     "metadata": {},
     "output_type": "execute_result"
    }
   ],
   "source": [
    "ph_step+wh_step"
   ]
  },
  {
   "cell_type": "code",
   "execution_count": 62,
   "id": "30a82d75-7c60-46c6-b842-5b7584d35e36",
   "metadata": {},
   "outputs": [
    {
     "data": {
      "text/plain": [
       "Fri    10000.0\n",
       "Mon     1000.0\n",
       "Thu    10000.0\n",
       "Tue     5000.0\n",
       "Wed    10000.0\n",
       "dtype: float64"
      ]
     },
     "execution_count": 62,
     "metadata": {},
     "output_type": "execute_result"
    }
   ],
   "source": [
    "ph_step.add(wh_step, fill_value=0)  #This sets the missing Value to 0 and THEN ADD IT (so in wh_steps there are 2 missing value which is 0 and then added to ph_steps values)"
   ]
  },
  {
   "cell_type": "code",
   "execution_count": 94,
   "id": "019fd75b-ec4a-4946-aeca-4944538aa353",
   "metadata": {},
   "outputs": [
    {
     "data": {
      "text/plain": [
       "Fri    False\n",
       "Mon     True\n",
       "Thu    False\n",
       "Tue     True\n",
       "Wed    False\n",
       "dtype: bool"
      ]
     },
     "execution_count": 94,
     "metadata": {},
     "output_type": "execute_result"
    }
   ],
   "source": [
    "total=ph_step+wh_step\n",
    "total.isna()"
   ]
  },
  {
   "cell_type": "code",
   "execution_count": 95,
   "id": "65dbf156-ff03-498c-ab41-68535fde2fae",
   "metadata": {},
   "outputs": [],
   "source": [
    "total.fillna(380, inplace=True) # Inplace replaces the total value with func output"
   ]
  },
  {
   "cell_type": "code",
   "execution_count": 96,
   "id": "680f2447-48ea-4261-8954-e03df916ed33",
   "metadata": {},
   "outputs": [
    {
     "data": {
      "text/plain": [
       "Fri    10000.0\n",
       "Mon      380.0\n",
       "Thu    10000.0\n",
       "Tue      380.0\n",
       "Wed    10000.0\n",
       "dtype: float64"
      ]
     },
     "execution_count": 96,
     "metadata": {},
     "output_type": "execute_result"
    }
   ],
   "source": [
    "total"
   ]
  },
  {
   "cell_type": "code",
   "execution_count": 66,
   "id": "7bd738e8-5ab8-4bad-8b1c-e9223eb2f650",
   "metadata": {},
   "outputs": [
    {
     "data": {
      "text/plain": [
       "Fri    10000.0\n",
       "Mon        NaN\n",
       "Thu    10000.0\n",
       "Tue        NaN\n",
       "Wed    10000.0\n",
       "dtype: float64"
      ]
     },
     "execution_count": 66,
     "metadata": {},
     "output_type": "execute_result"
    }
   ],
   "source": [
    "opka=ph_step+wh_step\n",
    "opka"
   ]
  },
  {
   "cell_type": "code",
   "execution_count": 67,
   "id": "b29a5114-9f80-4558-9505-2bd53cc7e690",
   "metadata": {},
   "outputs": [
    {
     "data": {
      "text/plain": [
       "Fri    10000.0\n",
       "Thu    10000.0\n",
       "Wed    10000.0\n",
       "dtype: float64"
      ]
     },
     "execution_count": 67,
     "metadata": {},
     "output_type": "execute_result"
    }
   ],
   "source": [
    "opka.dropna()"
   ]
  },
  {
   "cell_type": "code",
   "execution_count": 68,
   "id": "64baef5f-1df3-44f5-8316-c678cb5633fc",
   "metadata": {},
   "outputs": [
    {
     "data": {
      "text/plain": [
       "Fri    10000.0\n",
       "Mon        NaN\n",
       "Thu    10000.0\n",
       "Tue        NaN\n",
       "Wed    10000.0\n",
       "dtype: float64"
      ]
     },
     "execution_count": 68,
     "metadata": {},
     "output_type": "execute_result"
    }
   ],
   "source": [
    "opka"
   ]
  },
  {
   "cell_type": "code",
   "execution_count": 69,
   "id": "b6b9eb32-771d-490d-a6d3-8806f3684d35",
   "metadata": {},
   "outputs": [],
   "source": [
    "opka.dropna(inplace=True)"
   ]
  },
  {
   "cell_type": "code",
   "execution_count": 70,
   "id": "2547327e-73ab-476d-8cd5-9664fdabedc9",
   "metadata": {},
   "outputs": [
    {
     "data": {
      "text/plain": [
       "Fri    10000.0\n",
       "Thu    10000.0\n",
       "Wed    10000.0\n",
       "dtype: float64"
      ]
     },
     "execution_count": 70,
     "metadata": {},
     "output_type": "execute_result"
    }
   ],
   "source": [
    "opka"
   ]
  },
  {
   "cell_type": "code",
   "execution_count": 73,
   "id": "63a399a4-e021-4ee0-aab4-857ae0b039f7",
   "metadata": {},
   "outputs": [
    {
     "data": {
      "text/plain": [
       "np.float64(30760.0)"
      ]
     },
     "execution_count": 73,
     "metadata": {},
     "output_type": "execute_result"
    }
   ],
   "source": [
    "total.sum()"
   ]
  },
  {
   "cell_type": "code",
   "execution_count": 74,
   "id": "4e31df91-7c73-45ec-affa-6a77b81d0cb7",
   "metadata": {},
   "outputs": [
    {
     "data": {
      "text/plain": [
       "np.float64(6152.0)"
      ]
     },
     "execution_count": 74,
     "metadata": {},
     "output_type": "execute_result"
    }
   ],
   "source": [
    "total.mean()"
   ]
  },
  {
   "cell_type": "code",
   "execution_count": 76,
   "id": "05b5ee04-4ee4-4327-b6a2-8e6c470a1867",
   "metadata": {},
   "outputs": [
    {
     "data": {
      "text/plain": [
       "0    10000.0\n",
       "dtype: float64"
      ]
     },
     "execution_count": 76,
     "metadata": {},
     "output_type": "execute_result"
    }
   ],
   "source": [
    "total.mode()"
   ]
  },
  {
   "cell_type": "code",
   "execution_count": 78,
   "id": "00016997-0056-466b-99ac-abb26560e365",
   "metadata": {},
   "outputs": [
    {
     "data": {
      "text/plain": [
       "10000.0"
      ]
     },
     "execution_count": 78,
     "metadata": {},
     "output_type": "execute_result"
    }
   ],
   "source": [
    "total.median()"
   ]
  },
  {
   "cell_type": "code",
   "execution_count": 79,
   "id": "b27989f7-e9ed-414c-836c-ab62ba92eb3e",
   "metadata": {},
   "outputs": [
    {
     "data": {
      "text/plain": [
       "np.int64(5)"
      ]
     },
     "execution_count": 79,
     "metadata": {},
     "output_type": "execute_result"
    }
   ],
   "source": [
    "total.count()"
   ]
  },
  {
   "cell_type": "code",
   "execution_count": 81,
   "id": "25c481d7-1083-49b1-a2a0-23cf93619586",
   "metadata": {},
   "outputs": [
    {
     "data": {
      "text/plain": [
       "Mon      380.0\n",
       "Tue      380.0\n",
       "Fri    10000.0\n",
       "Thu    10000.0\n",
       "Wed    10000.0\n",
       "dtype: float64"
      ]
     },
     "execution_count": 81,
     "metadata": {},
     "output_type": "execute_result"
    }
   ],
   "source": [
    "total.sort_values()"
   ]
  },
  {
   "cell_type": "code",
   "execution_count": 82,
   "id": "56c039ed-3e18-45f9-80b4-ba6905412ec4",
   "metadata": {},
   "outputs": [
    {
     "data": {
      "text/plain": [
       "Fri    10000.0\n",
       "Mon      380.0\n",
       "Thu    10000.0\n",
       "Tue      380.0\n",
       "Wed    10000.0\n",
       "dtype: float64"
      ]
     },
     "execution_count": 82,
     "metadata": {},
     "output_type": "execute_result"
    }
   ],
   "source": [
    "total.sort_index()"
   ]
  },
  {
   "cell_type": "markdown",
   "id": "55a9db6a-6c08-4677-86ee-d14681302644",
   "metadata": {},
   "source": [
    "- Values are [10000][10000][10000] with index [Fri, Mon, Thu, Tue, Wed]; sorting ascending yields [10000][10000][10000]. The two 380s occupy positions 1 and 2, so both are assigned (1+2)/2=1.5(1+2)/2=1.5. The three 10000s occupy positions 3, 4, 5, so each is (3+4+5)/3=4.0(3+4+5)/3=4.0."
   ]
  },
  {
   "cell_type": "code",
   "execution_count": 83,
   "id": "8f54d632-78ef-43f4-a1fb-263e937e5d8d",
   "metadata": {},
   "outputs": [
    {
     "data": {
      "text/plain": [
       "Fri    4.0\n",
       "Mon    1.5\n",
       "Thu    4.0\n",
       "Tue    1.5\n",
       "Wed    4.0\n",
       "dtype: float64"
      ]
     },
     "execution_count": 83,
     "metadata": {},
     "output_type": "execute_result"
    }
   ],
   "source": [
    "total.rank()  "
   ]
  },
  {
   "cell_type": "code",
   "execution_count": 85,
   "id": "30442c91-8f88-4967-a508-a96cb3fc92a7",
   "metadata": {},
   "outputs": [
    {
     "name": "stdout",
     "output_type": "stream",
     "text": [
      "The history saving thread hit an unexpected error (OperationalError('attempt to write a readonly database')).History will not be written to the database.\n"
     ]
    },
    {
     "data": {
      "text/html": [
       "<div>\n",
       "<style scoped>\n",
       "    .dataframe tbody tr th:only-of-type {\n",
       "        vertical-align: middle;\n",
       "    }\n",
       "\n",
       "    .dataframe tbody tr th {\n",
       "        vertical-align: top;\n",
       "    }\n",
       "\n",
       "    .dataframe thead th {\n",
       "        text-align: right;\n",
       "    }\n",
       "</style>\n",
       "<table border=\"1\" class=\"dataframe\">\n",
       "  <thead>\n",
       "    <tr style=\"text-align: right;\">\n",
       "      <th></th>\n",
       "      <th>index</th>\n",
       "      <th>0</th>\n",
       "    </tr>\n",
       "  </thead>\n",
       "  <tbody>\n",
       "    <tr>\n",
       "      <th>0</th>\n",
       "      <td>Fri</td>\n",
       "      <td>10000.0</td>\n",
       "    </tr>\n",
       "    <tr>\n",
       "      <th>1</th>\n",
       "      <td>Mon</td>\n",
       "      <td>380.0</td>\n",
       "    </tr>\n",
       "    <tr>\n",
       "      <th>2</th>\n",
       "      <td>Thu</td>\n",
       "      <td>10000.0</td>\n",
       "    </tr>\n",
       "    <tr>\n",
       "      <th>3</th>\n",
       "      <td>Tue</td>\n",
       "      <td>380.0</td>\n",
       "    </tr>\n",
       "    <tr>\n",
       "      <th>4</th>\n",
       "      <td>Wed</td>\n",
       "      <td>10000.0</td>\n",
       "    </tr>\n",
       "  </tbody>\n",
       "</table>\n",
       "</div>"
      ],
      "text/plain": [
       "  index        0\n",
       "0   Fri  10000.0\n",
       "1   Mon    380.0\n",
       "2   Thu  10000.0\n",
       "3   Tue    380.0\n",
       "4   Wed  10000.0"
      ]
     },
     "execution_count": 85,
     "metadata": {},
     "output_type": "execute_result"
    }
   ],
   "source": [
    "xyz=total.reset_index()\n",
    "xyz # This is a dataframe now"
   ]
  },
  {
   "cell_type": "code",
   "execution_count": 98,
   "id": "de37c60f-5858-48f1-8d05-0aa51f64e5d4",
   "metadata": {},
   "outputs": [
    {
     "name": "stdout",
     "output_type": "stream",
     "text": [
      "0    10000.0\n",
      "1      380.0\n",
      "2    10000.0\n",
      "3      380.0\n",
      "4    10000.0\n",
      "dtype: float64\n"
     ]
    }
   ],
   "source": [
    "abc=total.reset_index(drop=True)\n",
    "print(abc)"
   ]
  },
  {
   "cell_type": "code",
   "execution_count": 101,
   "id": "1f7c9f3b-08fc-4a44-bbf9-637b7def70ba",
   "metadata": {},
   "outputs": [
    {
     "data": {
      "text/plain": [
       "Fri    10000.0\n",
       "Mon      380.0\n",
       "Thu    10000.0\n",
       "Tue      380.0\n",
       "Wed    10000.0\n",
       "dtype: float64"
      ]
     },
     "execution_count": 101,
     "metadata": {},
     "output_type": "execute_result"
    }
   ],
   "source": [
    "total"
   ]
  },
  {
   "cell_type": "code",
   "execution_count": null,
   "id": "a6d68529-6747-4afc-a665-911a99ac3b54",
   "metadata": {},
   "outputs": [],
   "source": []
  }
 ],
 "metadata": {
  "kernelspec": {
   "display_name": "Python [conda env:base] *",
   "language": "python",
   "name": "conda-base-py"
  },
  "language_info": {
   "codemirror_mode": {
    "name": "ipython",
    "version": 3
   },
   "file_extension": ".py",
   "mimetype": "text/x-python",
   "name": "python",
   "nbconvert_exporter": "python",
   "pygments_lexer": "ipython3",
   "version": "3.13.5"
  }
 },
 "nbformat": 4,
 "nbformat_minor": 5
}
