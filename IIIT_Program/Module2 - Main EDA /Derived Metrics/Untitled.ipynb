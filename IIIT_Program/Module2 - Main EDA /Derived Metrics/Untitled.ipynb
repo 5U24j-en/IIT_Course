{
 "cells": [
  {
   "cell_type": "code",
   "execution_count": 4,
   "id": "70cf484a-c3af-40a4-b18c-3265387b7a0a",
   "metadata": {},
   "outputs": [
    {
     "name": "stdout",
     "output_type": "stream",
     "text": [
      "None\n",
      "{'Candidate Name': 'Nikhil', 'Email ID': 'nikhil98singhdomain.com'}\n"
     ]
    }
   ],
   "source": [
    "from ast import literal_eval\n",
    "import re\n",
    "# Function to identify invalid email ID\n",
    "def identify_invalid_email(record):\n",
    "    # Code here\n",
    "    test = re.match(r\"^.+@.+\\..+$\", record[\"Email ID\"])\n",
    "    print(test)\n",
    "    if test==False:\n",
    "        record[\"Email ID\"]=\"invalid\"\n",
    "        \n",
    "    return record\n",
    "\n",
    "# Inpout and output processing  (do not edit)\n",
    "print(identify_invalid_email({'Candidate Name': 'Nikhil', 'Email ID': 'nikhil98singhdomain.com'}))"
   ]
  },
  {
   "cell_type": "code",
   "execution_count": null,
   "id": "1b2c08de-fc4e-41c7-acb8-683c12e6f1c6",
   "metadata": {},
   "outputs": [],
   "source": []
  }
 ],
 "metadata": {
  "kernelspec": {
   "display_name": "Python [conda env:base] *",
   "language": "python",
   "name": "conda-base-py"
  },
  "language_info": {
   "codemirror_mode": {
    "name": "ipython",
    "version": 3
   },
   "file_extension": ".py",
   "mimetype": "text/x-python",
   "name": "python",
   "nbconvert_exporter": "python",
   "pygments_lexer": "ipython3",
   "version": "3.13.5"
  }
 },
 "nbformat": 4,
 "nbformat_minor": 5
}
