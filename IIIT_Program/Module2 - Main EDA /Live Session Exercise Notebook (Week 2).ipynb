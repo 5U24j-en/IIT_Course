{
 "cells": [
  {
   "cell_type": "markdown",
   "id": "728b78fe-df11-4ecb-9865-2c7fa7a6f591",
   "metadata": {},
   "source": [
    "# Exploratory Data Analysis (EDA) on Zomato dataset\n",
    "\n",
    "Let us learn about univariate analysis and bivariate analysis using the dataset of Zomato, the online food delivery platform.\n",
    "\n",
    "Before we go ahead with the analysis, let us have a quick understanding of all the columns in the data.\n",
    "\n",
    "Here’s a brief column-wise description of the zomato.csv dataset for your reference.\n",
    "\n",
    "1. **Restaurant ID**: A unique identifier for each restaurant in the dataset.\n",
    "2. **Restaurant Name**: The name of the restaurant.\n",
    "3. **Country Code**: A numeric code representing the country where the restaurant is located.\n",
    "4. **City**: The city where the restaurant is located.\n",
    "5. **Address**: The physical address of the restaurant.\n",
    "6. **Locality**: A more specific location or area within the city.\n",
    "7. **Locality Verbose**: A detailed description of the restaurant's location.\n",
    "8. **Longitude**: The geographic longitude of the restaurant's location.\n",
    "9. **Latitude**: The geographic latitude of the restaurant's location.\n",
    "10. **Cuisines**: A list of cuisines offered by the restaurant, such as Indian, Chinese, Italian, etc.\n",
    "11. **Average Cost for Two**: The average cost for a meal for two people at the restaurant.\n",
    "12. **Currency**: The currency used in the restaurant's pricing.\n",
    "13. **Has Table booking**: A boolean column indicating whether the restaurant accepts table bookings.\n",
    "14. **Has Online delivery**: A boolean column indicating whether the restaurant offers online delivery.\n",
    "15. **Is delivering now**: A boolean column indicating whether the restaurant is currently delivering food.\n",
    "16. **Switch to order menu**: A boolean column indicating if the restaurant has a menu for ordering food online.\n",
    "17. **Price range**: A numerical value indicating the price range at the restaurant (1 to 4 scale).\n",
    "18. **Aggregate rating**: The overall rating of the restaurant based on user reviews.\n",
    "19. **Rating color**: The rating category (e.g., Dark Green, Green, Orange, etc.), indicating the quality of the restaurant based on the rating.\n",
    "20. **Rating text**: Descriptive text based on the restaurant's rating (e.g., Excellent, Very Good, Good, etc.).\n",
    "21. **Votes**: The number of user votes or reviews received for the restaurant.\n",
    "\n",
    "In the 'Country-Code.xlsx' file, we have \n",
    "1. **Country**: The name of the country where the restaurant is located.\n",
    "2. **Country Code**: The code number for every country in the dataset"
   ]
  },
  {
   "cell_type": "markdown",
   "id": "da8de297-06f8-4e56-a5a1-c47305ba76fa",
   "metadata": {},
   "source": [
    "### Loading the necessary libraries"
   ]
  },
  {
   "cell_type": "code",
   "execution_count": 1,
   "id": "677a4934-6e71-471f-af10-9840221e5b11",
   "metadata": {},
   "outputs": [],
   "source": [
    "# Import necessary libraries required for the data exploration\n",
    "# Loading \"numpy\" and \"pandas\" for manipulating numbers, vectors and data frames\n",
    "# Loading \"matplotlib.pyplot\" and \"seaborn\" for data visualisation\n",
    "import pandas as pd\n",
    "import numpy as np\n",
    "import seaborn as sns\n",
    "import matplotlib.pyplot as plt"
   ]
  },
  {
   "cell_type": "markdown",
   "id": "7124295a-d7d9-43f0-9e0a-e56036624f7e",
   "metadata": {},
   "source": [
    "### Reading in the 'zomato.csv' & 'Country-Code.xlsx' file as a Pandas Data Frame\n",
    "\n",
    "Here we have used a CSV file which is on our local system drive. You can also use the URL (https://www.kaggle.com/datasets/swatikhedekar/eda-on-zomato-dataset) of the dataset from Kaggle or Github or use the relevant function based on the file format of the input data."
   ]
  },
  {
   "cell_type": "code",
   "execution_count": 5,
   "id": "fcc6139d-c433-4f6a-bb4c-790cbfc914b5",
   "metadata": {},
   "outputs": [],
   "source": [
    "# Load the zomato.csv file\n",
    "\n",
    "zomato_df=pd.read_csv(\"/home/diablo/Desktop/IIIT_Program/Module2 - Main EDA /Live Session EDA 1 - 30 Aug/zomato.csv\", encoding=\"ISO-8859-1\")   # IF UTF not working use \"ISO-8859-1\"\n",
    "# Display the first few rows of the dataframe\n",
    "zomato_df.head()\n",
    "\n",
    "# Load the Country-Code.xlsx file\n",
    "country_df=pd.read_excel(\"/home/diablo/Desktop/IIIT_Program/Module2 - Main EDA /Live Session EDA 1 - 30 Aug/Country-Code.xlsx\")\n",
    "\n",
    "# Display the first few rows of the dataframe\n"
   ]
  },
  {
   "cell_type": "code",
   "execution_count": 6,
   "id": "214a5c5e-6e2f-43db-ae03-26df3f39191c",
   "metadata": {},
   "outputs": [
    {
     "data": {
      "text/html": [
       "<div>\n",
       "<style scoped>\n",
       "    .dataframe tbody tr th:only-of-type {\n",
       "        vertical-align: middle;\n",
       "    }\n",
       "\n",
       "    .dataframe tbody tr th {\n",
       "        vertical-align: top;\n",
       "    }\n",
       "\n",
       "    .dataframe thead th {\n",
       "        text-align: right;\n",
       "    }\n",
       "</style>\n",
       "<table border=\"1\" class=\"dataframe\">\n",
       "  <thead>\n",
       "    <tr style=\"text-align: right;\">\n",
       "      <th></th>\n",
       "      <th>Restaurant ID</th>\n",
       "      <th>Restaurant Name</th>\n",
       "      <th>Country Code</th>\n",
       "      <th>City</th>\n",
       "      <th>Address</th>\n",
       "      <th>Locality</th>\n",
       "      <th>Locality Verbose</th>\n",
       "      <th>Longitude</th>\n",
       "      <th>Latitude</th>\n",
       "      <th>Cuisines</th>\n",
       "      <th>...</th>\n",
       "      <th>Currency</th>\n",
       "      <th>Has Table booking</th>\n",
       "      <th>Has Online delivery</th>\n",
       "      <th>Is delivering now</th>\n",
       "      <th>Switch to order menu</th>\n",
       "      <th>Price range</th>\n",
       "      <th>Aggregate rating</th>\n",
       "      <th>Rating color</th>\n",
       "      <th>Rating text</th>\n",
       "      <th>Votes</th>\n",
       "    </tr>\n",
       "  </thead>\n",
       "  <tbody>\n",
       "    <tr>\n",
       "      <th>0</th>\n",
       "      <td>6317637</td>\n",
       "      <td>Le Petit Souffle</td>\n",
       "      <td>162</td>\n",
       "      <td>Makati City</td>\n",
       "      <td>Third Floor, Century City Mall, Kalayaan Avenu...</td>\n",
       "      <td>Century City Mall, Poblacion, Makati City</td>\n",
       "      <td>Century City Mall, Poblacion, Makati City, Mak...</td>\n",
       "      <td>121.027535</td>\n",
       "      <td>14.565443</td>\n",
       "      <td>French, Japanese, Desserts</td>\n",
       "      <td>...</td>\n",
       "      <td>Botswana Pula(P)</td>\n",
       "      <td>Yes</td>\n",
       "      <td>No</td>\n",
       "      <td>No</td>\n",
       "      <td>No</td>\n",
       "      <td>3</td>\n",
       "      <td>4.8</td>\n",
       "      <td>Dark Green</td>\n",
       "      <td>Excellent</td>\n",
       "      <td>314</td>\n",
       "    </tr>\n",
       "    <tr>\n",
       "      <th>1</th>\n",
       "      <td>6304287</td>\n",
       "      <td>Izakaya Kikufuji</td>\n",
       "      <td>162</td>\n",
       "      <td>Makati City</td>\n",
       "      <td>Little Tokyo, 2277 Chino Roces Avenue, Legaspi...</td>\n",
       "      <td>Little Tokyo, Legaspi Village, Makati City</td>\n",
       "      <td>Little Tokyo, Legaspi Village, Makati City, Ma...</td>\n",
       "      <td>121.014101</td>\n",
       "      <td>14.553708</td>\n",
       "      <td>Japanese</td>\n",
       "      <td>...</td>\n",
       "      <td>Botswana Pula(P)</td>\n",
       "      <td>Yes</td>\n",
       "      <td>No</td>\n",
       "      <td>No</td>\n",
       "      <td>No</td>\n",
       "      <td>3</td>\n",
       "      <td>4.5</td>\n",
       "      <td>Dark Green</td>\n",
       "      <td>Excellent</td>\n",
       "      <td>591</td>\n",
       "    </tr>\n",
       "    <tr>\n",
       "      <th>2</th>\n",
       "      <td>6300002</td>\n",
       "      <td>Heat - Edsa Shangri-La</td>\n",
       "      <td>162</td>\n",
       "      <td>Mandaluyong City</td>\n",
       "      <td>Edsa Shangri-La, 1 Garden Way, Ortigas, Mandal...</td>\n",
       "      <td>Edsa Shangri-La, Ortigas, Mandaluyong City</td>\n",
       "      <td>Edsa Shangri-La, Ortigas, Mandaluyong City, Ma...</td>\n",
       "      <td>121.056831</td>\n",
       "      <td>14.581404</td>\n",
       "      <td>Seafood, Asian, Filipino, Indian</td>\n",
       "      <td>...</td>\n",
       "      <td>Botswana Pula(P)</td>\n",
       "      <td>Yes</td>\n",
       "      <td>No</td>\n",
       "      <td>No</td>\n",
       "      <td>No</td>\n",
       "      <td>4</td>\n",
       "      <td>4.4</td>\n",
       "      <td>Green</td>\n",
       "      <td>Very Good</td>\n",
       "      <td>270</td>\n",
       "    </tr>\n",
       "    <tr>\n",
       "      <th>3</th>\n",
       "      <td>6318506</td>\n",
       "      <td>Ooma</td>\n",
       "      <td>162</td>\n",
       "      <td>Mandaluyong City</td>\n",
       "      <td>Third Floor, Mega Fashion Hall, SM Megamall, O...</td>\n",
       "      <td>SM Megamall, Ortigas, Mandaluyong City</td>\n",
       "      <td>SM Megamall, Ortigas, Mandaluyong City, Mandal...</td>\n",
       "      <td>121.056475</td>\n",
       "      <td>14.585318</td>\n",
       "      <td>Japanese, Sushi</td>\n",
       "      <td>...</td>\n",
       "      <td>Botswana Pula(P)</td>\n",
       "      <td>No</td>\n",
       "      <td>No</td>\n",
       "      <td>No</td>\n",
       "      <td>No</td>\n",
       "      <td>4</td>\n",
       "      <td>4.9</td>\n",
       "      <td>Dark Green</td>\n",
       "      <td>Excellent</td>\n",
       "      <td>365</td>\n",
       "    </tr>\n",
       "    <tr>\n",
       "      <th>4</th>\n",
       "      <td>6314302</td>\n",
       "      <td>Sambo Kojin</td>\n",
       "      <td>162</td>\n",
       "      <td>Mandaluyong City</td>\n",
       "      <td>Third Floor, Mega Atrium, SM Megamall, Ortigas...</td>\n",
       "      <td>SM Megamall, Ortigas, Mandaluyong City</td>\n",
       "      <td>SM Megamall, Ortigas, Mandaluyong City, Mandal...</td>\n",
       "      <td>121.057508</td>\n",
       "      <td>14.584450</td>\n",
       "      <td>Japanese, Korean</td>\n",
       "      <td>...</td>\n",
       "      <td>Botswana Pula(P)</td>\n",
       "      <td>Yes</td>\n",
       "      <td>No</td>\n",
       "      <td>No</td>\n",
       "      <td>No</td>\n",
       "      <td>4</td>\n",
       "      <td>4.8</td>\n",
       "      <td>Dark Green</td>\n",
       "      <td>Excellent</td>\n",
       "      <td>229</td>\n",
       "    </tr>\n",
       "  </tbody>\n",
       "</table>\n",
       "<p>5 rows × 21 columns</p>\n",
       "</div>"
      ],
      "text/plain": [
       "   Restaurant ID         Restaurant Name  Country Code              City  \\\n",
       "0        6317637        Le Petit Souffle           162       Makati City   \n",
       "1        6304287        Izakaya Kikufuji           162       Makati City   \n",
       "2        6300002  Heat - Edsa Shangri-La           162  Mandaluyong City   \n",
       "3        6318506                    Ooma           162  Mandaluyong City   \n",
       "4        6314302             Sambo Kojin           162  Mandaluyong City   \n",
       "\n",
       "                                             Address  \\\n",
       "0  Third Floor, Century City Mall, Kalayaan Avenu...   \n",
       "1  Little Tokyo, 2277 Chino Roces Avenue, Legaspi...   \n",
       "2  Edsa Shangri-La, 1 Garden Way, Ortigas, Mandal...   \n",
       "3  Third Floor, Mega Fashion Hall, SM Megamall, O...   \n",
       "4  Third Floor, Mega Atrium, SM Megamall, Ortigas...   \n",
       "\n",
       "                                     Locality  \\\n",
       "0   Century City Mall, Poblacion, Makati City   \n",
       "1  Little Tokyo, Legaspi Village, Makati City   \n",
       "2  Edsa Shangri-La, Ortigas, Mandaluyong City   \n",
       "3      SM Megamall, Ortigas, Mandaluyong City   \n",
       "4      SM Megamall, Ortigas, Mandaluyong City   \n",
       "\n",
       "                                    Locality Verbose   Longitude   Latitude  \\\n",
       "0  Century City Mall, Poblacion, Makati City, Mak...  121.027535  14.565443   \n",
       "1  Little Tokyo, Legaspi Village, Makati City, Ma...  121.014101  14.553708   \n",
       "2  Edsa Shangri-La, Ortigas, Mandaluyong City, Ma...  121.056831  14.581404   \n",
       "3  SM Megamall, Ortigas, Mandaluyong City, Mandal...  121.056475  14.585318   \n",
       "4  SM Megamall, Ortigas, Mandaluyong City, Mandal...  121.057508  14.584450   \n",
       "\n",
       "                           Cuisines  ...          Currency Has Table booking  \\\n",
       "0        French, Japanese, Desserts  ...  Botswana Pula(P)               Yes   \n",
       "1                          Japanese  ...  Botswana Pula(P)               Yes   \n",
       "2  Seafood, Asian, Filipino, Indian  ...  Botswana Pula(P)               Yes   \n",
       "3                   Japanese, Sushi  ...  Botswana Pula(P)                No   \n",
       "4                  Japanese, Korean  ...  Botswana Pula(P)               Yes   \n",
       "\n",
       "  Has Online delivery Is delivering now Switch to order menu Price range  \\\n",
       "0                  No                No                   No           3   \n",
       "1                  No                No                   No           3   \n",
       "2                  No                No                   No           4   \n",
       "3                  No                No                   No           4   \n",
       "4                  No                No                   No           4   \n",
       "\n",
       "   Aggregate rating  Rating color Rating text Votes  \n",
       "0               4.8    Dark Green   Excellent   314  \n",
       "1               4.5    Dark Green   Excellent   591  \n",
       "2               4.4         Green   Very Good   270  \n",
       "3               4.9    Dark Green   Excellent   365  \n",
       "4               4.8    Dark Green   Excellent   229  \n",
       "\n",
       "[5 rows x 21 columns]"
      ]
     },
     "execution_count": 6,
     "metadata": {},
     "output_type": "execute_result"
    }
   ],
   "source": [
    "zomato_df.head()"
   ]
  },
  {
   "cell_type": "code",
   "execution_count": 7,
   "id": "d77a49b9-f97e-44e0-b7c3-09a727766503",
   "metadata": {},
   "outputs": [
    {
     "data": {
      "text/html": [
       "<div>\n",
       "<style scoped>\n",
       "    .dataframe tbody tr th:only-of-type {\n",
       "        vertical-align: middle;\n",
       "    }\n",
       "\n",
       "    .dataframe tbody tr th {\n",
       "        vertical-align: top;\n",
       "    }\n",
       "\n",
       "    .dataframe thead th {\n",
       "        text-align: right;\n",
       "    }\n",
       "</style>\n",
       "<table border=\"1\" class=\"dataframe\">\n",
       "  <thead>\n",
       "    <tr style=\"text-align: right;\">\n",
       "      <th></th>\n",
       "      <th>Country Code</th>\n",
       "      <th>Country</th>\n",
       "    </tr>\n",
       "  </thead>\n",
       "  <tbody>\n",
       "    <tr>\n",
       "      <th>0</th>\n",
       "      <td>1</td>\n",
       "      <td>India</td>\n",
       "    </tr>\n",
       "    <tr>\n",
       "      <th>1</th>\n",
       "      <td>14</td>\n",
       "      <td>Australia</td>\n",
       "    </tr>\n",
       "    <tr>\n",
       "      <th>2</th>\n",
       "      <td>30</td>\n",
       "      <td>Brazil</td>\n",
       "    </tr>\n",
       "    <tr>\n",
       "      <th>3</th>\n",
       "      <td>37</td>\n",
       "      <td>Canada</td>\n",
       "    </tr>\n",
       "    <tr>\n",
       "      <th>4</th>\n",
       "      <td>94</td>\n",
       "      <td>Indonesia</td>\n",
       "    </tr>\n",
       "  </tbody>\n",
       "</table>\n",
       "</div>"
      ],
      "text/plain": [
       "   Country Code    Country\n",
       "0             1      India\n",
       "1            14  Australia\n",
       "2            30     Brazil\n",
       "3            37     Canada\n",
       "4            94  Indonesia"
      ]
     },
     "execution_count": 7,
     "metadata": {},
     "output_type": "execute_result"
    }
   ],
   "source": [
    "country_df.head()"
   ]
  },
  {
   "cell_type": "markdown",
   "id": "19ea1e1e-330f-4934-a9ab-e318383fe354",
   "metadata": {},
   "source": [
    "Now that we have loaded both the datasets, one is the zomato_df (from zomato.csv) file, the other a country_code_df (from Country_Code.xlsx) file, let us merge the both in a single file to get the country names."
   ]
  },
  {
   "cell_type": "code",
   "execution_count": 8,
   "id": "41c5e2ba-b332-4010-a622-63f639a6924e",
   "metadata": {},
   "outputs": [
    {
     "data": {
      "text/plain": [
       "Index(['Restaurant ID', 'Restaurant Name', 'Country Code', 'City', 'Address',\n",
       "       'Locality', 'Locality Verbose', 'Longitude', 'Latitude', 'Cuisines',\n",
       "       'Average Cost for two', 'Currency', 'Has Table booking',\n",
       "       'Has Online delivery', 'Is delivering now', 'Switch to order menu',\n",
       "       'Price range', 'Aggregate rating', 'Rating color', 'Rating text',\n",
       "       'Votes', 'Country'],\n",
       "      dtype='object')"
      ]
     },
     "execution_count": 8,
     "metadata": {},
     "output_type": "execute_result"
    }
   ],
   "source": [
    "# Merge the datasets on the 'Country Code' column\n",
    "zomato_df=zomato_df.merge(country_df[[\"Country Code\",\"Country\"]], on=\"Country Code\", how=\"left\")\n",
    "\n",
    "\n",
    "\n",
    "# Print the column names to check the correct column names\n",
    "zomato_df.columns\n",
    "\n",
    "\n"
   ]
  },
  {
   "cell_type": "code",
   "execution_count": 21,
   "id": "4b772f07-7f2a-40e6-8edf-c009aad2f22f",
   "metadata": {},
   "outputs": [
    {
     "data": {
      "text/html": [
       "<div>\n",
       "<style scoped>\n",
       "    .dataframe tbody tr th:only-of-type {\n",
       "        vertical-align: middle;\n",
       "    }\n",
       "\n",
       "    .dataframe tbody tr th {\n",
       "        vertical-align: top;\n",
       "    }\n",
       "\n",
       "    .dataframe thead th {\n",
       "        text-align: right;\n",
       "    }\n",
       "</style>\n",
       "<table border=\"1\" class=\"dataframe\">\n",
       "  <thead>\n",
       "    <tr style=\"text-align: right;\">\n",
       "      <th></th>\n",
       "      <th>Restaurant ID</th>\n",
       "      <th>Restaurant Name</th>\n",
       "      <th>City</th>\n",
       "      <th>Address</th>\n",
       "      <th>Locality</th>\n",
       "      <th>Locality Verbose</th>\n",
       "      <th>Longitude</th>\n",
       "      <th>Latitude</th>\n",
       "      <th>Cuisines</th>\n",
       "      <th>Average Cost for two</th>\n",
       "      <th>...</th>\n",
       "      <th>Has Table booking</th>\n",
       "      <th>Has Online delivery</th>\n",
       "      <th>Is delivering now</th>\n",
       "      <th>Switch to order menu</th>\n",
       "      <th>Price range</th>\n",
       "      <th>Aggregate rating</th>\n",
       "      <th>Rating color</th>\n",
       "      <th>Rating text</th>\n",
       "      <th>Votes</th>\n",
       "      <th>Country</th>\n",
       "    </tr>\n",
       "  </thead>\n",
       "  <tbody>\n",
       "    <tr>\n",
       "      <th>0</th>\n",
       "      <td>6317637</td>\n",
       "      <td>Le Petit Souffle</td>\n",
       "      <td>Makati City</td>\n",
       "      <td>Third Floor, Century City Mall, Kalayaan Avenu...</td>\n",
       "      <td>Century City Mall, Poblacion, Makati City</td>\n",
       "      <td>Century City Mall, Poblacion, Makati City, Mak...</td>\n",
       "      <td>121.027535</td>\n",
       "      <td>14.565443</td>\n",
       "      <td>French, Japanese, Desserts</td>\n",
       "      <td>1100</td>\n",
       "      <td>...</td>\n",
       "      <td>Yes</td>\n",
       "      <td>No</td>\n",
       "      <td>No</td>\n",
       "      <td>No</td>\n",
       "      <td>3</td>\n",
       "      <td>4.8</td>\n",
       "      <td>Dark Green</td>\n",
       "      <td>Excellent</td>\n",
       "      <td>314</td>\n",
       "      <td>Phillipines</td>\n",
       "    </tr>\n",
       "    <tr>\n",
       "      <th>1</th>\n",
       "      <td>6304287</td>\n",
       "      <td>Izakaya Kikufuji</td>\n",
       "      <td>Makati City</td>\n",
       "      <td>Little Tokyo, 2277 Chino Roces Avenue, Legaspi...</td>\n",
       "      <td>Little Tokyo, Legaspi Village, Makati City</td>\n",
       "      <td>Little Tokyo, Legaspi Village, Makati City, Ma...</td>\n",
       "      <td>121.014101</td>\n",
       "      <td>14.553708</td>\n",
       "      <td>Japanese</td>\n",
       "      <td>1200</td>\n",
       "      <td>...</td>\n",
       "      <td>Yes</td>\n",
       "      <td>No</td>\n",
       "      <td>No</td>\n",
       "      <td>No</td>\n",
       "      <td>3</td>\n",
       "      <td>4.5</td>\n",
       "      <td>Dark Green</td>\n",
       "      <td>Excellent</td>\n",
       "      <td>591</td>\n",
       "      <td>Phillipines</td>\n",
       "    </tr>\n",
       "    <tr>\n",
       "      <th>2</th>\n",
       "      <td>6300002</td>\n",
       "      <td>Heat - Edsa Shangri-La</td>\n",
       "      <td>Mandaluyong City</td>\n",
       "      <td>Edsa Shangri-La, 1 Garden Way, Ortigas, Mandal...</td>\n",
       "      <td>Edsa Shangri-La, Ortigas, Mandaluyong City</td>\n",
       "      <td>Edsa Shangri-La, Ortigas, Mandaluyong City, Ma...</td>\n",
       "      <td>121.056831</td>\n",
       "      <td>14.581404</td>\n",
       "      <td>Seafood, Asian, Filipino, Indian</td>\n",
       "      <td>4000</td>\n",
       "      <td>...</td>\n",
       "      <td>Yes</td>\n",
       "      <td>No</td>\n",
       "      <td>No</td>\n",
       "      <td>No</td>\n",
       "      <td>4</td>\n",
       "      <td>4.4</td>\n",
       "      <td>Green</td>\n",
       "      <td>Very Good</td>\n",
       "      <td>270</td>\n",
       "      <td>Phillipines</td>\n",
       "    </tr>\n",
       "    <tr>\n",
       "      <th>3</th>\n",
       "      <td>6318506</td>\n",
       "      <td>Ooma</td>\n",
       "      <td>Mandaluyong City</td>\n",
       "      <td>Third Floor, Mega Fashion Hall, SM Megamall, O...</td>\n",
       "      <td>SM Megamall, Ortigas, Mandaluyong City</td>\n",
       "      <td>SM Megamall, Ortigas, Mandaluyong City, Mandal...</td>\n",
       "      <td>121.056475</td>\n",
       "      <td>14.585318</td>\n",
       "      <td>Japanese, Sushi</td>\n",
       "      <td>1500</td>\n",
       "      <td>...</td>\n",
       "      <td>No</td>\n",
       "      <td>No</td>\n",
       "      <td>No</td>\n",
       "      <td>No</td>\n",
       "      <td>4</td>\n",
       "      <td>4.9</td>\n",
       "      <td>Dark Green</td>\n",
       "      <td>Excellent</td>\n",
       "      <td>365</td>\n",
       "      <td>Phillipines</td>\n",
       "    </tr>\n",
       "    <tr>\n",
       "      <th>4</th>\n",
       "      <td>6314302</td>\n",
       "      <td>Sambo Kojin</td>\n",
       "      <td>Mandaluyong City</td>\n",
       "      <td>Third Floor, Mega Atrium, SM Megamall, Ortigas...</td>\n",
       "      <td>SM Megamall, Ortigas, Mandaluyong City</td>\n",
       "      <td>SM Megamall, Ortigas, Mandaluyong City, Mandal...</td>\n",
       "      <td>121.057508</td>\n",
       "      <td>14.584450</td>\n",
       "      <td>Japanese, Korean</td>\n",
       "      <td>1500</td>\n",
       "      <td>...</td>\n",
       "      <td>Yes</td>\n",
       "      <td>No</td>\n",
       "      <td>No</td>\n",
       "      <td>No</td>\n",
       "      <td>4</td>\n",
       "      <td>4.8</td>\n",
       "      <td>Dark Green</td>\n",
       "      <td>Excellent</td>\n",
       "      <td>229</td>\n",
       "      <td>Phillipines</td>\n",
       "    </tr>\n",
       "  </tbody>\n",
       "</table>\n",
       "<p>5 rows × 21 columns</p>\n",
       "</div>"
      ],
      "text/plain": [
       "   Restaurant ID         Restaurant Name              City  \\\n",
       "0        6317637        Le Petit Souffle       Makati City   \n",
       "1        6304287        Izakaya Kikufuji       Makati City   \n",
       "2        6300002  Heat - Edsa Shangri-La  Mandaluyong City   \n",
       "3        6318506                    Ooma  Mandaluyong City   \n",
       "4        6314302             Sambo Kojin  Mandaluyong City   \n",
       "\n",
       "                                             Address  \\\n",
       "0  Third Floor, Century City Mall, Kalayaan Avenu...   \n",
       "1  Little Tokyo, 2277 Chino Roces Avenue, Legaspi...   \n",
       "2  Edsa Shangri-La, 1 Garden Way, Ortigas, Mandal...   \n",
       "3  Third Floor, Mega Fashion Hall, SM Megamall, O...   \n",
       "4  Third Floor, Mega Atrium, SM Megamall, Ortigas...   \n",
       "\n",
       "                                     Locality  \\\n",
       "0   Century City Mall, Poblacion, Makati City   \n",
       "1  Little Tokyo, Legaspi Village, Makati City   \n",
       "2  Edsa Shangri-La, Ortigas, Mandaluyong City   \n",
       "3      SM Megamall, Ortigas, Mandaluyong City   \n",
       "4      SM Megamall, Ortigas, Mandaluyong City   \n",
       "\n",
       "                                    Locality Verbose   Longitude   Latitude  \\\n",
       "0  Century City Mall, Poblacion, Makati City, Mak...  121.027535  14.565443   \n",
       "1  Little Tokyo, Legaspi Village, Makati City, Ma...  121.014101  14.553708   \n",
       "2  Edsa Shangri-La, Ortigas, Mandaluyong City, Ma...  121.056831  14.581404   \n",
       "3  SM Megamall, Ortigas, Mandaluyong City, Mandal...  121.056475  14.585318   \n",
       "4  SM Megamall, Ortigas, Mandaluyong City, Mandal...  121.057508  14.584450   \n",
       "\n",
       "                           Cuisines  Average Cost for two  ...  \\\n",
       "0        French, Japanese, Desserts                  1100  ...   \n",
       "1                          Japanese                  1200  ...   \n",
       "2  Seafood, Asian, Filipino, Indian                  4000  ...   \n",
       "3                   Japanese, Sushi                  1500  ...   \n",
       "4                  Japanese, Korean                  1500  ...   \n",
       "\n",
       "  Has Table booking Has Online delivery Is delivering now  \\\n",
       "0               Yes                  No                No   \n",
       "1               Yes                  No                No   \n",
       "2               Yes                  No                No   \n",
       "3                No                  No                No   \n",
       "4               Yes                  No                No   \n",
       "\n",
       "  Switch to order menu Price range  Aggregate rating  Rating color  \\\n",
       "0                   No           3               4.8    Dark Green   \n",
       "1                   No           3               4.5    Dark Green   \n",
       "2                   No           4               4.4         Green   \n",
       "3                   No           4               4.9    Dark Green   \n",
       "4                   No           4               4.8    Dark Green   \n",
       "\n",
       "  Rating text Votes      Country  \n",
       "0   Excellent   314  Phillipines  \n",
       "1   Excellent   591  Phillipines  \n",
       "2   Very Good   270  Phillipines  \n",
       "3   Excellent   365  Phillipines  \n",
       "4   Excellent   229  Phillipines  \n",
       "\n",
       "[5 rows x 21 columns]"
      ]
     },
     "execution_count": 21,
     "metadata": {},
     "output_type": "execute_result"
    }
   ],
   "source": [
    "# After the merge, ensure the correct column name for 'Country'\n",
    "# Check if there's a column like 'Country_x' or 'Country_y' and select it\n",
    "zomato_df[\"Country\"]=zomato_df[\"Country_y\"] if \"Country_y\" in zomato_df.columns else zomato_df[\"Country\"]\n",
    "\n",
    "# Drop unnecessary columns (if any)\n",
    "# Since we already have the country names in the column 'Country', we would not need the columns 'Country Code' and 'Country_y'. \n",
    "# So we are dropping the same.\n",
    "zomato_df=zomato_df.drop(['Country Code'],axis=1)\n",
    "\n",
    "# Display the updated dataframe\n",
    "zomato_df.head()\n",
    "\n",
    "# Now drop 'Country_x' as we have country names in 'Country' column\n",
    "# Similarly, since we already have the country names in the column 'Country', we would not need the columns 'Country_x'"
   ]
  },
  {
   "cell_type": "code",
   "execution_count": 22,
   "id": "b16a7ad7-df28-489f-8cf4-0ff0070610c6",
   "metadata": {},
   "outputs": [
    {
     "data": {
      "text/plain": [
       "Index(['Restaurant ID', 'Restaurant Name', 'City', 'Address', 'Locality',\n",
       "       'Locality Verbose', 'Longitude', 'Latitude', 'Cuisines',\n",
       "       'Average Cost for two', 'Currency', 'Has Table booking',\n",
       "       'Has Online delivery', 'Is delivering now', 'Switch to order menu',\n",
       "       'Price range', 'Aggregate rating', 'Rating color', 'Rating text',\n",
       "       'Votes', 'Country'],\n",
       "      dtype='object')"
      ]
     },
     "execution_count": 22,
     "metadata": {},
     "output_type": "execute_result"
    }
   ],
   "source": [
    "zomato_df.columns"
   ]
  },
  {
   "cell_type": "code",
   "execution_count": 4,
   "id": "46611e2f-f3ad-4db4-9352-97604902023a",
   "metadata": {},
   "outputs": [],
   "source": [
    "# We are checking if we have all the relevant columns, and have dropped unnecessary columns.\n",
    "# Getting the column names of the data frame using \".columns\"\n"
   ]
  },
  {
   "cell_type": "markdown",
   "id": "af88359d-a1b3-4a71-81ab-4e1022b5880b",
   "metadata": {},
   "source": [
    "Let's get started with our exploration. We shall do this by finding the answers to a few critical questions, that may be of interest to the company."
   ]
  },
  {
   "cell_type": "markdown",
   "id": "ab280486-7d31-41a6-95d3-8f89a30a915f",
   "metadata": {},
   "source": [
    "# Questions for Practice\n",
    "\n",
    "1. What is the distribution of restaurant ratings across all restaurants? What inferences can you draw from the same?\n",
    "\n",
    "   (Note that each row represents a restaurant)\n",
    "   "
   ]
  },
  {
   "cell_type": "code",
   "execution_count": 26,
   "id": "e76a5d08-6800-4112-a853-9d28d35836c4",
   "metadata": {},
   "outputs": [
    {
     "data": {
      "image/png": "[encoded data removed]",
      "text/plain": [
       "<Figure size 800x600 with 1 Axes>"
      ]
     },
     "metadata": {},
     "output_type": "display_data"
    }
   ],
   "source": [
    "# Filter out the restaurants with a rating of 0 since no rating was given to those restaurants\n",
    "filtered_ratings=zomato_df[zomato_df[\"Aggregate rating\"]>0]\n",
    "\n",
    "# Plotting the distribution of restaurant ratings\n",
    "plt.figure(figsize=(8,6))\n",
    "sns.histplot(filtered_ratings[\"Aggregate rating\"], bins=20, kde=True ,color =\"skyblue\")\n",
    "\n",
    "# Adding title and labels\n",
    "\n",
    "\n",
    "# Display the plot\n",
    "plt.show()"
   ]
  },
  {
   "cell_type": "markdown",
   "id": "35fc25a9-bec1-4f18-bfdb-3abf151a71af",
   "metadata": {},
   "source": [
    "### Inferences drawn from the solution"
   ]
  },
  {
   "cell_type": "markdown",
   "id": "ac0e8554-d82d-4632-9ee7-19ac8f304819",
   "metadata": {},
   "source": [
    "2. What is the average price range of restaurants across different cities? List the cities with highest range and the ones with lowest range. Draw conclusions from the output.\n",
    "\n",
    "(Note that here price range values are integer values from 1 to 4, 1 representing an affordable range of restaurants, and 4 would indicate expensive restaurants).  \n",
    "\n",
    "To answer this question, you can calculate the mean price range for each city."
   ]
  },
  {
   "cell_type": "code",
   "execution_count": 27,
   "id": "9d6fc725-a706-4240-9c32-14051d452bbe",
   "metadata": {},
   "outputs": [
    {
     "data": {
      "text/plain": [
       "City\n",
       "Panchkula           4.0\n",
       "Vineland Station    4.0\n",
       "Paynesville         4.0\n",
       "Johannesburg        4.0\n",
       "Inner City          4.0\n",
       "                   ... \n",
       "Fernley             1.0\n",
       "Dicky Beach         1.0\n",
       "Miller              1.0\n",
       "Mc Millan           1.0\n",
       "Vernonia            1.0\n",
       "Name: Price range, Length: 141, dtype: float64"
      ]
     },
     "execution_count": 27,
     "metadata": {},
     "output_type": "execute_result"
    }
   ],
   "source": [
    "# Group by 'City' and calculate the mean 'Price range' and sort them in descending order\n",
    "\n",
    "city_price_range_mean= zomato_df.groupby(\"City\")[\"Price range\"].mean().sort_values(ascending=False)\n",
    "city_price_range_mean\n",
    "\n",
    "\n",
    "\n",
    "\n",
    "\n",
    "# Print the results\n",
    "\n",
    "\n"
   ]
  },
  {
   "cell_type": "code",
   "execution_count": 35,
   "id": "40aba49e-fefb-4e49-bebe-4197e2787519",
   "metadata": {},
   "outputs": [],
   "source": [
    "# Get the highest price range and lowest price range\n",
    "highest_price_range=city_price_range_mean.max()\n",
    "lowest_price_range=city_price_range_mean.min()\n"
   ]
  },
  {
   "cell_type": "code",
   "execution_count": 36,
   "id": "960febea-4b88-48c0-9a8e-13188e3f797f",
   "metadata": {},
   "outputs": [],
   "source": [
    "# List all cities with the highest price range and lowest price range\n",
    "cities_highest=city_price_range_mean[city_price_range_mean==highest_price_range]\n",
    "cities_lowest=city_price_range_mean[city_price_range_mean==lowest_price_range]\n"
   ]
  },
  {
   "cell_type": "code",
   "execution_count": 38,
   "id": "9227e4df-e731-4a43-ad33-bb00b84624ed",
   "metadata": {},
   "outputs": [
    {
     "data": {
      "text/plain": [
       "City\n",
       "Panchkula           4.0\n",
       "Vineland Station    4.0\n",
       "Paynesville         4.0\n",
       "Johannesburg        4.0\n",
       "Inner City          4.0\n",
       "Pasay City          4.0\n",
       "Princeton           4.0\n",
       "Name: Price range, dtype: float64"
      ]
     },
     "execution_count": 38,
     "metadata": {},
     "output_type": "execute_result"
    }
   ],
   "source": [
    "cities_highest"
   ]
  },
  {
   "cell_type": "code",
   "execution_count": 37,
   "id": "7f32ce2d-bc13-40c7-8a85-15efe4b5bb58",
   "metadata": {},
   "outputs": [
    {
     "data": {
      "text/plain": [
       "City\n",
       "Clatskanie        1.0\n",
       "Lakes Entrance    1.0\n",
       "Lakeview          1.0\n",
       "Inverloch         1.0\n",
       "Fernley           1.0\n",
       "Dicky Beach       1.0\n",
       "Miller            1.0\n",
       "Mc Millan         1.0\n",
       "Vernonia          1.0\n",
       "Name: Price range, dtype: float64"
      ]
     },
     "execution_count": 37,
     "metadata": {},
     "output_type": "execute_result"
    }
   ],
   "source": [
    "cities_lowest"
   ]
  },
  {
   "cell_type": "markdown",
   "id": "03748e46-af61-4538-b563-86920ab5335f",
   "metadata": {},
   "source": [
    "### Inferences drawn from the solution"
   ]
  },
  {
   "cell_type": "markdown",
   "id": "55e3d565-3bab-4c3d-be8b-6f32ca6274e0",
   "metadata": {},
   "source": [
    "3. What is the distribution of restaurants that are offering online delivery across countries? What inferences can you draw from the same?\n",
    "\n",
    " To answer this question, we need the count of how many restaurants offer online delivery and how many do not. Also, we need to find this across the countries, and compare.\n",
    "  "
   ]
  },
  {
   "cell_type": "code",
   "execution_count": 7,
   "id": "61b314a0-edaf-482c-afa2-100385b27014",
   "metadata": {},
   "outputs": [],
   "source": [
    "# Frequency of restaurants offering online delivery\n",
    "\n",
    "\n",
    "# Plotting the frequency of online delivery\n",
    "\n",
    "\n",
    "# Adding title and labels\n",
    "\n",
    "\n",
    "# Now, to check if it varies significantly across different countries\n",
    "# Group by 'Country Code' and get the count of restaurants offering online delivery\n",
    "\n",
    "\n",
    "# Display the result to understand the variation across countries\n"
   ]
  },
  {
   "cell_type": "markdown",
   "id": "22b114b5-5670-4bf1-8e6f-703a72e003e9",
   "metadata": {},
   "source": [
    "### Inferences drawn from the solution"
   ]
  },
  {
   "cell_type": "markdown",
   "id": "e4bb2383-5b01-41d8-989c-f4663802f000",
   "metadata": {},
   "source": [
    "4. What is the distribution of the 'Average Cost for two' in India? Draw inferences from the output."
   ]
  },
  {
   "cell_type": "code",
   "execution_count": 8,
   "id": "9bb8b26b-4ad9-4c5a-8cbb-758f32af5ab9",
   "metadata": {
    "scrolled": true
   },
   "outputs": [],
   "source": [
    "# Filter for Indian restaurants\n",
    "\n",
    "\n",
    "# Plot the distribution\n",
    "\n",
    "\n",
    "# Display summary statistics\n"
   ]
  },
  {
   "cell_type": "markdown",
   "id": "2fda4d53-85ed-4967-a871-ff809439f685",
   "metadata": {},
   "source": [
    "### Inferences drawn from the solution"
   ]
  },
  {
   "cell_type": "markdown",
   "id": "69edca4d-c945-4b0b-bf63-b5cd78e9ac44",
   "metadata": {},
   "source": [
    "### Inferences drawn from the solution\n",
    "So we can see that 'North Indian' cuisine is most popular, and forms 9.8% of the share of all cuisines."
   ]
  },
  {
   "cell_type": "markdown",
   "id": "f3f2ec01-be76-47cb-9dd0-733dc3145290",
   "metadata": {},
   "source": [
    "5. Does the availability of the feature 'Has Table booking' impact the aggregate rating? Draw inferences from the output.\n",
    "\n",
    "To create the boxplot excluding the 0 ratings, we'll first filter the dataset to remove restaurants with a rating of 0. Then, we will generate the boxplot to compare the aggregate ratings between restaurants with and without table booking."
   ]
  },
  {
   "cell_type": "code",
   "execution_count": 9,
   "id": "46f80546-45e2-4847-8772-e7606a5e70be",
   "metadata": {},
   "outputs": [],
   "source": [
    "# Filter out the restaurants with 0 ratings\n",
    "\n",
    "\n",
    "# Boxplot for 'Has Table booking' vs 'Aggregate rating' (excluding 0 ratings)\n",
    "\n",
    "\n",
    "# Adding title and labels\n",
    "\n",
    "\n",
    "# Display the plot\n",
    "\n",
    "\n",
    "# Calculate the average ratings for restaurants with and without table booking (excluding 0 ratings)\n",
    "\n",
    "\n",
    "# Display the average ratings\n"
   ]
  },
  {
   "cell_type": "code",
   "execution_count": 10,
   "id": "edf6724b-ace4-4151-944f-028338ef76ce",
   "metadata": {},
   "outputs": [],
   "source": [
    "#To calculate the correlation between Table Booking (where Yes is coded as 1 and No as 0) and Aggregate Rating\n",
    "\n",
    "# Convert 'Has Table booking' column to numeric (Yes = 1, No = 0)\n",
    "\n",
    "\n",
    "# Calculate the Pearson correlation coefficient between 'Table booking' and 'Aggregate rating'\n",
    "\n",
    "\n",
    "# Display the correlation result\n",
    "\n"
   ]
  },
  {
   "cell_type": "markdown",
   "id": "b6a76a3c-790a-4702-803e-0f6ba358d7d2",
   "metadata": {},
   "source": [
    "### Inferences drawn from the solution"
   ]
  },
  {
   "cell_type": "markdown",
   "id": "d62d6a2a-73f9-4a25-b752-398b9179a19c",
   "metadata": {},
   "source": [
    "6. Does having an online delivery option influence the restaurant's rating? Which country's restaurant has the best and which one has the worst rating out of those who do not offer online delivery? Draw inferences from the output.\n",
    "\n",
    "To investigate whether having an online delivery option influences restaurant ratings, we can compare the ratings of restaurants that offer online delivery and those that do not. We will use a box plot to visually compare the distributions of ratings for both groups (We are not including restaurants that have a 0 rating)."
   ]
  },
  {
   "cell_type": "code",
   "execution_count": 11,
   "id": "efc522aa-96d3-47eb-84f4-432242f0ee03",
   "metadata": {
    "scrolled": true
   },
   "outputs": [],
   "source": [
    "# Filter out the restaurants with a 0 rating\n",
    "\n",
    "\n",
    "# Boxplot for 'Has Online delivery' vs 'Aggregate rating' (excluding 0 ratings)\n",
    "\n",
    "\n",
    "# Adding title and labels\n",
    "\n",
    "\n",
    "# Display the plot\n",
    "\n",
    "\n",
    "# Calculate the best and worst countries for restaurants without online delivery\n",
    "\n",
    "\n",
    "# Group by 'Country Code' and calculate the mean rating for restaurants without online delivery\n",
    "\n",
    "\n",
    "# Find the country with the highest and lowest ratings\n",
    "\n",
    "\n",
    "# Get the average ratings for the best and worst countries\n",
    "\n",
    "\n",
    "# Display the results\n"
   ]
  },
  {
   "cell_type": "markdown",
   "id": "9990c450-d21d-404f-a281-45fbbb838ecc",
   "metadata": {},
   "source": [
    "### Inferences drawn from the solution"
   ]
  },
  {
   "cell_type": "markdown",
   "id": "91c49a8a-7553-4da0-b48b-0fd1ca5a4777",
   "metadata": {},
   "source": [
    "7. Do restaurants in different countries have significantly different ratings?"
   ]
  },
  {
   "cell_type": "code",
   "execution_count": 12,
   "id": "6890cb28-844d-4a75-9c31-d199a151237f",
   "metadata": {},
   "outputs": [],
   "source": [
    "# Filter out the restaurants with a 0 rating\n",
    "\n",
    "\n",
    "# Boxplot to visualize the distribution of ratings across countries\n"
   ]
  },
  {
   "cell_type": "markdown",
   "id": "d32fab17-8f65-4010-a3ac-a5802b03a4e0",
   "metadata": {},
   "source": [
    "### Inferences drawn from the solution"
   ]
  },
  {
   "cell_type": "markdown",
   "id": "229ed33b-d321-4ed2-b8c5-af7f9d6f16f6",
   "metadata": {},
   "source": [
    "8. What is the distribution of restaurants with and without table booking option, that serve only 'Italian', only 'Chinese' and only 'American' cuisines? Draw inferences from the output.\n",
    "\n",
    "To analyze the distribution of restaurants that serve only 'Italian', 'Chinese', and 'American' cuisines, and whether they offer table booking, we can follow these steps:"
   ]
  },
  {
   "cell_type": "code",
   "execution_count": 13,
   "id": "35cafcae-5be7-4a67-ad52-d69722156b62",
   "metadata": {},
   "outputs": [],
   "source": [
    "# Filter the dataset for restaurants that serve only 'Italian', 'Chinese', or 'American' cuisines\n",
    "\n",
    "\n",
    "# Countplot for 'Cuisines' vs 'Has Table booking'\n",
    "\n",
    "\n",
    "# Adding title and labels\n"
   ]
  },
  {
   "cell_type": "markdown",
   "id": "5b977377-912a-4b76-96f0-2b0cec38e737",
   "metadata": {},
   "source": [
    "### Inferences drawn from the solution"
   ]
  },
  {
   "cell_type": "markdown",
   "id": "44089858-9a01-45a0-b33d-9de64383f923",
   "metadata": {},
   "source": [
    "9. Since 90% of the restaurants listed on Zomato in this data are from India, find out if the average cost for two has an influence on ratings in India. Draw inferences from the output.\n",
    "\n",
    "To explore whether there is a relationship between the average cost for two and the restaurant ratings (Aggregate rating), we can calculate the correlation coefficient between the two variables and visualize their relationship using a scatter plot."
   ]
  },
  {
   "cell_type": "code",
   "execution_count": 14,
   "id": "56ffa5db-248e-4fe4-8146-3804cf215af9",
   "metadata": {},
   "outputs": [],
   "source": [
    "# Filter data for India only\n",
    "\n",
    "\n",
    "# Remove rows with 0 rating or 0 average cost for two\n",
    "\n",
    "\n",
    "# Create a new DataFrame with only 'Average Cost for two' and 'Aggregate rating'\n",
    "\n",
    "\n",
    "# Select relevant columns\n",
    "\n",
    "\n",
    "# Scatter plot\n",
    "\n",
    "\n",
    "# Calculate the correlation coefficient between cost and rating\n",
    "\n",
    "\n",
    "# Print the result\n"
   ]
  },
  {
   "cell_type": "markdown",
   "id": "fe5b4ae5-189f-4c54-a669-4a5723666d49",
   "metadata": {},
   "source": [
    "### Inferences drawn from the solution"
   ]
  },
  {
   "cell_type": "markdown",
   "id": "1f82f8ec-2010-4d48-8236-53d13f63b4a1",
   "metadata": {},
   "source": [
    "10. How does the price range affect the average ratings of restaurants, and how is this influenced by the presence of online delivery? Draw inferences from the output."
   ]
  },
  {
   "cell_type": "code",
   "execution_count": 15,
   "id": "bf80869c-76dd-4159-9707-ba79b3617b99",
   "metadata": {},
   "outputs": [],
   "source": [
    "# Group by 'Price range' and 'Has Online delivery' to calculate the mean 'Aggregate rating'\n",
    "\n",
    "\n",
    "# Plotting the results as a line plot to show how the average rating changes by price range and online delivery\n",
    "\n",
    "\n",
    "# Adding title and labels\n"
   ]
  },
  {
   "cell_type": "markdown",
   "id": "75a0379b-6f33-4ca2-b144-8ab61c9e0240",
   "metadata": {},
   "source": [
    "### Inferences drawn from the solution"
   ]
  },
  {
   "cell_type": "code",
   "execution_count": null,
   "id": "0ac5bb54-7cda-4ea6-82c1-a0c786c467bd",
   "metadata": {},
   "outputs": [],
   "source": []
  }
 ],
 "metadata": {
  "kernelspec": {
   "display_name": "Python [conda env:base] *",
   "language": "python",
   "name": "conda-base-py"
  },
  "language_info": {
   "codemirror_mode": {
    "name": "ipython",
    "version": 3
   },
   "file_extension": ".py",
   "mimetype": "text/x-python",
   "name": "python",
   "nbconvert_exporter": "python",
   "pygments_lexer": "ipython3",
   "version": "3.13.5"
  }
 },
 "nbformat": 4,
 "nbformat_minor": 5
}
