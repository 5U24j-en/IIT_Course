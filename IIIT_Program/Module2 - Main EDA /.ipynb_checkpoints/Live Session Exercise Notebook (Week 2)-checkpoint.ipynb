{
 "cells": [
  {
   "cell_type": "markdown",
   "id": "728b78fe-df11-4ecb-9865-2c7fa7a6f591",
   "metadata": {},
   "source": [
    "# Exploratory Data Analysis (EDA) on Zomato dataset\n",
    "\n",
    "Let us learn about univariate analysis and bivariate analysis using the dataset of Zomato, the online food delivery platform.\n",
    "\n",
    "Before we go ahead with the analysis, let us have a quick understanding of all the columns in the data.\n",
    "\n",
    "Here’s a brief column-wise description of the zomato.csv dataset for your reference.\n",
    "\n",
    "1. **Restaurant ID**: A unique identifier for each restaurant in the dataset.\n",
    "2. **Restaurant Name**: The name of the restaurant.\n",
    "3. **Country Code**: A numeric code representing the country where the restaurant is located.\n",
    "4. **City**: The city where the restaurant is located.\n",
    "5. **Address**: The physical address of the restaurant.\n",
    "6. **Locality**: A more specific location or area within the city.\n",
    "7. **Locality Verbose**: A detailed description of the restaurant's location.\n",
    "8. **Longitude**: The geographic longitude of the restaurant's location.\n",
    "9. **Latitude**: The geographic latitude of the restaurant's location.\n",
    "10. **Cuisines**: A list of cuisines offered by the restaurant, such as Indian, Chinese, Italian, etc.\n",
    "11. **Average Cost for Two**: The average cost for a meal for two people at the restaurant.\n",
    "12. **Currency**: The currency used in the restaurant's pricing.\n",
    "13. **Has Table booking**: A boolean column indicating whether the restaurant accepts table bookings.\n",
    "14. **Has Online delivery**: A boolean column indicating whether the restaurant offers online delivery.\n",
    "15. **Is delivering now**: A boolean column indicating whether the restaurant is currently delivering food.\n",
    "16. **Switch to order menu**: A boolean column indicating if the restaurant has a menu for ordering food online.\n",
    "17. **Price range**: A numerical value indicating the price range at the restaurant (1 to 4 scale).\n",
    "18. **Aggregate rating**: The overall rating of the restaurant based on user reviews.\n",
    "19. **Rating color**: The rating category (e.g., Dark Green, Green, Orange, etc.), indicating the quality of the restaurant based on the rating.\n",
    "20. **Rating text**: Descriptive text based on the restaurant's rating (e.g., Excellent, Very Good, Good, etc.).\n",
    "21. **Votes**: The number of user votes or reviews received for the restaurant.\n",
    "\n",
    "In the 'Country-Code.xlsx' file, we have \n",
    "1. **Country**: The name of the country where the restaurant is located.\n",
    "2. **Country Code**: The code number for every country in the dataset"
   ]
  },
  {
   "cell_type": "markdown",
   "id": "da8de297-06f8-4e56-a5a1-c47305ba76fa",
   "metadata": {},
   "source": [
    "### Loading the necessary libraries"
   ]
  },
  {
   "cell_type": "code",
   "execution_count": 1,
   "id": "677a4934-6e71-471f-af10-9840221e5b11",
   "metadata": {},
   "outputs": [],
   "source": [
    "# Import necessary libraries required for the data exploration\n",
    "# Loading \"numpy\" and \"pandas\" for manipulating numbers, vectors and data frames\n",
    "# Loading \"matplotlib.pyplot\" and \"seaborn\" for data visualisation\n",
    "import pandas as pd\n",
    "import numpy as np\n",
    "import seaborn as sns\n",
    "import matplotlib.pyplot as plt"
   ]
  },
  {
   "cell_type": "markdown",
   "id": "7124295a-d7d9-43f0-9e0a-e56036624f7e",
   "metadata": {},
   "source": [
    "### Reading in the 'zomato.csv' & 'Country-Code.xlsx' file as a Pandas Data Frame\n",
    "\n",
    "Here we have used a CSV file which is on our local system drive. You can also use the URL (https://www.kaggle.com/datasets/swatikhedekar/eda-on-zomato-dataset) of the dataset from Kaggle or Github or use the relevant function based on the file format of the input data."
   ]
  },
  {
   "cell_type": "code",
   "execution_count": 2,
   "id": "fcc6139d-c433-4f6a-bb4c-790cbfc914b5",
   "metadata": {},
   "outputs": [],
   "source": [
    "# Load the zomato.csv file\n",
    "\n",
    "zomato_df=pd.read_csv(\"\")\n",
    "# Display the first few rows of the dataframe\n",
    "\n",
    "\n",
    "# Load the Country-Code.xlsx file\n",
    "\n",
    "\n",
    "# Display the first few rows of the dataframe\n"
   ]
  },
  {
   "cell_type": "markdown",
   "id": "19ea1e1e-330f-4934-a9ab-e318383fe354",
   "metadata": {},
   "source": [
    "Now that we have loaded both the datasets, one is the zomato_df (from zomato.csv) file, the other a country_code_df (from Country_Code.xlsx) file, let us merge the both in a single file to get the country names."
   ]
  },
  {
   "cell_type": "code",
   "execution_count": 3,
   "id": "41c5e2ba-b332-4010-a622-63f639a6924e",
   "metadata": {},
   "outputs": [],
   "source": [
    "# Merge the datasets on the 'Country Code' column\n",
    "\n",
    "\n",
    "# Print the column names to check the correct column names\n",
    "\n",
    "\n",
    "# After the merge, ensure the correct column name for 'Country'\n",
    "# Check if there's a column like 'Country_x' or 'Country_y' and select it\n",
    "\n",
    "\n",
    "# Drop unnecessary columns (if any)\n",
    "# Since we already have the country names in the column 'Country', we would not need the columns 'Country Code' and 'Country_y'. \n",
    "# So we are dropping the same.\n",
    "\n",
    "\n",
    "# Display the updated dataframe\n",
    "\n",
    "\n",
    "# Now drop 'Country_x' as we have country names in 'Country' column\n",
    "# Similarly, since we already have the country names in the column 'Country', we would not need the columns 'Country_x'\n"
   ]
  },
  {
   "cell_type": "code",
   "execution_count": 4,
   "id": "46611e2f-f3ad-4db4-9352-97604902023a",
   "metadata": {},
   "outputs": [],
   "source": [
    "# We are checking if we have all the relevant columns, and have dropped unnecessary columns.\n",
    "# Getting the column names of the data frame using \".columns\"\n"
   ]
  },
  {
   "cell_type": "markdown",
   "id": "af88359d-a1b3-4a71-81ab-4e1022b5880b",
   "metadata": {},
   "source": [
    "Let's get started with our exploration. We shall do this by finding the answers to a few critical questions, that may be of interest to the company."
   ]
  },
  {
   "cell_type": "markdown",
   "id": "ab280486-7d31-41a6-95d3-8f89a30a915f",
   "metadata": {},
   "source": [
    "# Questions for Practice\n",
    "\n",
    "1. What is the distribution of restaurant ratings across all restaurants? What inferences can you draw from the same?\n",
    "\n",
    "   (Note that each row represents a restaurant)\n",
    "   "
   ]
  },
  {
   "cell_type": "code",
   "execution_count": 5,
   "id": "e76a5d08-6800-4112-a853-9d28d35836c4",
   "metadata": {},
   "outputs": [],
   "source": [
    "# Filter out the restaurants with a rating of 0 since no rating was given to those restaurants\n",
    "\n",
    "\n",
    "# Plotting the distribution of restaurant ratings\n",
    "\n",
    "\n",
    "# Adding title and labels\n",
    "\n",
    "\n",
    "# Display the plot\n"
   ]
  },
  {
   "cell_type": "markdown",
   "id": "35fc25a9-bec1-4f18-bfdb-3abf151a71af",
   "metadata": {},
   "source": [
    "### Inferences drawn from the solution"
   ]
  },
  {
   "cell_type": "markdown",
   "id": "ac0e8554-d82d-4632-9ee7-19ac8f304819",
   "metadata": {},
   "source": [
    "2. What is the average price range of restaurants across different cities? List the cities with highest range and the ones with lowest range. Draw conclusions from the output.\n",
    "\n",
    "(Note that here price range values are integer values from 1 to 4, 1 representing an affordable range of restaurants, and 4 would indicate expensive restaurants).  \n",
    "\n",
    "To answer this question, you can calculate the mean price range for each city."
   ]
  },
  {
   "cell_type": "code",
   "execution_count": 6,
   "id": "9d6fc725-a706-4240-9c32-14051d452bbe",
   "metadata": {},
   "outputs": [],
   "source": [
    "# Group by 'City' and calculate the mean 'Price range' and sort them in descending order\n",
    "\n",
    "\n",
    "# Get the highest price range and lowest price range\n",
    "\n",
    "\n",
    "# List all cities with the highest price range\n",
    "\n",
    "\n",
    "# List all cities with the lowest price range\n",
    "\n",
    "\n",
    "# Print the results\n",
    "\n",
    "\n"
   ]
  },
  {
   "cell_type": "markdown",
   "id": "03748e46-af61-4538-b563-86920ab5335f",
   "metadata": {},
   "source": [
    "### Inferences drawn from the solution"
   ]
  },
  {
   "cell_type": "markdown",
   "id": "55e3d565-3bab-4c3d-be8b-6f32ca6274e0",
   "metadata": {},
   "source": [
    "3. What is the distribution of restaurants that are offering online delivery across countries? What inferences can you draw from the same?\n",
    "\n",
    " To answer this question, we need the count of how many restaurants offer online delivery and how many do not. Also, we need to find this across the countries, and compare.\n",
    "  "
   ]
  },
  {
   "cell_type": "code",
   "execution_count": 7,
   "id": "61b314a0-edaf-482c-afa2-100385b27014",
   "metadata": {},
   "outputs": [],
   "source": [
    "# Frequency of restaurants offering online delivery\n",
    "\n",
    "\n",
    "# Plotting the frequency of online delivery\n",
    "\n",
    "\n",
    "# Adding title and labels\n",
    "\n",
    "\n",
    "# Now, to check if it varies significantly across different countries\n",
    "# Group by 'Country Code' and get the count of restaurants offering online delivery\n",
    "\n",
    "\n",
    "# Display the result to understand the variation across countries\n"
   ]
  },
  {
   "cell_type": "markdown",
   "id": "22b114b5-5670-4bf1-8e6f-703a72e003e9",
   "metadata": {},
   "source": [
    "### Inferences drawn from the solution"
   ]
  },
  {
   "cell_type": "markdown",
   "id": "e4bb2383-5b01-41d8-989c-f4663802f000",
   "metadata": {},
   "source": [
    "4. What is the distribution of the 'Average Cost for two' in India? Draw inferences from the output."
   ]
  },
  {
   "cell_type": "code",
   "execution_count": 8,
   "id": "9bb8b26b-4ad9-4c5a-8cbb-758f32af5ab9",
   "metadata": {
    "scrolled": true
   },
   "outputs": [],
   "source": [
    "# Filter for Indian restaurants\n",
    "\n",
    "\n",
    "# Plot the distribution\n",
    "\n",
    "\n",
    "# Display summary statistics\n"
   ]
  },
  {
   "cell_type": "markdown",
   "id": "2fda4d53-85ed-4967-a871-ff809439f685",
   "metadata": {},
   "source": [
    "### Inferences drawn from the solution"
   ]
  },
  {
   "cell_type": "markdown",
   "id": "69edca4d-c945-4b0b-bf63-b5cd78e9ac44",
   "metadata": {},
   "source": [
    "### Inferences drawn from the solution\n",
    "So we can see that 'North Indian' cuisine is most popular, and forms 9.8% of the share of all cuisines."
   ]
  },
  {
   "cell_type": "markdown",
   "id": "f3f2ec01-be76-47cb-9dd0-733dc3145290",
   "metadata": {},
   "source": [
    "5. Does the availability of the feature 'Has Table booking' impact the aggregate rating? Draw inferences from the output.\n",
    "\n",
    "To create the boxplot excluding the 0 ratings, we'll first filter the dataset to remove restaurants with a rating of 0. Then, we will generate the boxplot to compare the aggregate ratings between restaurants with and without table booking."
   ]
  },
  {
   "cell_type": "code",
   "execution_count": 9,
   "id": "46f80546-45e2-4847-8772-e7606a5e70be",
   "metadata": {},
   "outputs": [],
   "source": [
    "# Filter out the restaurants with 0 ratings\n",
    "\n",
    "\n",
    "# Boxplot for 'Has Table booking' vs 'Aggregate rating' (excluding 0 ratings)\n",
    "\n",
    "\n",
    "# Adding title and labels\n",
    "\n",
    "\n",
    "# Display the plot\n",
    "\n",
    "\n",
    "# Calculate the average ratings for restaurants with and without table booking (excluding 0 ratings)\n",
    "\n",
    "\n",
    "# Display the average ratings\n"
   ]
  },
  {
   "cell_type": "code",
   "execution_count": 10,
   "id": "edf6724b-ace4-4151-944f-028338ef76ce",
   "metadata": {},
   "outputs": [],
   "source": [
    "#To calculate the correlation between Table Booking (where Yes is coded as 1 and No as 0) and Aggregate Rating\n",
    "\n",
    "# Convert 'Has Table booking' column to numeric (Yes = 1, No = 0)\n",
    "\n",
    "\n",
    "# Calculate the Pearson correlation coefficient between 'Table booking' and 'Aggregate rating'\n",
    "\n",
    "\n",
    "# Display the correlation result\n",
    "\n"
   ]
  },
  {
   "cell_type": "markdown",
   "id": "b6a76a3c-790a-4702-803e-0f6ba358d7d2",
   "metadata": {},
   "source": [
    "### Inferences drawn from the solution"
   ]
  },
  {
   "cell_type": "markdown",
   "id": "d62d6a2a-73f9-4a25-b752-398b9179a19c",
   "metadata": {},
   "source": [
    "6. Does having an online delivery option influence the restaurant's rating? Which country's restaurant has the best and which one has the worst rating out of those who do not offer online delivery? Draw inferences from the output.\n",
    "\n",
    "To investigate whether having an online delivery option influences restaurant ratings, we can compare the ratings of restaurants that offer online delivery and those that do not. We will use a box plot to visually compare the distributions of ratings for both groups (We are not including restaurants that have a 0 rating)."
   ]
  },
  {
   "cell_type": "code",
   "execution_count": 11,
   "id": "efc522aa-96d3-47eb-84f4-432242f0ee03",
   "metadata": {
    "scrolled": true
   },
   "outputs": [],
   "source": [
    "# Filter out the restaurants with a 0 rating\n",
    "\n",
    "\n",
    "# Boxplot for 'Has Online delivery' vs 'Aggregate rating' (excluding 0 ratings)\n",
    "\n",
    "\n",
    "# Adding title and labels\n",
    "\n",
    "\n",
    "# Display the plot\n",
    "\n",
    "\n",
    "# Calculate the best and worst countries for restaurants without online delivery\n",
    "\n",
    "\n",
    "# Group by 'Country Code' and calculate the mean rating for restaurants without online delivery\n",
    "\n",
    "\n",
    "# Find the country with the highest and lowest ratings\n",
    "\n",
    "\n",
    "# Get the average ratings for the best and worst countries\n",
    "\n",
    "\n",
    "# Display the results\n"
   ]
  },
  {
   "cell_type": "markdown",
   "id": "9990c450-d21d-404f-a281-45fbbb838ecc",
   "metadata": {},
   "source": [
    "### Inferences drawn from the solution"
   ]
  },
  {
   "cell_type": "markdown",
   "id": "91c49a8a-7553-4da0-b48b-0fd1ca5a4777",
   "metadata": {},
   "source": [
    "7. Do restaurants in different countries have significantly different ratings?"
   ]
  },
  {
   "cell_type": "code",
   "execution_count": 12,
   "id": "6890cb28-844d-4a75-9c31-d199a151237f",
   "metadata": {},
   "outputs": [],
   "source": [
    "# Filter out the restaurants with a 0 rating\n",
    "\n",
    "\n",
    "# Boxplot to visualize the distribution of ratings across countries\n"
   ]
  },
  {
   "cell_type": "markdown",
   "id": "d32fab17-8f65-4010-a3ac-a5802b03a4e0",
   "metadata": {},
   "source": [
    "### Inferences drawn from the solution"
   ]
  },
  {
   "cell_type": "markdown",
   "id": "229ed33b-d321-4ed2-b8c5-af7f9d6f16f6",
   "metadata": {},
   "source": [
    "8. What is the distribution of restaurants with and without table booking option, that serve only 'Italian', only 'Chinese' and only 'American' cuisines? Draw inferences from the output.\n",
    "\n",
    "To analyze the distribution of restaurants that serve only 'Italian', 'Chinese', and 'American' cuisines, and whether they offer table booking, we can follow these steps:"
   ]
  },
  {
   "cell_type": "code",
   "execution_count": 13,
   "id": "35cafcae-5be7-4a67-ad52-d69722156b62",
   "metadata": {},
   "outputs": [],
   "source": [
    "# Filter the dataset for restaurants that serve only 'Italian', 'Chinese', or 'American' cuisines\n",
    "\n",
    "\n",
    "# Countplot for 'Cuisines' vs 'Has Table booking'\n",
    "\n",
    "\n",
    "# Adding title and labels\n"
   ]
  },
  {
   "cell_type": "markdown",
   "id": "5b977377-912a-4b76-96f0-2b0cec38e737",
   "metadata": {},
   "source": [
    "### Inferences drawn from the solution"
   ]
  },
  {
   "cell_type": "markdown",
   "id": "44089858-9a01-45a0-b33d-9de64383f923",
   "metadata": {},
   "source": [
    "9. Since 90% of the restaurants listed on Zomato in this data are from India, find out if the average cost for two has an influence on ratings in India. Draw inferences from the output.\n",
    "\n",
    "To explore whether there is a relationship between the average cost for two and the restaurant ratings (Aggregate rating), we can calculate the correlation coefficient between the two variables and visualize their relationship using a scatter plot."
   ]
  },
  {
   "cell_type": "code",
   "execution_count": 14,
   "id": "56ffa5db-248e-4fe4-8146-3804cf215af9",
   "metadata": {},
   "outputs": [],
   "source": [
    "# Filter data for India only\n",
    "\n",
    "\n",
    "# Remove rows with 0 rating or 0 average cost for two\n",
    "\n",
    "\n",
    "# Create a new DataFrame with only 'Average Cost for two' and 'Aggregate rating'\n",
    "\n",
    "\n",
    "# Select relevant columns\n",
    "\n",
    "\n",
    "# Scatter plot\n",
    "\n",
    "\n",
    "# Calculate the correlation coefficient between cost and rating\n",
    "\n",
    "\n",
    "# Print the result\n"
   ]
  },
  {
   "cell_type": "markdown",
   "id": "fe5b4ae5-189f-4c54-a669-4a5723666d49",
   "metadata": {},
   "source": [
    "### Inferences drawn from the solution"
   ]
  },
  {
   "cell_type": "markdown",
   "id": "1f82f8ec-2010-4d48-8236-53d13f63b4a1",
   "metadata": {},
   "source": [
    "10. How does the price range affect the average ratings of restaurants, and how is this influenced by the presence of online delivery? Draw inferences from the output."
   ]
  },
  {
   "cell_type": "code",
   "execution_count": 15,
   "id": "bf80869c-76dd-4159-9707-ba79b3617b99",
   "metadata": {},
   "outputs": [],
   "source": [
    "# Group by 'Price range' and 'Has Online delivery' to calculate the mean 'Aggregate rating'\n",
    "\n",
    "\n",
    "# Plotting the results as a line plot to show how the average rating changes by price range and online delivery\n",
    "\n",
    "\n",
    "# Adding title and labels\n"
   ]
  },
  {
   "cell_type": "markdown",
   "id": "75a0379b-6f33-4ca2-b144-8ab61c9e0240",
   "metadata": {},
   "source": [
    "### Inferences drawn from the solution"
   ]
  },
  {
   "cell_type": "code",
   "execution_count": null,
   "id": "0ac5bb54-7cda-4ea6-82c1-a0c786c467bd",
   "metadata": {},
   "outputs": [],
   "source": []
  }
 ],
 "metadata": {
  "kernelspec": {
   "display_name": "Python [conda env:base] *",
   "language": "python",
   "name": "conda-base-py"
  },
  "language_info": {
   "codemirror_mode": {
    "name": "ipython",
    "version": 3
   },
   "file_extension": ".py",
   "mimetype": "text/x-python",
   "name": "python",
   "nbconvert_exporter": "python",
   "pygments_lexer": "ipython3",
   "version": "3.13.5"
  }
 },
 "nbformat": 4,
 "nbformat_minor": 5
}
