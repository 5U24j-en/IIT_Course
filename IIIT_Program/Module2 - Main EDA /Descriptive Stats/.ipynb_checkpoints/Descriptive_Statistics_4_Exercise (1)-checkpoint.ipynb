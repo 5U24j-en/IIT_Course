{
  "cells": [
    {
      "cell_type": "code",
      "execution_count": null,
      "id": "8a95012e",
      "metadata": {
        "id": "8a95012e"
      },
      "outputs": [],
      "source": [
        "###########################################################################"
      ]
    },
    {
      "cell_type": "code",
      "execution_count": null,
      "id": "bf9f4933",
      "metadata": {
        "id": "bf9f4933"
      },
      "outputs": [],
      "source": [
        "# Introduction\n",
        "\n",
        "# This Jupyter notebook is part of your learning experience in the study of variability\n",
        "# You will work with a simple data set that contains the investment returns of different agencies\n",
        "\n",
        "# In this exercise, you will perform the following tasks:\n",
        "# 1 - Load and study the data\n",
        "# 2 - View the distributions of the various features in the data set and also calculate various measures of dispersion\n",
        "# 3 - Create a data frame to compare the variability in the investment returns of the different agencies"
      ]
    },
    {
      "cell_type": "code",
      "execution_count": null,
      "id": "bdfe4e95",
      "metadata": {
        "id": "bdfe4e95"
      },
      "outputs": [],
      "source": [
        "###########################################################################"
      ]
    },
    {
      "cell_type": "code",
      "execution_count": null,
      "id": "da15f289",
      "metadata": {
        "id": "da15f289"
      },
      "outputs": [],
      "source": [
        "# Task 1 - Load and study the data\n",
        "\n",
        "# Load the data and study its features such as:\n",
        "# The years for which investment returns have been recorded\n",
        "# The number of agencies whose data is available"
      ]
    },
    {
      "cell_type": "code",
      "execution_count": null,
      "id": "33884073",
      "metadata": {
        "id": "33884073"
      },
      "outputs": [],
      "source": [
        "# Load \"numpy\" and \"pandas\" for manipulating numbers and data frames\n",
        "# Load \"matplotlib.pyplot\" and \"seaborn\" for data visualisation\n",
        "import numpy as np\n",
        "import pandas as pd\n",
        "import matplotlib.pyplot as plt\n",
        "import seaborn as sns"
      ]
    },
    {
      "cell_type": "code",
      "execution_count": null,
      "id": "6da1963a",
      "metadata": {
        "id": "6da1963a"
      },
      "outputs": [],
      "source": [
        "# Read in the \"Investment_Returns.csv\" file as a Pandas Data Frame\n",
        "# Note: Make sure the code and the data are in the same folder or specify the appropriate path\n",
        "df = pd.read_csv('Investment_Returns.csv', index_col = 0)"
      ]
    },
    {
      "cell_type": "code",
      "execution_count": null,
      "id": "85e9af90",
      "metadata": {
        "id": "85e9af90"
      },
      "outputs": [],
      "source": [
        "# Take a brief look at the data using \".head()\"\n",
        "########## CODE HERE ##########"
      ]
    },
    {
      "cell_type": "code",
      "execution_count": null,
      "id": "8cbf5ba2",
      "metadata": {
        "id": "8cbf5ba2"
      },
      "outputs": [],
      "source": [
        "# Study the description of the data\n",
        "# Note: Make sure the code and the data description are in the same folder or specify the appropriate path\n",
        "with open('Investment_Returns_Feature_Description.txt', 'r') as f:\n",
        "    print(f.read())"
      ]
    },
    {
      "cell_type": "code",
      "execution_count": null,
      "id": "fa9b402e",
      "metadata": {
        "id": "fa9b402e"
      },
      "outputs": [],
      "source": [
        "# Get the dimensions of the data frame using \".shape\"\n",
        "########## CODE HERE ##########"
      ]
    },
    {
      "cell_type": "code",
      "execution_count": null,
      "id": "8bf44620",
      "metadata": {
        "id": "8bf44620"
      },
      "outputs": [],
      "source": [
        "# Get the row names of the data frame using \".index\"\n",
        "########## CODE HERE ##########"
      ]
    },
    {
      "cell_type": "code",
      "execution_count": null,
      "id": "ef109aa2",
      "metadata": {
        "id": "ef109aa2"
      },
      "outputs": [],
      "source": [
        "# Get the column names of the data frame using \".columns\"\n",
        "########## CODE HERE ##########"
      ]
    },
    {
      "cell_type": "code",
      "execution_count": null,
      "id": "03f1299b",
      "metadata": {
        "id": "03f1299b"
      },
      "outputs": [],
      "source": [
        "# Look at basic information about the data frame using \".info()\"\n",
        "########## CODE HERE ##########"
      ]
    },
    {
      "cell_type": "code",
      "execution_count": null,
      "id": "a2410b63",
      "metadata": {
        "id": "a2410b63"
      },
      "outputs": [],
      "source": [
        "# Observations\n",
        "\n",
        "# There are 20 rows and 3 columns in the data\n",
        "# Each row contains the investment return percentages of three different agencies for a certain year\n",
        "\n",
        "# The features in the data set are:\n",
        "# The investment return percentage from the agency \"George and Wallace\" for the years 2001 to 2020\n",
        "# The investment return percentage from the agency \"Imperial Traders\" for the years 2001 to 2020\n",
        "# The investment return percentage from the agency \"High Rise\" for the years 2001 to 2020"
      ]
    },
    {
      "cell_type": "code",
      "execution_count": null,
      "id": "6f1006e3",
      "metadata": {
        "id": "6f1006e3"
      },
      "outputs": [],
      "source": [
        "###########################################################################"
      ]
    },
    {
      "cell_type": "code",
      "execution_count": null,
      "id": "abb0e4b1",
      "metadata": {
        "id": "abb0e4b1"
      },
      "outputs": [],
      "source": [
        "# Task 2 - View the distributions of the various features in the data set and also calculate various measures of dispersion\n",
        "\n",
        "# We will now calculate relevant statistical measures of central tendency and dispersion for each of the agencies\n",
        "# We will also view their investment returns distributions to get a sense of the spread of the values"
      ]
    },
    {
      "cell_type": "code",
      "execution_count": null,
      "id": "0986a421",
      "metadata": {
        "id": "0986a421"
      },
      "outputs": [],
      "source": [
        "# Calculate the mean of the \"George and Wallace\" feature using \".mean()\"\n",
        "########## CODE HERE ##########"
      ]
    },
    {
      "cell_type": "code",
      "execution_count": null,
      "id": "162420ac",
      "metadata": {
        "id": "162420ac"
      },
      "outputs": [],
      "source": [
        "# Calculate the median of the \"George and Wallace\" feature using \".median()\"\n",
        "########## CODE HERE ##########"
      ]
    },
    {
      "cell_type": "code",
      "execution_count": null,
      "id": "350911bf",
      "metadata": {
        "id": "350911bf"
      },
      "outputs": [],
      "source": [
        "# Create a histogram of the \"George and Wallace\" feature and also show the mean and the median\n",
        "plt.figure(figsize = (6, 3), dpi= 100)\n",
        "sns.histplot(data = df, x = 'George and Wallace', color = 'orange', edgecolor = 'linen', alpha = 0.5, bins = 5)\n",
        "plt.vlines(x = df['George and Wallace'].mean(), ymin = 0, ymax = 6, colors = 'blue', label = 'Mean')\n",
        "plt.vlines(x = df['George and Wallace'].median(), ymin = 0, ymax = 6, colors = 'red', label = 'Median')\n",
        "plt.xlim(-20, 20)\n",
        "plt.title('Histogram of Investment Returns for George and Wallace')\n",
        "plt.xlabel('Percent Return in Investment')\n",
        "plt.ylabel('Count')\n",
        "plt.legend();"
      ]
    },
    {
      "cell_type": "code",
      "execution_count": null,
      "id": "4fe64008",
      "metadata": {
        "id": "4fe64008"
      },
      "outputs": [],
      "source": [
        "# Calculate the range of the \"George and Wallace\" feature using \".min()\" and \".max\"\n",
        "# Note: The range is equal to the difference between the maximum and minimum value in a data series\n",
        "########## CODE HERE ##########"
      ]
    },
    {
      "cell_type": "code",
      "execution_count": null,
      "id": "d1d3fcf0",
      "metadata": {
        "id": "d1d3fcf0"
      },
      "outputs": [],
      "source": [
        "# Calculate the mean deviation about the mean for the \"George and Wallace\" feature\n",
        "########## CODE HERE ##########"
      ]
    },
    {
      "cell_type": "code",
      "execution_count": null,
      "id": "b16e3047",
      "metadata": {
        "id": "b16e3047"
      },
      "outputs": [],
      "source": [
        "# Calculate the variance for the \"George and Wallace\" feature using \".var()\"\n",
        "########## CODE HERE ##########"
      ]
    },
    {
      "cell_type": "code",
      "execution_count": null,
      "id": "7bfc3ce2",
      "metadata": {
        "id": "7bfc3ce2"
      },
      "outputs": [],
      "source": [
        "# Calculate the standard deviation for the \"George and Wallace\" feature using \".std()\"\n",
        "########## CODE HERE ##########"
      ]
    },
    {
      "cell_type": "code",
      "execution_count": null,
      "id": "f84bb463",
      "metadata": {
        "id": "f84bb463"
      },
      "outputs": [],
      "source": [
        "# Calculate the mean of the \"Imperial Traders\" feature using \".mean()\"\n",
        "########## CODE HERE ##########"
      ]
    },
    {
      "cell_type": "code",
      "execution_count": null,
      "id": "6315802d",
      "metadata": {
        "id": "6315802d"
      },
      "outputs": [],
      "source": [
        "# Calculate the median of the \"Imperial Traders\" feature using \".median()\"\n",
        "########## CODE HERE ##########"
      ]
    },
    {
      "cell_type": "code",
      "execution_count": null,
      "id": "9f9fa5f5",
      "metadata": {
        "id": "9f9fa5f5"
      },
      "outputs": [],
      "source": [
        "# Create a histogram of the \"Imperial Traders\" feature and also show the mean and the median\n",
        "plt.figure(figsize = (6, 3), dpi= 100)\n",
        "sns.histplot(data = df, x = 'Imperial Traders', color = 'orange', edgecolor = 'linen', alpha = 0.5, bins = 5)\n",
        "plt.vlines(x = df['Imperial Traders'].mean(), ymin = 0, ymax = 9, colors = 'blue', label = 'Mean')\n",
        "plt.vlines(x = df['Imperial Traders'].median(), ymin = 0, ymax = 9, colors = 'red', label = 'Median')\n",
        "plt.xlim(-20, 20)\n",
        "plt.title('Histogram of Investment Returns for Imperial Traders')\n",
        "plt.xlabel('Percent Return in Investment')\n",
        "plt.ylabel('Count')\n",
        "plt.legend();"
      ]
    },
    {
      "cell_type": "code",
      "execution_count": null,
      "id": "fde0b601",
      "metadata": {
        "id": "fde0b601"
      },
      "outputs": [],
      "source": [
        "# Calculate the range of the \"Imperial Traders\" feature using \".min()\" and \".max\"\n",
        "# Note: The range is equal to the difference between the maximum and minimum value in a data series\n",
        "########## CODE HERE ##########"
      ]
    },
    {
      "cell_type": "code",
      "execution_count": null,
      "id": "69a2d63e",
      "metadata": {
        "id": "69a2d63e"
      },
      "outputs": [],
      "source": [
        "# Calculate the mean deviation about the mean for the \"Imperial Traders\" feature\n",
        "########## CODE HERE ##########"
      ]
    },
    {
      "cell_type": "code",
      "execution_count": null,
      "id": "9948e37a",
      "metadata": {
        "id": "9948e37a"
      },
      "outputs": [],
      "source": [
        "# Calculate the variance for the \"Imperial Traders\" feature using \".var()\"\n",
        "########## CODE HERE ##########"
      ]
    },
    {
      "cell_type": "code",
      "execution_count": null,
      "id": "d17938fb",
      "metadata": {
        "id": "d17938fb"
      },
      "outputs": [],
      "source": [
        "# Calculate the standard deviation for the \"Imperial Traders\" feature using \".std()\"\n",
        "########## CODE HERE ##########"
      ]
    },
    {
      "cell_type": "code",
      "execution_count": null,
      "id": "9a6c0a1a",
      "metadata": {
        "id": "9a6c0a1a"
      },
      "outputs": [],
      "source": [
        "# Calculate the mean of the \"High Rise\" feature using \".mean()\"\n",
        "########## CODE HERE ##########"
      ]
    },
    {
      "cell_type": "code",
      "execution_count": null,
      "id": "e3ea895b",
      "metadata": {
        "id": "e3ea895b"
      },
      "outputs": [],
      "source": [
        "# Calculate the median of the \"High Rise\" feature using \".median()\"\n",
        "########## CODE HERE ##########"
      ]
    },
    {
      "cell_type": "code",
      "execution_count": null,
      "id": "72da461a",
      "metadata": {
        "id": "72da461a"
      },
      "outputs": [],
      "source": [
        "# Create a histogram of the \"High Rise\" feature and also show the mean and the median\n",
        "plt.figure(figsize = (6, 3), dpi= 100)\n",
        "sns.histplot(data = df, x = 'High Rise', color = 'orange', edgecolor = 'linen', alpha = 0.5, bins = 5)\n",
        "plt.vlines(x = df['High Rise'].mean(), ymin = 0, ymax = 10, colors = 'blue', label = 'Mean')\n",
        "plt.vlines(x = df['High Rise'].median(), ymin = 0, ymax = 10, colors = 'red', label = 'Median')\n",
        "plt.xlim(-20, 20)\n",
        "plt.title('Histogram of Investment Returns for High Rise')\n",
        "plt.xlabel('Percent Return in Investment')\n",
        "plt.ylabel('Count')\n",
        "plt.legend();"
      ]
    },
    {
      "cell_type": "code",
      "execution_count": null,
      "id": "92d46853",
      "metadata": {
        "id": "92d46853"
      },
      "outputs": [],
      "source": [
        "# Calculate the range of the \"High Rise\" feature using \".min()\" and \".max\"\n",
        "# Note: The range is equal to the difference between the maximum and minimum value in a data series\n",
        "########## CODE HERE ##########"
      ]
    },
    {
      "cell_type": "code",
      "execution_count": null,
      "id": "d05d99a5",
      "metadata": {
        "id": "d05d99a5"
      },
      "outputs": [],
      "source": [
        "# Calculate the mean deviation about the mean for the \"High Rise\" feature using\n",
        "########## CODE HERE ##########"
      ]
    },
    {
      "cell_type": "code",
      "execution_count": null,
      "id": "d6584f9f",
      "metadata": {
        "id": "d6584f9f"
      },
      "outputs": [],
      "source": [
        "# Calculate the variance for the \"High Rise\" feature using \".var()\"\n",
        "########## CODE HERE ##########"
      ]
    },
    {
      "cell_type": "code",
      "execution_count": null,
      "id": "b79aee63",
      "metadata": {
        "id": "b79aee63"
      },
      "outputs": [],
      "source": [
        "# Calculate the standard deviation for the \"High Rise\" feature using \".std()\"\n",
        "########## CODE HERE ##########"
      ]
    },
    {
      "cell_type": "code",
      "execution_count": null,
      "id": "6c7ef6a0",
      "metadata": {
        "id": "6c7ef6a0"
      },
      "outputs": [],
      "source": [
        "# Create a figure with all the relevant plots\n",
        "plt.figure(figsize = (12, 4))\n",
        "\n",
        "plt.subplot(1, 3, 1)\n",
        "sns.histplot(data = df, x = 'George and Wallace', color = 'orange', edgecolor = 'linen', alpha = 0.5, bins = 5)\n",
        "plt.vlines(x = df['George and Wallace'].mean(), ymin = 0, ymax = 6, colors = 'blue', label = 'Mean')\n",
        "plt.vlines(x = df['George and Wallace'].median(), ymin = 0, ymax = 6, colors = 'red', label = 'Median')\n",
        "plt.xlim(-20, 20)\n",
        "plt.title('George and Wallace')\n",
        "plt.xlabel('Percent Return in Investment')\n",
        "plt.ylabel('Count')\n",
        "\n",
        "plt.subplot(1, 3, 2)\n",
        "sns.histplot(data = df, x = 'Imperial Traders', color = 'orange', edgecolor = 'linen', alpha = 0.5, bins = 5)\n",
        "plt.vlines(x = df['Imperial Traders'].mean(), ymin = 0, ymax = 9, colors = 'blue', label = 'Mean')\n",
        "plt.vlines(x = df['Imperial Traders'].median(), ymin = 0, ymax = 9, colors = 'red', label = 'Median')\n",
        "plt.xlim(-20, 20)\n",
        "plt.title('Imperial Traders')\n",
        "plt.xlabel('Percent Return in Investment')\n",
        "plt.ylabel('Count')\n",
        "\n",
        "plt.subplot(1, 3, 3)\n",
        "sns.histplot(data = df, x = 'High Rise', color = 'orange', edgecolor = 'linen', alpha = 0.5, bins = 5)\n",
        "plt.vlines(x = df['High Rise'].mean(), ymin = 0, ymax = 10, colors = 'blue', label = 'Mean')\n",
        "plt.vlines(x = df['High Rise'].median(), ymin = 0, ymax = 10, colors = 'red', label = 'Median')\n",
        "plt.xlim(-20, 20)\n",
        "plt.title('High Rise')\n",
        "plt.xlabel('Percent Return in Investment')\n",
        "plt.ylabel('Count')\n",
        "\n",
        "plt.legend(loc = (1.05, 0.85))\n",
        "\n",
        "plt.tight_layout();"
      ]
    },
    {
      "cell_type": "code",
      "execution_count": null,
      "id": "39ad5575",
      "metadata": {
        "id": "39ad5575"
      },
      "outputs": [],
      "source": [
        "# Observations\n",
        "\n",
        "# The mean investment return percentage of all three agencies is 4 %\n",
        "\n",
        "# The median investment return percentages for the three agencies are as follows:\n",
        "# George and Wallace = 5.45 %\n",
        "# Imperial Traders = 7.65 %\n",
        "# High Rise = 6.55 %\n",
        "\n",
        "# We can use many different measures of dispersion or variability to get a sense of how stable a certain investment is\n",
        "# The standard deviations for the three agencies are as follows:\n",
        "# George and Wallace = 9.49 %\n",
        "# Imperial Traders = 7.98 %\n",
        "# High Rise = 5.3 %\n",
        "\n",
        "# Since the central tendencies of the three different agencies are similar, we can use variability as a measure of stability"
      ]
    },
    {
      "cell_type": "code",
      "execution_count": null,
      "id": "ebe2af63",
      "metadata": {
        "id": "ebe2af63"
      },
      "outputs": [],
      "source": [
        "###########################################################################"
      ]
    },
    {
      "cell_type": "code",
      "execution_count": null,
      "id": "e9ea46e7",
      "metadata": {
        "id": "e9ea46e7"
      },
      "outputs": [],
      "source": [
        "# Task 3 - Create a data frame to compare the variability in the investment returns of the different agencies\n",
        "\n",
        "# We will now compile all the relevant statistical measures for the three agencies into one data frame\n",
        "# We will then assess which agency to invest in based on returns and stability"
      ]
    },
    {
      "cell_type": "code",
      "execution_count": null,
      "id": "e53a6e5c",
      "metadata": {
        "id": "e53a6e5c"
      },
      "outputs": [],
      "source": [
        "# Create a data frame to compare the mean, median and variations for the three companies and store it as \"variations\"\n",
        "# Note: Create three different temporary Pandas Series to store the details for the three different agencies\n",
        "# Note: The \"index\" parameter for these series can be set to \"['Mean', 'Median', 'Range', 'MAD', 'Variance', 'SD']\"\n",
        "# Note: The \"data\" parameter of the three series needs to be a list of the relevant values\n",
        "# Note: The same index needs to be used for the \"index\" parameter of the final data frame \"variations\"\n",
        "# Note: The \"data\" parameter of the data frame \"variations\" needs to be passed in as a dictionary\n",
        "########## CODE HERE ##########"
      ]
    },
    {
      "cell_type": "code",
      "execution_count": null,
      "id": "cf8ca32c",
      "metadata": {
        "id": "cf8ca32c"
      },
      "outputs": [],
      "source": [
        "# View the \"variations\" data frame\n",
        "########## CODE HERE ##########"
      ]
    },
    {
      "cell_type": "code",
      "execution_count": null,
      "id": "718e3ad3",
      "metadata": {
        "id": "718e3ad3"
      },
      "outputs": [],
      "source": [
        "# Observations\n",
        "\n",
        "# The mean investment returns for the three agencies are equal to 4 %\n",
        "# The median investment return percentage for \"George and Wallace\" is the lowest at 5.45 %\n",
        "# The median investment return percentage for \"Imperial Traders\" is the highest at 7.65 %\n",
        "# The lowest variability in investment returns is shown by \"High Rise\" at 5.3 % standard deviation\n",
        "# The highest variablitiy in investment returns is shown by \"George and Wallace\" at 7.98 % standard deviation\n",
        "\n",
        "# Since \"George and Wallace\" has the least median investment return percentage and the highest variability, it can be rejected\n",
        "# The agency \"Imperial Traders\" offers a slightly higher median percentage with a higher variability than \"High Rise\"\n",
        "# The difference in the median percentages of \"Imperial Traders\" and \"High Rise\" is about 1 %\n",
        "# The difference in their standard deviation values is about 2.5 %\n",
        "\n",
        "# As an investor, stability is quite important for longer periods of investment\n",
        "# Keeping this in mind, we could recommend investing in the agency \"High Rise\""
      ]
    },
    {
      "cell_type": "code",
      "execution_count": null,
      "id": "5e533437",
      "metadata": {
        "id": "5e533437"
      },
      "outputs": [],
      "source": [
        "###########################################################################"
      ]
    },
    {
      "cell_type": "code",
      "execution_count": null,
      "id": "1589123c",
      "metadata": {
        "id": "1589123c"
      },
      "outputs": [],
      "source": [
        "# Conclusions\n",
        "\n",
        "# From the given data, we can use simple visualisations to get a sense of how data are distributed\n",
        "# We can use central tendency measures such as the mean and the median to get a sense of the representative value for a group\n",
        "# We can use various measures of variability such as range, mean absolute deviation and standard deviation\n",
        "# These measures help us get a sense of how variable or how stable a group of data is\n",
        "# By looking at these different statistical measures, we can make informed real world decisions"
      ]
    },
    {
      "cell_type": "code",
      "execution_count": null,
      "id": "df1f7600",
      "metadata": {
        "id": "df1f7600"
      },
      "outputs": [],
      "source": [
        "###########################################################################"
      ]
    }
  ],
  "metadata": {
    "kernelspec": {
      "display_name": "Python 3",
      "language": "python",
      "name": "python3"
    },
    "language_info": {
      "codemirror_mode": {
        "name": "ipython",
        "version": 3
      },
      "file_extension": ".py",
      "mimetype": "text/x-python",
      "name": "python",
      "nbconvert_exporter": "python",
      "pygments_lexer": "ipython3",
      "version": "3.8.8"
    },
    "colab": {
      "provenance": []
    }
  },
  "nbformat": 4,
  "nbformat_minor": 5
}