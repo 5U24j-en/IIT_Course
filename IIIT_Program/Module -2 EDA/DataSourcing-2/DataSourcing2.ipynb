{
 "cells": [
  {
   "cell_type": "markdown",
   "id": "505021f2-a14b-41c5-a8de-245c10deaa31",
   "metadata": {},
   "source": [
    "# Using SQL Databases and creating a SQL Database "
   ]
  },
  {
   "cell_type": "code",
   "execution_count": 1,
   "id": "54367f62-ae2c-41d8-aa8e-153c75b3e9ba",
   "metadata": {},
   "outputs": [],
   "source": [
    "import sqlite3\n",
    "import pandas as pd"
   ]
  },
  {
   "cell_type": "markdown",
   "id": "73f5dd00-f269-4b23-9a7e-212dd86aeb6f",
   "metadata": {},
   "source": [
    "## df = pd.read_sql(sql=\"SELECT * FROM users\", con = connection, index_col=\"id\")"
   ]
  },
  {
   "cell_type": "code",
   "execution_count": 6,
   "id": "6c1f192e-2c34-4598-a820-ccf9ed4c9ea8",
   "metadata": {},
   "outputs": [
    {
     "name": "stdout",
     "output_type": "stream",
     "text": [
      "       name  age\n",
      "id              \n",
      "1     Alice   30\n",
      "2       Bob   25\n",
      "3   Charlie   35\n"
     ]
    }
   ],
   "source": [
    "# OPENING THE SQL FILE AND STORING THE QUERY IN A VARIABLE\n",
    "\n",
    "with open(\"/home/diablo/Desktop/IIIT_Program/Module -2 EDA/DataSet-M1/Datasets and Python Notebook for Handling Files/Create database.sql\", \"r\") as f:\n",
    "    sql_script=f.read()\n",
    "\n",
    "# CONNECT TO A SQLite DATABASE IN MEMORY - creating a temporary database in memory\n",
    "\n",
    "connection = sqlite3.connect(\":memory:\")\n",
    "\n",
    "# EXECUTING THE SQL SCRIPT TO CREATE TABLE AND INSERT DATA IN MEMORY\n",
    "\n",
    "connection.executescript(sql_script)\n",
    "\n",
    "# QUERY THE DATA AND LOADING IN DATA FRAME\n",
    "\n",
    "df = pd.read_sql(sql=\"SELECT * FROM users\", con = connection, index_col=\"id\")\n",
    "\n",
    "# OR ----- df = pd.read_sql_query(\"SELECT * FROM users\", connection)  -- This makes the pandas to create index\n",
    "\n",
    "print(df)\n",
    "\n",
    "connection.close()\n"
   ]
  },
  {
   "cell_type": "markdown",
   "id": "d53c53f2-2b6a-4ee2-a4e5-b3750a710dcb",
   "metadata": {},
   "source": [
    "## pd.read_sql_query(\"SELECT * FROM users\", connection)  "
   ]
  },
  {
   "cell_type": "code",
   "execution_count": 5,
   "id": "de0e1269-adc1-4d2a-912a-6e4d3e34ca1f",
   "metadata": {},
   "outputs": [
    {
     "name": "stdout",
     "output_type": "stream",
     "text": [
      "   id     name  age\n",
      "0   1    Alice   30\n",
      "1   2      Bob   25\n",
      "2   3  Charlie   35\n"
     ]
    }
   ],
   "source": [
    "with open(\"/home/diablo/Desktop/IIIT_Program/Module -2 EDA/DataSet-M1/Datasets and Python Notebook for Handling Files/Create database.sql\", \"r\") as f:\n",
    "    sql_script=f.read()\n",
    "\n",
    "# CONNECT TO A SQLite DATABASE IN MEMORY - creating a temporary database in memory\n",
    "\n",
    "connection = sqlite3.connect(\":memory:\")\n",
    "\n",
    "# EXECUTING THE SQL SCRIPT TO CREATE TABLE AND INSERT DATA IN MEMORY\n",
    "\n",
    "connection.executescript(sql_script)\n",
    "\n",
    "# QUERY THE DATA AND LOADING IN DATA FRAME\n",
    "\n",
    "df = pd.read_sql_query(\"SELECT * FROM users\", connection)  \n",
    "\n",
    "print(df)\n",
    "\n",
    "connection.close()"
   ]
  },
  {
   "cell_type": "markdown",
   "id": "a75a4aee-7bc4-423e-8b9d-5f49b917469a",
   "metadata": {},
   "source": [
    "## Wriring DataFrames to SQL tables"
   ]
  },
  {
   "cell_type": "code",
   "execution_count": 11,
   "id": "6007343f-0f02-48fe-bec8-21f61492f8ca",
   "metadata": {},
   "outputs": [
    {
     "name": "stdout",
     "output_type": "stream",
     "text": [
      "Action Complete\n"
     ]
    }
   ],
   "source": [
    "data = {\n",
    "        \"ID\": [213,214,215,216,217],\n",
    "        \"Name\": [\"Bob\",\"Lip\",\"Tammi\",\"Debbie\",\"Frank\"],\n",
    "        \"u_ID\": [\"AX3\",\"LP3\",\"TX4\",\"JB7\",\"OX9\"],\n",
    "        \"Amount\": [2444, 678, 3000, 985, 2001]\n",
    "}\n",
    "\n",
    "df= pd.DataFrame(data)\n",
    "\n",
    "try:\n",
    "    with open(\"dataFrameToSQL_File.sql\", \"w\") as f:\n",
    "        \n",
    "        # This SQL Query Creates the table \n",
    "        \n",
    "        f.write(\"\"\"CREATE TABLE IF NOT EXISTS df_to_SQL(\n",
    "        ID INTEGER PRIMARY KEY,\n",
    "        Name TEXT,\n",
    "        u_ID TEXT,\n",
    "        Amount INTEGER );\\n\\n\"\"\")\n",
    "\n",
    "        # This SQL Query adds the values/rows from the dictonary to SQL file\n",
    "        \n",
    "        for i,row in df.iterrows():\n",
    "            f.write(f\"INSERT INTO df_to_SQL (ID, Name, u_ID, Amount) VALUES({row[\"ID\"]}, '{row[\"Name\"]}', '{row[\"u_ID\"]}', {row[\"Amount\"]}); \\n\")\n",
    "\n",
    "    print(\"Action Complete\")\n",
    "\n",
    "except Exception as e:\n",
    "    print(f\"ERROR while writing to SQL file:= {e}\")\n",
    "\n",
    "    \n",
    "    \n",
    "    "
   ]
  },
  {
   "cell_type": "code",
   "execution_count": null,
   "id": "9afc3f5e-b0d8-44e2-888f-9fd2d73eddfd",
   "metadata": {},
   "outputs": [],
   "source": []
  }
 ],
 "metadata": {
  "kernelspec": {
   "display_name": "Python [conda env:base] *",
   "language": "python",
   "name": "conda-base-py"
  },
  "language_info": {
   "codemirror_mode": {
    "name": "ipython",
    "version": 3
   },
   "file_extension": ".py",
   "mimetype": "text/x-python",
   "name": "python",
   "nbconvert_exporter": "python",
   "pygments_lexer": "ipython3",
   "version": "3.13.5"
  }
 },
 "nbformat": 4,
 "nbformat_minor": 5
}
